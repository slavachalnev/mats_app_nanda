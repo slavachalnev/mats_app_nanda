{
 "cells": [
  {
   "cell_type": "code",
   "execution_count": 1,
   "metadata": {},
   "outputs": [
    {
     "name": "stderr",
     "output_type": "stream",
     "text": [
      "/Users/slava/safety/mats_app_nanda/.venv/lib/python3.9/site-packages/tqdm/auto.py:21: TqdmWarning: IProgress not found. Please update jupyter and ipywidgets. See https://ipywidgets.readthedocs.io/en/stable/user_install.html\n",
      "  from .autonotebook import tqdm as notebook_tqdm\n"
     ]
    }
   ],
   "source": [
    "import torch\n",
    "import transformer_lens\n",
    "from transformer_lens import HookedTransformer\n",
    "from transformer_lens.utils import tokenize_and_concatenate\n",
    "\n",
    "from datasets import load_dataset\n",
    "from torch.utils.data import DataLoader\n",
    "\n",
    "from IPython.display import display\n",
    "import circuitsvis as cv\n",
    "\n",
    "from model import SparseAutoencoder\n",
    "from config import SAEConfig\n",
    "\n",
    "from utils import imshow\n",
    "\n",
    "import plotly.express as px\n",
    "\n"
   ]
  },
  {
   "cell_type": "code",
   "execution_count": 2,
   "metadata": {},
   "outputs": [],
   "source": [
    "device = 'cpu' # keep everything on cpu for now\n",
    "checkpoints_path = \"/Users/slava/fun/pos_sae/converted_checkpoints\" # TODO: move checkpoints to model hub."
   ]
  },
  {
   "cell_type": "code",
   "execution_count": 27,
   "metadata": {},
   "outputs": [],
   "source": [
    "TARGET_FEATURE_LAYER = 11\n",
    "TARGET_FEATURE_ID = 23531\n",
    "ACTIVATION_THRESHOLD = 10.0"
   ]
  },
  {
   "cell_type": "code",
   "execution_count": 3,
   "metadata": {},
   "outputs": [
    {
     "name": "stdout",
     "output_type": "stream",
     "text": [
      "Loaded pretrained model gpt2-small into HookedTransformer\n"
     ]
    }
   ],
   "source": [
    "# load model\n",
    "model = HookedTransformer.from_pretrained('gpt2-small', device=device)\n",
    "\n",
    "# Load the SAEs\n",
    "saes = [] # one for each layer\n",
    "for layer in range(model.cfg.n_layers):\n",
    "    path = f\"{checkpoints_path}/final_sparse_autoencoder_gpt2-small_blocks.{layer}.hook_resid_pre_24576\"\n",
    "    sae = SparseAutoencoder.load_from_pretrained(path, silent=True)\n",
    "    saes.append(sae)"
   ]
  },
  {
   "cell_type": "code",
   "execution_count": 4,
   "metadata": {},
   "outputs": [],
   "source": [
    "### For use with activation patching ###\n",
    "# text = \"the team traveled by\" # bus\n",
    "# text = \"the team succeeded by\" # working together\n",
    "\n",
    "# text = \"the cricket team traveled predominantly by\" # bus\n",
    "# text = \"the cricket team succeeded predominantly by\" # working together\n",
    "###"
   ]
  },
  {
   "cell_type": "code",
   "execution_count": 5,
   "metadata": {},
   "outputs": [],
   "source": [
    "text = \"They raised awareness for the cause by\"\n",
    "\n",
    "tokens = model.tokenizer.encode(text, return_tensors=\"pt\")\n",
    "tokens = torch.cat([torch.tensor([[model.tokenizer.bos_token_id]]), tokens], dim=1) # prepend bos\n",
    "\n",
    "logits, cache = model.run_with_cache(tokens)"
   ]
  },
  {
   "cell_type": "code",
   "execution_count": 6,
   "metadata": {},
   "outputs": [],
   "source": [
    "# display(cv.attention.attention_patterns(\n",
    "#     tokens=model.to_str_tokens(tokens),\n",
    "#     attention=cache['pattern', 11][0],\n",
    "#     attention_head_names=[f\"L0H{i}\" for i in range(12)],\n",
    "# ))"
   ]
  },
  {
   "cell_type": "code",
   "execution_count": 7,
   "metadata": {},
   "outputs": [
    {
     "data": {
      "text/plain": [
       "tensor([ 0.0000,  0.0000,  0.0000,  0.0000,  0.0000,  0.0000,  0.0000, 70.1081])"
      ]
     },
     "execution_count": 7,
     "metadata": {},
     "output_type": "execute_result"
    }
   ],
   "source": [
    "@torch.no_grad()\n",
    "def get_feature_activations(cache, layer, id):\n",
    "    target_f_sae = saes[layer]\n",
    "    _, feature_acts, _, _, _ = target_f_sae(cache['resid_post', layer][0])\n",
    "    target_f_acts = feature_acts[:, id]\n",
    "    return target_f_acts\n",
    "\n",
    "\n",
    "\n",
    "get_feature_activations(cache, TARGET_FEATURE_LAYER, TARGET_FEATURE_ID)"
   ]
  },
  {
   "cell_type": "code",
   "execution_count": 8,
   "metadata": {},
   "outputs": [],
   "source": [
    "def get_grads(layer, id, tokens):\n",
    "    grads = {k: None for k in range(model.cfg.n_layers)}\n",
    "    resid_cache = []\n",
    "\n",
    "    target_f_sae = saes[layer]\n",
    "    target_f_sae.zero_grad()\n",
    "    model.zero_grad()\n",
    "\n",
    "    def back_hook(input, hook):\n",
    "        grads[hook.layer()] = input\n",
    "    \n",
    "    def c_hook(input, hook):\n",
    "        resid_cache.append(input)\n",
    "    \n",
    "    bwd_hooks = [(f\"blocks.{i}.hook_resid_post\", back_hook) for i in range(model.cfg.n_layers)]\n",
    "    cache_hooks = [(f\"blocks.{i}.hook_resid_post\", c_hook) for i in range(model.cfg.n_layers)]\n",
    "\n",
    "    with model.hooks(fwd_hooks=cache_hooks, bwd_hooks=bwd_hooks):\n",
    "        logits = model(tokens)\n",
    "        resid_at_final = resid_cache[-1][0]\n",
    "        _, feature_acts, _, _, _ = saes[layer](resid_at_final)\n",
    "        target_f_acts = feature_acts[:, id]\n",
    "        target_f_acts[-1].backward()\n",
    "    \n",
    "    return grads\n",
    "\n",
    "grad_dict = get_grads(TARGET_FEATURE_LAYER, TARGET_FEATURE_ID, tokens)\n",
    "\n",
    "    "
   ]
  },
  {
   "cell_type": "code",
   "execution_count": 9,
   "metadata": {},
   "outputs": [],
   "source": [
    "### Get the gradient of the target feature wrt residual stream. ###\n",
    "\n",
    "# resid_cache = []\n",
    "# grad_dict = {k: None for k in range(model.cfg.n_layers)}\n",
    "\n",
    "# def back_hook(input, hook):\n",
    "#     # print(hook.layer())\n",
    "#     grad_dict[hook.layer()] = input\n",
    "\n",
    "# def c_hook(input, hook):\n",
    "#     resid_cache.append(input)\n",
    "\n",
    "# bwd_hooks = [(f\"blocks.{i}.hook_resid_post\", back_hook) for i in range(model.cfg.n_layers)]\n",
    "# cache_hooks = [(f\"blocks.{i}.hook_resid_post\", c_hook) for i in range(model.cfg.n_layers)]\n",
    "\n",
    "\n",
    "# with model.hooks(fwd_hooks=cache_hooks, bwd_hooks=bwd_hooks):\n",
    "#     logits = model(tokens)\n",
    "#     resid_at_final = resid_cache[-1][0]\n",
    "#     _, feature_acts, _, _, _ = saes[TARGET_FEATURE_LAYER](resid_at_final)\n",
    "#     target_f_acts = feature_acts[:, TARGET_FEATURE_ID]\n",
    "#     target_f_acts[-1].backward()\n"
   ]
  },
  {
   "cell_type": "code",
   "execution_count": 10,
   "metadata": {},
   "outputs": [
    {
     "data": {
      "application/vnd.plotly.v1+json": {
       "config": {
        "plotlyServerURL": "https://plot.ly",
        "staticPlot": false
       },
       "data": [
        {
         "coloraxis": "coloraxis",
         "hovertemplate": "Position: %{x}<br>Layer: %{y}<br>color: %{z}<extra></extra>",
         "name": "0",
         "type": "heatmap",
         "x": [
          "<|endoftext|>",
          "They",
          " raised",
          " awareness",
          " for",
          " the",
          " cause",
          " by"
         ],
         "xaxis": "x",
         "yaxis": "y",
         "z": [
          [
           13.58842658996582,
           19.895544052124023,
           24.058015823364258,
           33.545310974121094,
           11.343399047851562,
           9.573594093322754,
           16.80988311767578,
           83.76639556884766
          ],
          [
           8.780996322631836,
           25.008411407470703,
           36.25274658203125,
           45.121742248535156,
           20.502471923828125,
           17.662622451782227,
           25.86086082458496,
           103.97058868408203
          ],
          [
           7.504308700561523,
           27.141883850097656,
           35.21853256225586,
           50.61311721801758,
           26.308944702148438,
           16.480789184570312,
           24.64216423034668,
           115.78010559082031
          ],
          [
           7.3305840492248535,
           26.898847579956055,
           26.996200561523438,
           47.00212860107422,
           26.64484405517578,
           11.904422760009766,
           19.66876792907715,
           113.07325744628906
          ],
          [
           7.218583106994629,
           20.062835693359375,
           24.338335037231445,
           45.421791076660156,
           26.13898468017578,
           8.798893928527832,
           16.16238021850586,
           112.75889587402344
          ],
          [
           7.019059181213379,
           17.281238555908203,
           21.37720489501953,
           32.097984313964844,
           18.788606643676758,
           8.54669189453125,
           12.926146507263184,
           113.2226791381836
          ],
          [
           6.6818389892578125,
           14.051651954650879,
           10.834105491638184,
           22.661088943481445,
           8.318937301635742,
           3.9567625522613525,
           7.9800519943237305,
           107.64219665527344
          ],
          [
           5.615863800048828,
           9.799640655517578,
           8.12542724609375,
           9.792278289794922,
           4.67018461227417,
           3.9166107177734375,
           6.885855674743652,
           95.8910903930664
          ],
          [
           5.104408264160156,
           5.932499885559082,
           5.93363094329834,
           5.524953842163086,
           3.394676446914673,
           2.7582340240478516,
           4.555080890655518,
           89.6926498413086
          ],
          [
           4.021186351776123,
           5.347677230834961,
           4.868999481201172,
           2.7654714584350586,
           3.106971502304077,
           2.7127881050109863,
           2.7995762825012207,
           85.43022155761719
          ],
          [
           2.6946213245391846,
           5.150217533111572,
           3.26908540725708,
           2.3282711505889893,
           2.863821268081665,
           2.766637086868286,
           2.209892988204956,
           84.42190551757812
          ]
         ]
        }
       ],
       "layout": {
        "coloraxis": {
         "cmid": 0,
         "colorscale": [
          [
           0,
           "rgb(103,0,31)"
          ],
          [
           0.1,
           "rgb(178,24,43)"
          ],
          [
           0.2,
           "rgb(214,96,77)"
          ],
          [
           0.3,
           "rgb(244,165,130)"
          ],
          [
           0.4,
           "rgb(253,219,199)"
          ],
          [
           0.5,
           "rgb(247,247,247)"
          ],
          [
           0.6,
           "rgb(209,229,240)"
          ],
          [
           0.7,
           "rgb(146,197,222)"
          ],
          [
           0.8,
           "rgb(67,147,195)"
          ],
          [
           0.9,
           "rgb(33,102,172)"
          ],
          [
           1,
           "rgb(5,48,97)"
          ]
         ]
        },
        "height": 600,
        "margin": {
         "t": 60
        },
        "template": {
         "data": {
          "bar": [
           {
            "error_x": {
             "color": "#2a3f5f"
            },
            "error_y": {
             "color": "#2a3f5f"
            },
            "marker": {
             "line": {
              "color": "#E5ECF6",
              "width": 0.5
             },
             "pattern": {
              "fillmode": "overlay",
              "size": 10,
              "solidity": 0.2
             }
            },
            "type": "bar"
           }
          ],
          "barpolar": [
           {
            "marker": {
             "line": {
              "color": "#E5ECF6",
              "width": 0.5
             },
             "pattern": {
              "fillmode": "overlay",
              "size": 10,
              "solidity": 0.2
             }
            },
            "type": "barpolar"
           }
          ],
          "carpet": [
           {
            "aaxis": {
             "endlinecolor": "#2a3f5f",
             "gridcolor": "white",
             "linecolor": "white",
             "minorgridcolor": "white",
             "startlinecolor": "#2a3f5f"
            },
            "baxis": {
             "endlinecolor": "#2a3f5f",
             "gridcolor": "white",
             "linecolor": "white",
             "minorgridcolor": "white",
             "startlinecolor": "#2a3f5f"
            },
            "type": "carpet"
           }
          ],
          "choropleth": [
           {
            "colorbar": {
             "outlinewidth": 0,
             "ticks": ""
            },
            "type": "choropleth"
           }
          ],
          "contour": [
           {
            "colorbar": {
             "outlinewidth": 0,
             "ticks": ""
            },
            "colorscale": [
             [
              0,
              "#0d0887"
             ],
             [
              0.1111111111111111,
              "#46039f"
             ],
             [
              0.2222222222222222,
              "#7201a8"
             ],
             [
              0.3333333333333333,
              "#9c179e"
             ],
             [
              0.4444444444444444,
              "#bd3786"
             ],
             [
              0.5555555555555556,
              "#d8576b"
             ],
             [
              0.6666666666666666,
              "#ed7953"
             ],
             [
              0.7777777777777778,
              "#fb9f3a"
             ],
             [
              0.8888888888888888,
              "#fdca26"
             ],
             [
              1,
              "#f0f921"
             ]
            ],
            "type": "contour"
           }
          ],
          "contourcarpet": [
           {
            "colorbar": {
             "outlinewidth": 0,
             "ticks": ""
            },
            "type": "contourcarpet"
           }
          ],
          "heatmap": [
           {
            "colorbar": {
             "outlinewidth": 0,
             "ticks": ""
            },
            "colorscale": [
             [
              0,
              "#0d0887"
             ],
             [
              0.1111111111111111,
              "#46039f"
             ],
             [
              0.2222222222222222,
              "#7201a8"
             ],
             [
              0.3333333333333333,
              "#9c179e"
             ],
             [
              0.4444444444444444,
              "#bd3786"
             ],
             [
              0.5555555555555556,
              "#d8576b"
             ],
             [
              0.6666666666666666,
              "#ed7953"
             ],
             [
              0.7777777777777778,
              "#fb9f3a"
             ],
             [
              0.8888888888888888,
              "#fdca26"
             ],
             [
              1,
              "#f0f921"
             ]
            ],
            "type": "heatmap"
           }
          ],
          "heatmapgl": [
           {
            "colorbar": {
             "outlinewidth": 0,
             "ticks": ""
            },
            "colorscale": [
             [
              0,
              "#0d0887"
             ],
             [
              0.1111111111111111,
              "#46039f"
             ],
             [
              0.2222222222222222,
              "#7201a8"
             ],
             [
              0.3333333333333333,
              "#9c179e"
             ],
             [
              0.4444444444444444,
              "#bd3786"
             ],
             [
              0.5555555555555556,
              "#d8576b"
             ],
             [
              0.6666666666666666,
              "#ed7953"
             ],
             [
              0.7777777777777778,
              "#fb9f3a"
             ],
             [
              0.8888888888888888,
              "#fdca26"
             ],
             [
              1,
              "#f0f921"
             ]
            ],
            "type": "heatmapgl"
           }
          ],
          "histogram": [
           {
            "marker": {
             "pattern": {
              "fillmode": "overlay",
              "size": 10,
              "solidity": 0.2
             }
            },
            "type": "histogram"
           }
          ],
          "histogram2d": [
           {
            "colorbar": {
             "outlinewidth": 0,
             "ticks": ""
            },
            "colorscale": [
             [
              0,
              "#0d0887"
             ],
             [
              0.1111111111111111,
              "#46039f"
             ],
             [
              0.2222222222222222,
              "#7201a8"
             ],
             [
              0.3333333333333333,
              "#9c179e"
             ],
             [
              0.4444444444444444,
              "#bd3786"
             ],
             [
              0.5555555555555556,
              "#d8576b"
             ],
             [
              0.6666666666666666,
              "#ed7953"
             ],
             [
              0.7777777777777778,
              "#fb9f3a"
             ],
             [
              0.8888888888888888,
              "#fdca26"
             ],
             [
              1,
              "#f0f921"
             ]
            ],
            "type": "histogram2d"
           }
          ],
          "histogram2dcontour": [
           {
            "colorbar": {
             "outlinewidth": 0,
             "ticks": ""
            },
            "colorscale": [
             [
              0,
              "#0d0887"
             ],
             [
              0.1111111111111111,
              "#46039f"
             ],
             [
              0.2222222222222222,
              "#7201a8"
             ],
             [
              0.3333333333333333,
              "#9c179e"
             ],
             [
              0.4444444444444444,
              "#bd3786"
             ],
             [
              0.5555555555555556,
              "#d8576b"
             ],
             [
              0.6666666666666666,
              "#ed7953"
             ],
             [
              0.7777777777777778,
              "#fb9f3a"
             ],
             [
              0.8888888888888888,
              "#fdca26"
             ],
             [
              1,
              "#f0f921"
             ]
            ],
            "type": "histogram2dcontour"
           }
          ],
          "mesh3d": [
           {
            "colorbar": {
             "outlinewidth": 0,
             "ticks": ""
            },
            "type": "mesh3d"
           }
          ],
          "parcoords": [
           {
            "line": {
             "colorbar": {
              "outlinewidth": 0,
              "ticks": ""
             }
            },
            "type": "parcoords"
           }
          ],
          "pie": [
           {
            "automargin": true,
            "type": "pie"
           }
          ],
          "scatter": [
           {
            "fillpattern": {
             "fillmode": "overlay",
             "size": 10,
             "solidity": 0.2
            },
            "type": "scatter"
           }
          ],
          "scatter3d": [
           {
            "line": {
             "colorbar": {
              "outlinewidth": 0,
              "ticks": ""
             }
            },
            "marker": {
             "colorbar": {
              "outlinewidth": 0,
              "ticks": ""
             }
            },
            "type": "scatter3d"
           }
          ],
          "scattercarpet": [
           {
            "marker": {
             "colorbar": {
              "outlinewidth": 0,
              "ticks": ""
             }
            },
            "type": "scattercarpet"
           }
          ],
          "scattergeo": [
           {
            "marker": {
             "colorbar": {
              "outlinewidth": 0,
              "ticks": ""
             }
            },
            "type": "scattergeo"
           }
          ],
          "scattergl": [
           {
            "marker": {
             "colorbar": {
              "outlinewidth": 0,
              "ticks": ""
             }
            },
            "type": "scattergl"
           }
          ],
          "scattermapbox": [
           {
            "marker": {
             "colorbar": {
              "outlinewidth": 0,
              "ticks": ""
             }
            },
            "type": "scattermapbox"
           }
          ],
          "scatterpolar": [
           {
            "marker": {
             "colorbar": {
              "outlinewidth": 0,
              "ticks": ""
             }
            },
            "type": "scatterpolar"
           }
          ],
          "scatterpolargl": [
           {
            "marker": {
             "colorbar": {
              "outlinewidth": 0,
              "ticks": ""
             }
            },
            "type": "scatterpolargl"
           }
          ],
          "scatterternary": [
           {
            "marker": {
             "colorbar": {
              "outlinewidth": 0,
              "ticks": ""
             }
            },
            "type": "scatterternary"
           }
          ],
          "surface": [
           {
            "colorbar": {
             "outlinewidth": 0,
             "ticks": ""
            },
            "colorscale": [
             [
              0,
              "#0d0887"
             ],
             [
              0.1111111111111111,
              "#46039f"
             ],
             [
              0.2222222222222222,
              "#7201a8"
             ],
             [
              0.3333333333333333,
              "#9c179e"
             ],
             [
              0.4444444444444444,
              "#bd3786"
             ],
             [
              0.5555555555555556,
              "#d8576b"
             ],
             [
              0.6666666666666666,
              "#ed7953"
             ],
             [
              0.7777777777777778,
              "#fb9f3a"
             ],
             [
              0.8888888888888888,
              "#fdca26"
             ],
             [
              1,
              "#f0f921"
             ]
            ],
            "type": "surface"
           }
          ],
          "table": [
           {
            "cells": {
             "fill": {
              "color": "#EBF0F8"
             },
             "line": {
              "color": "white"
             }
            },
            "header": {
             "fill": {
              "color": "#C8D4E3"
             },
             "line": {
              "color": "white"
             }
            },
            "type": "table"
           }
          ]
         },
         "layout": {
          "annotationdefaults": {
           "arrowcolor": "#2a3f5f",
           "arrowhead": 0,
           "arrowwidth": 1
          },
          "autotypenumbers": "strict",
          "coloraxis": {
           "colorbar": {
            "outlinewidth": 0,
            "ticks": ""
           }
          },
          "colorscale": {
           "diverging": [
            [
             0,
             "#8e0152"
            ],
            [
             0.1,
             "#c51b7d"
            ],
            [
             0.2,
             "#de77ae"
            ],
            [
             0.3,
             "#f1b6da"
            ],
            [
             0.4,
             "#fde0ef"
            ],
            [
             0.5,
             "#f7f7f7"
            ],
            [
             0.6,
             "#e6f5d0"
            ],
            [
             0.7,
             "#b8e186"
            ],
            [
             0.8,
             "#7fbc41"
            ],
            [
             0.9,
             "#4d9221"
            ],
            [
             1,
             "#276419"
            ]
           ],
           "sequential": [
            [
             0,
             "#0d0887"
            ],
            [
             0.1111111111111111,
             "#46039f"
            ],
            [
             0.2222222222222222,
             "#7201a8"
            ],
            [
             0.3333333333333333,
             "#9c179e"
            ],
            [
             0.4444444444444444,
             "#bd3786"
            ],
            [
             0.5555555555555556,
             "#d8576b"
            ],
            [
             0.6666666666666666,
             "#ed7953"
            ],
            [
             0.7777777777777778,
             "#fb9f3a"
            ],
            [
             0.8888888888888888,
             "#fdca26"
            ],
            [
             1,
             "#f0f921"
            ]
           ],
           "sequentialminus": [
            [
             0,
             "#0d0887"
            ],
            [
             0.1111111111111111,
             "#46039f"
            ],
            [
             0.2222222222222222,
             "#7201a8"
            ],
            [
             0.3333333333333333,
             "#9c179e"
            ],
            [
             0.4444444444444444,
             "#bd3786"
            ],
            [
             0.5555555555555556,
             "#d8576b"
            ],
            [
             0.6666666666666666,
             "#ed7953"
            ],
            [
             0.7777777777777778,
             "#fb9f3a"
            ],
            [
             0.8888888888888888,
             "#fdca26"
            ],
            [
             1,
             "#f0f921"
            ]
           ]
          },
          "colorway": [
           "#636efa",
           "#EF553B",
           "#00cc96",
           "#ab63fa",
           "#FFA15A",
           "#19d3f3",
           "#FF6692",
           "#B6E880",
           "#FF97FF",
           "#FECB52"
          ],
          "font": {
           "color": "#2a3f5f"
          },
          "geo": {
           "bgcolor": "white",
           "lakecolor": "white",
           "landcolor": "#E5ECF6",
           "showlakes": true,
           "showland": true,
           "subunitcolor": "white"
          },
          "hoverlabel": {
           "align": "left"
          },
          "hovermode": "closest",
          "mapbox": {
           "style": "light"
          },
          "paper_bgcolor": "white",
          "plot_bgcolor": "#E5ECF6",
          "polar": {
           "angularaxis": {
            "gridcolor": "white",
            "linecolor": "white",
            "ticks": ""
           },
           "bgcolor": "#E5ECF6",
           "radialaxis": {
            "gridcolor": "white",
            "linecolor": "white",
            "ticks": ""
           }
          },
          "scene": {
           "xaxis": {
            "backgroundcolor": "#E5ECF6",
            "gridcolor": "white",
            "gridwidth": 2,
            "linecolor": "white",
            "showbackground": true,
            "ticks": "",
            "zerolinecolor": "white"
           },
           "yaxis": {
            "backgroundcolor": "#E5ECF6",
            "gridcolor": "white",
            "gridwidth": 2,
            "linecolor": "white",
            "showbackground": true,
            "ticks": "",
            "zerolinecolor": "white"
           },
           "zaxis": {
            "backgroundcolor": "#E5ECF6",
            "gridcolor": "white",
            "gridwidth": 2,
            "linecolor": "white",
            "showbackground": true,
            "ticks": "",
            "zerolinecolor": "white"
           }
          },
          "shapedefaults": {
           "line": {
            "color": "#2a3f5f"
           }
          },
          "ternary": {
           "aaxis": {
            "gridcolor": "white",
            "linecolor": "white",
            "ticks": ""
           },
           "baxis": {
            "gridcolor": "white",
            "linecolor": "white",
            "ticks": ""
           },
           "bgcolor": "#E5ECF6",
           "caxis": {
            "gridcolor": "white",
            "linecolor": "white",
            "ticks": ""
           }
          },
          "title": {
           "x": 0.05
          },
          "xaxis": {
           "automargin": true,
           "gridcolor": "white",
           "linecolor": "white",
           "ticks": "",
           "title": {
            "standoff": 15
           },
           "zerolinecolor": "white",
           "zerolinewidth": 2
          },
          "yaxis": {
           "automargin": true,
           "gridcolor": "white",
           "linecolor": "white",
           "ticks": "",
           "title": {
            "standoff": 15
           },
           "zerolinecolor": "white",
           "zerolinewidth": 2
          }
         }
        },
        "width": 800,
        "xaxis": {
         "anchor": "y",
         "constrain": "domain",
         "domain": [
          0,
          1
         ],
         "scaleanchor": "y",
         "title": {
          "text": "Position"
         }
        },
        "yaxis": {
         "anchor": "x",
         "autorange": "reversed",
         "constrain": "domain",
         "domain": [
          0,
          1
         ],
         "title": {
          "text": "Layer"
         }
        }
       }
      }
     },
     "metadata": {},
     "output_type": "display_data"
    }
   ],
   "source": [
    "def plot_grads():\n",
    "    all_grads = []\n",
    "    for k, v in grad_dict.items():\n",
    "        if v is not None:\n",
    "            all_grads.append(v[0])\n",
    "\n",
    "\n",
    "    all_grads = torch.stack(all_grads)\n",
    "    grad_heatmap = all_grads.abs().sum(dim=-1)\n",
    "\n",
    "    labels = [f\"{tok}\" for i, tok in enumerate(model.to_str_tokens(tokens[0]))]\n",
    "    imshow(grad_heatmap, labels={\"x\": \"Position\", \"y\": \"Layer\"},x=labels, width=800, height=600)\n",
    "\n",
    "\n",
    "plot_grads()"
   ]
  },
  {
   "cell_type": "code",
   "execution_count": 11,
   "metadata": {},
   "outputs": [],
   "source": [
    "@torch.no_grad()\n",
    "def attribution_for_position(layer, position, cache, grad_dict):\n",
    "    sae = saes[layer]\n",
    "    resid_grad = grad_dict[layer][0][position] # d_model vector\n",
    "    grads_along_feats = sae.W_dec @ resid_grad # 24576 dim vector\n",
    "\n",
    "    # compute attribution by multiplying grads_along_feats by feature activations.\n",
    "    _, feature_acts, _, _, _ = saes[layer](cache['resid_post', layer][0])\n",
    "    feature_acts = feature_acts[position] # 24576 dim vector\n",
    "    attribution = grads_along_feats * feature_acts\n",
    "    return attribution # 24576 dim vector\n",
    "\n",
    "# attribution = attribution_for_position(10, 7, cache, grad_dict)\n",
    "\n",
    "# top = attribution.argsort(descending=True)[:5]\n",
    "# print('pos attributions')\n",
    "# print(top)\n",
    "# print(attribution[top])\n",
    "# print()\n",
    "\n",
    "# min = attribution.argsort()[:5]\n",
    "# print('neg attributions')\n",
    "# print(min)\n",
    "# print(attribution[min])\n"
   ]
  },
  {
   "cell_type": "code",
   "execution_count": 12,
   "metadata": {},
   "outputs": [
    {
     "data": {
      "application/vnd.plotly.v1+json": {
       "config": {
        "plotlyServerURL": "https://plot.ly",
        "staticPlot": false
       },
       "data": [
        {
         "coloraxis": "coloraxis",
         "hovertemplate": "Position: %{x}<br>Layer: %{y}<br>color: %{z}<extra></extra>",
         "name": "0",
         "text": [
          [
           "6574",
           "2996",
           "16482",
           "18016",
           "98",
           "22161",
           "1701",
           "12392"
          ],
          [
           "4012",
           "14600",
           "23577",
           "6049",
           "8776",
           "6051",
           "12261",
           "16873"
          ],
          [
           "9510",
           "10836",
           "20133",
           "18079",
           "1148",
           "17688",
           "14901",
           "22032"
          ],
          [
           "0",
           "14468",
           "15621",
           "3756",
           "22244",
           "1899",
           "22224",
           "4271"
          ],
          [
           "22722",
           "3103",
           "5939",
           "24334",
           "12922",
           "12540",
           "16459",
           "5899"
          ],
          [
           "3705",
           "23139",
           "20291",
           "21282",
           "22043",
           "22109",
           "19740",
           "818"
          ],
          [
           "16383",
           "21687",
           "1622",
           "16898",
           "11391",
           "13587",
           "15119",
           "6318"
          ],
          [
           "758",
           "20055",
           "828",
           "11689",
           "22995",
           "15053",
           "13282",
           "17620"
          ],
          [
           "7994",
           "21306",
           "21360",
           "19551",
           "14340",
           "495",
           "4818",
           "19235"
          ],
          [
           "18635",
           "17638",
           "3376",
           "10800",
           "4632",
           "20733",
           "631",
           "24096"
          ],
          [
           "13352",
           "14924",
           "22214",
           "15503",
           "8360",
           "1045",
           "10241",
           "9960"
          ]
         ],
         "textfont": {
          "size": 12
         },
         "texttemplate": "%{text}",
         "type": "heatmap",
         "x": [
          "<|endoftext|>",
          "They",
          " raised",
          " awareness",
          " for",
          " the",
          " cause",
          " by"
         ],
         "xaxis": "x",
         "yaxis": "y",
         "z": [
          [
           1.3796175718307495,
           0.7581272721290588,
           0.7577084898948669,
           1.3439198732376099,
           0.28743383288383484,
           0.15896788239479065,
           0.4005988836288452,
           2.862882614135742
          ],
          [
           7.849632263183594,
           0.3072787821292877,
           3.394531011581421,
           0.39126184582710266,
           0.08727746456861496,
           4.937315940856934,
           0.10904046148061752,
           21.34681510925293
          ],
          [
           16.28036117553711,
           0.5844137668609619,
           1.8376588821411133,
           0.48444893956184387,
           0.6135076880455017,
           5.2341718673706055,
           1.83820378780365,
           21.736013412475586
          ],
          [
           0,
           1.147347331047058,
           1.6693108081817627,
           0.9108220934867859,
           1.181746006011963,
           3.654845952987671,
           0.0826539397239685,
           20.237789154052734
          ],
          [
           0.026560362428426743,
           0.3698861598968506,
           1.871431827545166,
           0.7644389271736145,
           2.0133137702941895,
           1.30471932888031,
           1.1417831182479858,
           21.858964920043945
          ],
          [
           0.058722250163555145,
           0.20471541583538055,
           1.7087953090667725,
           1.0682657957077026,
           0.6634863615036011,
           0.30461788177490234,
           0.5801984667778015,
           22.128158569335938
          ],
          [
           0.1380879133939743,
           0.09576641023159027,
           0.9879204034805298,
           0.34007662534713745,
           0.2583688795566559,
           0.15933410823345184,
           0.34601664543151855,
           30.45932388305664
          ],
          [
           0.006323746871203184,
           0.1826465129852295,
           0.8601080775260925,
           0.13871443271636963,
           0.0941847562789917,
           0.1623777151107788,
           0.3751777112483978,
           22.2972469329834
          ],
          [
           0.015855994075536728,
           0.0994514524936676,
           0.7270110249519348,
           0.16863968968391418,
           0.045670751482248306,
           0.07618038356304169,
           0.1212182268500328,
           44.085166931152344
          ],
          [
           0.012315732426941395,
           0.06481059640645981,
           0.44756829738616943,
           0.11758583784103394,
           0.04137207195162773,
           0.08004198223352432,
           0.04382876679301262,
           45.8372917175293
          ],
          [
           0.005134623032063246,
           0.34300485253334045,
           0.14913976192474365,
           0.051065318286418915,
           0.15660685300827026,
           0.12512876093387604,
           0.15977923572063446,
           60.99454116821289
          ]
         ]
        }
       ],
       "layout": {
        "coloraxis": {
         "cmid": 0,
         "colorscale": [
          [
           0,
           "rgb(103,0,31)"
          ],
          [
           0.1,
           "rgb(178,24,43)"
          ],
          [
           0.2,
           "rgb(214,96,77)"
          ],
          [
           0.3,
           "rgb(244,165,130)"
          ],
          [
           0.4,
           "rgb(253,219,199)"
          ],
          [
           0.5,
           "rgb(247,247,247)"
          ],
          [
           0.6,
           "rgb(209,229,240)"
          ],
          [
           0.7,
           "rgb(146,197,222)"
          ],
          [
           0.8,
           "rgb(67,147,195)"
          ],
          [
           0.9,
           "rgb(33,102,172)"
          ],
          [
           1,
           "rgb(5,48,97)"
          ]
         ]
        },
        "height": 600,
        "margin": {
         "t": 60
        },
        "template": {
         "data": {
          "bar": [
           {
            "error_x": {
             "color": "#2a3f5f"
            },
            "error_y": {
             "color": "#2a3f5f"
            },
            "marker": {
             "line": {
              "color": "#E5ECF6",
              "width": 0.5
             },
             "pattern": {
              "fillmode": "overlay",
              "size": 10,
              "solidity": 0.2
             }
            },
            "type": "bar"
           }
          ],
          "barpolar": [
           {
            "marker": {
             "line": {
              "color": "#E5ECF6",
              "width": 0.5
             },
             "pattern": {
              "fillmode": "overlay",
              "size": 10,
              "solidity": 0.2
             }
            },
            "type": "barpolar"
           }
          ],
          "carpet": [
           {
            "aaxis": {
             "endlinecolor": "#2a3f5f",
             "gridcolor": "white",
             "linecolor": "white",
             "minorgridcolor": "white",
             "startlinecolor": "#2a3f5f"
            },
            "baxis": {
             "endlinecolor": "#2a3f5f",
             "gridcolor": "white",
             "linecolor": "white",
             "minorgridcolor": "white",
             "startlinecolor": "#2a3f5f"
            },
            "type": "carpet"
           }
          ],
          "choropleth": [
           {
            "colorbar": {
             "outlinewidth": 0,
             "ticks": ""
            },
            "type": "choropleth"
           }
          ],
          "contour": [
           {
            "colorbar": {
             "outlinewidth": 0,
             "ticks": ""
            },
            "colorscale": [
             [
              0,
              "#0d0887"
             ],
             [
              0.1111111111111111,
              "#46039f"
             ],
             [
              0.2222222222222222,
              "#7201a8"
             ],
             [
              0.3333333333333333,
              "#9c179e"
             ],
             [
              0.4444444444444444,
              "#bd3786"
             ],
             [
              0.5555555555555556,
              "#d8576b"
             ],
             [
              0.6666666666666666,
              "#ed7953"
             ],
             [
              0.7777777777777778,
              "#fb9f3a"
             ],
             [
              0.8888888888888888,
              "#fdca26"
             ],
             [
              1,
              "#f0f921"
             ]
            ],
            "type": "contour"
           }
          ],
          "contourcarpet": [
           {
            "colorbar": {
             "outlinewidth": 0,
             "ticks": ""
            },
            "type": "contourcarpet"
           }
          ],
          "heatmap": [
           {
            "colorbar": {
             "outlinewidth": 0,
             "ticks": ""
            },
            "colorscale": [
             [
              0,
              "#0d0887"
             ],
             [
              0.1111111111111111,
              "#46039f"
             ],
             [
              0.2222222222222222,
              "#7201a8"
             ],
             [
              0.3333333333333333,
              "#9c179e"
             ],
             [
              0.4444444444444444,
              "#bd3786"
             ],
             [
              0.5555555555555556,
              "#d8576b"
             ],
             [
              0.6666666666666666,
              "#ed7953"
             ],
             [
              0.7777777777777778,
              "#fb9f3a"
             ],
             [
              0.8888888888888888,
              "#fdca26"
             ],
             [
              1,
              "#f0f921"
             ]
            ],
            "type": "heatmap"
           }
          ],
          "heatmapgl": [
           {
            "colorbar": {
             "outlinewidth": 0,
             "ticks": ""
            },
            "colorscale": [
             [
              0,
              "#0d0887"
             ],
             [
              0.1111111111111111,
              "#46039f"
             ],
             [
              0.2222222222222222,
              "#7201a8"
             ],
             [
              0.3333333333333333,
              "#9c179e"
             ],
             [
              0.4444444444444444,
              "#bd3786"
             ],
             [
              0.5555555555555556,
              "#d8576b"
             ],
             [
              0.6666666666666666,
              "#ed7953"
             ],
             [
              0.7777777777777778,
              "#fb9f3a"
             ],
             [
              0.8888888888888888,
              "#fdca26"
             ],
             [
              1,
              "#f0f921"
             ]
            ],
            "type": "heatmapgl"
           }
          ],
          "histogram": [
           {
            "marker": {
             "pattern": {
              "fillmode": "overlay",
              "size": 10,
              "solidity": 0.2
             }
            },
            "type": "histogram"
           }
          ],
          "histogram2d": [
           {
            "colorbar": {
             "outlinewidth": 0,
             "ticks": ""
            },
            "colorscale": [
             [
              0,
              "#0d0887"
             ],
             [
              0.1111111111111111,
              "#46039f"
             ],
             [
              0.2222222222222222,
              "#7201a8"
             ],
             [
              0.3333333333333333,
              "#9c179e"
             ],
             [
              0.4444444444444444,
              "#bd3786"
             ],
             [
              0.5555555555555556,
              "#d8576b"
             ],
             [
              0.6666666666666666,
              "#ed7953"
             ],
             [
              0.7777777777777778,
              "#fb9f3a"
             ],
             [
              0.8888888888888888,
              "#fdca26"
             ],
             [
              1,
              "#f0f921"
             ]
            ],
            "type": "histogram2d"
           }
          ],
          "histogram2dcontour": [
           {
            "colorbar": {
             "outlinewidth": 0,
             "ticks": ""
            },
            "colorscale": [
             [
              0,
              "#0d0887"
             ],
             [
              0.1111111111111111,
              "#46039f"
             ],
             [
              0.2222222222222222,
              "#7201a8"
             ],
             [
              0.3333333333333333,
              "#9c179e"
             ],
             [
              0.4444444444444444,
              "#bd3786"
             ],
             [
              0.5555555555555556,
              "#d8576b"
             ],
             [
              0.6666666666666666,
              "#ed7953"
             ],
             [
              0.7777777777777778,
              "#fb9f3a"
             ],
             [
              0.8888888888888888,
              "#fdca26"
             ],
             [
              1,
              "#f0f921"
             ]
            ],
            "type": "histogram2dcontour"
           }
          ],
          "mesh3d": [
           {
            "colorbar": {
             "outlinewidth": 0,
             "ticks": ""
            },
            "type": "mesh3d"
           }
          ],
          "parcoords": [
           {
            "line": {
             "colorbar": {
              "outlinewidth": 0,
              "ticks": ""
             }
            },
            "type": "parcoords"
           }
          ],
          "pie": [
           {
            "automargin": true,
            "type": "pie"
           }
          ],
          "scatter": [
           {
            "fillpattern": {
             "fillmode": "overlay",
             "size": 10,
             "solidity": 0.2
            },
            "type": "scatter"
           }
          ],
          "scatter3d": [
           {
            "line": {
             "colorbar": {
              "outlinewidth": 0,
              "ticks": ""
             }
            },
            "marker": {
             "colorbar": {
              "outlinewidth": 0,
              "ticks": ""
             }
            },
            "type": "scatter3d"
           }
          ],
          "scattercarpet": [
           {
            "marker": {
             "colorbar": {
              "outlinewidth": 0,
              "ticks": ""
             }
            },
            "type": "scattercarpet"
           }
          ],
          "scattergeo": [
           {
            "marker": {
             "colorbar": {
              "outlinewidth": 0,
              "ticks": ""
             }
            },
            "type": "scattergeo"
           }
          ],
          "scattergl": [
           {
            "marker": {
             "colorbar": {
              "outlinewidth": 0,
              "ticks": ""
             }
            },
            "type": "scattergl"
           }
          ],
          "scattermapbox": [
           {
            "marker": {
             "colorbar": {
              "outlinewidth": 0,
              "ticks": ""
             }
            },
            "type": "scattermapbox"
           }
          ],
          "scatterpolar": [
           {
            "marker": {
             "colorbar": {
              "outlinewidth": 0,
              "ticks": ""
             }
            },
            "type": "scatterpolar"
           }
          ],
          "scatterpolargl": [
           {
            "marker": {
             "colorbar": {
              "outlinewidth": 0,
              "ticks": ""
             }
            },
            "type": "scatterpolargl"
           }
          ],
          "scatterternary": [
           {
            "marker": {
             "colorbar": {
              "outlinewidth": 0,
              "ticks": ""
             }
            },
            "type": "scatterternary"
           }
          ],
          "surface": [
           {
            "colorbar": {
             "outlinewidth": 0,
             "ticks": ""
            },
            "colorscale": [
             [
              0,
              "#0d0887"
             ],
             [
              0.1111111111111111,
              "#46039f"
             ],
             [
              0.2222222222222222,
              "#7201a8"
             ],
             [
              0.3333333333333333,
              "#9c179e"
             ],
             [
              0.4444444444444444,
              "#bd3786"
             ],
             [
              0.5555555555555556,
              "#d8576b"
             ],
             [
              0.6666666666666666,
              "#ed7953"
             ],
             [
              0.7777777777777778,
              "#fb9f3a"
             ],
             [
              0.8888888888888888,
              "#fdca26"
             ],
             [
              1,
              "#f0f921"
             ]
            ],
            "type": "surface"
           }
          ],
          "table": [
           {
            "cells": {
             "fill": {
              "color": "#EBF0F8"
             },
             "line": {
              "color": "white"
             }
            },
            "header": {
             "fill": {
              "color": "#C8D4E3"
             },
             "line": {
              "color": "white"
             }
            },
            "type": "table"
           }
          ]
         },
         "layout": {
          "annotationdefaults": {
           "arrowcolor": "#2a3f5f",
           "arrowhead": 0,
           "arrowwidth": 1
          },
          "autotypenumbers": "strict",
          "coloraxis": {
           "colorbar": {
            "outlinewidth": 0,
            "ticks": ""
           }
          },
          "colorscale": {
           "diverging": [
            [
             0,
             "#8e0152"
            ],
            [
             0.1,
             "#c51b7d"
            ],
            [
             0.2,
             "#de77ae"
            ],
            [
             0.3,
             "#f1b6da"
            ],
            [
             0.4,
             "#fde0ef"
            ],
            [
             0.5,
             "#f7f7f7"
            ],
            [
             0.6,
             "#e6f5d0"
            ],
            [
             0.7,
             "#b8e186"
            ],
            [
             0.8,
             "#7fbc41"
            ],
            [
             0.9,
             "#4d9221"
            ],
            [
             1,
             "#276419"
            ]
           ],
           "sequential": [
            [
             0,
             "#0d0887"
            ],
            [
             0.1111111111111111,
             "#46039f"
            ],
            [
             0.2222222222222222,
             "#7201a8"
            ],
            [
             0.3333333333333333,
             "#9c179e"
            ],
            [
             0.4444444444444444,
             "#bd3786"
            ],
            [
             0.5555555555555556,
             "#d8576b"
            ],
            [
             0.6666666666666666,
             "#ed7953"
            ],
            [
             0.7777777777777778,
             "#fb9f3a"
            ],
            [
             0.8888888888888888,
             "#fdca26"
            ],
            [
             1,
             "#f0f921"
            ]
           ],
           "sequentialminus": [
            [
             0,
             "#0d0887"
            ],
            [
             0.1111111111111111,
             "#46039f"
            ],
            [
             0.2222222222222222,
             "#7201a8"
            ],
            [
             0.3333333333333333,
             "#9c179e"
            ],
            [
             0.4444444444444444,
             "#bd3786"
            ],
            [
             0.5555555555555556,
             "#d8576b"
            ],
            [
             0.6666666666666666,
             "#ed7953"
            ],
            [
             0.7777777777777778,
             "#fb9f3a"
            ],
            [
             0.8888888888888888,
             "#fdca26"
            ],
            [
             1,
             "#f0f921"
            ]
           ]
          },
          "colorway": [
           "#636efa",
           "#EF553B",
           "#00cc96",
           "#ab63fa",
           "#FFA15A",
           "#19d3f3",
           "#FF6692",
           "#B6E880",
           "#FF97FF",
           "#FECB52"
          ],
          "font": {
           "color": "#2a3f5f"
          },
          "geo": {
           "bgcolor": "white",
           "lakecolor": "white",
           "landcolor": "#E5ECF6",
           "showlakes": true,
           "showland": true,
           "subunitcolor": "white"
          },
          "hoverlabel": {
           "align": "left"
          },
          "hovermode": "closest",
          "mapbox": {
           "style": "light"
          },
          "paper_bgcolor": "white",
          "plot_bgcolor": "#E5ECF6",
          "polar": {
           "angularaxis": {
            "gridcolor": "white",
            "linecolor": "white",
            "ticks": ""
           },
           "bgcolor": "#E5ECF6",
           "radialaxis": {
            "gridcolor": "white",
            "linecolor": "white",
            "ticks": ""
           }
          },
          "scene": {
           "xaxis": {
            "backgroundcolor": "#E5ECF6",
            "gridcolor": "white",
            "gridwidth": 2,
            "linecolor": "white",
            "showbackground": true,
            "ticks": "",
            "zerolinecolor": "white"
           },
           "yaxis": {
            "backgroundcolor": "#E5ECF6",
            "gridcolor": "white",
            "gridwidth": 2,
            "linecolor": "white",
            "showbackground": true,
            "ticks": "",
            "zerolinecolor": "white"
           },
           "zaxis": {
            "backgroundcolor": "#E5ECF6",
            "gridcolor": "white",
            "gridwidth": 2,
            "linecolor": "white",
            "showbackground": true,
            "ticks": "",
            "zerolinecolor": "white"
           }
          },
          "shapedefaults": {
           "line": {
            "color": "#2a3f5f"
           }
          },
          "ternary": {
           "aaxis": {
            "gridcolor": "white",
            "linecolor": "white",
            "ticks": ""
           },
           "baxis": {
            "gridcolor": "white",
            "linecolor": "white",
            "ticks": ""
           },
           "bgcolor": "#E5ECF6",
           "caxis": {
            "gridcolor": "white",
            "linecolor": "white",
            "ticks": ""
           }
          },
          "title": {
           "x": 0.05
          },
          "xaxis": {
           "automargin": true,
           "gridcolor": "white",
           "linecolor": "white",
           "ticks": "",
           "title": {
            "standoff": 15
           },
           "zerolinecolor": "white",
           "zerolinewidth": 2
          },
          "yaxis": {
           "automargin": true,
           "gridcolor": "white",
           "linecolor": "white",
           "ticks": "",
           "title": {
            "standoff": 15
           },
           "zerolinecolor": "white",
           "zerolinewidth": 2
          }
         }
        },
        "width": 800,
        "xaxis": {
         "anchor": "y",
         "constrain": "domain",
         "domain": [
          0,
          1
         ],
         "scaleanchor": "y",
         "title": {
          "text": "Position"
         }
        },
        "yaxis": {
         "anchor": "x",
         "autorange": "reversed",
         "constrain": "domain",
         "domain": [
          0,
          1
         ],
         "title": {
          "text": "Layer"
         }
        }
       }
      }
     },
     "metadata": {},
     "output_type": "display_data"
    }
   ],
   "source": [
    "def max_attribution_for_layer(layer, min=False, k=5):\n",
    "    max_attributions = []\n",
    "    top_features = []\n",
    "    n_toks = cache['embed'].shape[1]\n",
    "    for position in range(n_toks):\n",
    "        attribution = attribution_for_position(layer, position, cache=cache, grad_dict=grad_dict)\n",
    "\n",
    "        if min:\n",
    "            top_idx = attribution.argsort()[:k]\n",
    "        else:\n",
    "            top_idx = attribution.argsort(descending=True)[:k]\n",
    "\n",
    "        top_attrib = attribution[top_idx]\n",
    "\n",
    "        max_attributions.append(top_attrib)\n",
    "        top_features.append(top_idx)\n",
    "\n",
    "    return max_attributions, top_features\n",
    "\n",
    "\n",
    "def visualize_max_attributions(min=False, k=1):\n",
    "    ### most positive attributions ###\n",
    "    max_attributions_by_layer = []\n",
    "    top_features_by_layer = []\n",
    "    for layer in range(model.cfg.n_layers - 1):\n",
    "        max_attributions, top_feature_indices = max_attribution_for_layer(layer, min=min, k=k)\n",
    "        max_attributions = [attrib.sum() for attrib in max_attributions]\n",
    "        top_feature_indices = [idx[0].item() for idx in top_feature_indices]\n",
    "        # break\n",
    "        max_attributions_by_layer.append(max_attributions)\n",
    "        top_features_by_layer.append(top_feature_indices)\n",
    "\n",
    "    max_attributions_by_layer = torch.tensor(max_attributions_by_layer)\n",
    "    top_features_by_layer = torch.tensor(top_features_by_layer)\n",
    "\n",
    "    top_idxs_text = [[str(idx.item()) for idx in indices] for indices in top_features_by_layer]\n",
    "    labels = [f\"{tok}\" for i, tok in enumerate(model.to_str_tokens(tokens[0]))]\n",
    "\n",
    "    imshow(max_attributions_by_layer, labels={\"x\": \"Position\", \"y\": \"Layer\"}, x=labels, text=top_idxs_text, width=800, height=600)\n",
    "\n",
    "\n",
    "visualize_max_attributions()"
   ]
  },
  {
   "cell_type": "code",
   "execution_count": 13,
   "metadata": {},
   "outputs": [
    {
     "data": {
      "application/vnd.plotly.v1+json": {
       "config": {
        "plotlyServerURL": "https://plot.ly",
        "staticPlot": false
       },
       "data": [
        {
         "coloraxis": "coloraxis",
         "hovertemplate": "Position: %{x}<br>Layer: %{y}<br>color: %{z}<extra></extra>",
         "name": "0",
         "text": [
          [
           "23640",
           "10920",
           "2996",
           "11733",
           "2996",
           "23979",
           "9926",
           "22047"
          ],
          [
           "6836",
           "17413",
           "9345",
           "5150",
           "9549",
           "13283",
           "17586",
           "17359"
          ],
          [
           "19785",
           "18529",
           "4575",
           "6476",
           "9715",
           "10633",
           "5033",
           "9715"
          ],
          [
           "2260",
           "13798",
           "7128",
           "11876",
           "18585",
           "4040",
           "4040",
           "12514"
          ],
          [
           "22202",
           "279",
           "18431",
           "20460",
           "18553",
           "2555",
           "14497",
           "19691"
          ],
          [
           "13934",
           "11217",
           "488",
           "3291",
           "3291",
           "3291",
           "3820",
           "7074"
          ],
          [
           "979",
           "7759",
           "3573",
           "12223",
           "15413",
           "18761",
           "7388",
           "20983"
          ],
          [
           "8598",
           "20750",
           "6910",
           "9049",
           "9956",
           "2480",
           "4053",
           "4983"
          ],
          [
           "11746",
           "7920",
           "16498",
           "7276",
           "14813",
           "19909",
           "7198",
           "18315"
          ],
          [
           "14940",
           "19520",
           "22098",
           "10611",
           "7179",
           "13685",
           "21484",
           "3665"
          ],
          [
           "1794",
           "4507",
           "11104",
           "4169",
           "15536",
           "15536",
           "18382",
           "16635"
          ]
         ],
         "textfont": {
          "size": 12
         },
         "texttemplate": "%{text}",
         "type": "heatmap",
         "x": [
          "<|endoftext|>",
          "They",
          " raised",
          " awareness",
          " for",
          " the",
          " cause",
          " by"
         ],
         "xaxis": "x",
         "yaxis": "y",
         "z": [
          [
           -1.3247612714767456,
           -0.6283667087554932,
           -1.1243613958358765,
           -1.263230323791504,
           -0.5286779403686523,
           -0.27141597867012024,
           -0.635912299156189,
           -1.23136568069458
          ],
          [
           -6.91425085067749,
           -1.0221675634384155,
           -3.1265180110931396,
           -1.0881558656692505,
           -2.8699865341186523,
           -0.13971443474292755,
           -0.4036059081554413,
           -1.2337721586227417
          ],
          [
           -13.675148963928223,
           -1.6525954008102417,
           -0.41037291288375854,
           -0.40241631865501404,
           -0.9108587503433228,
           -0.15789735317230225,
           -0.16427594423294067,
           -3.717494010925293
          ],
          [
           -0.03440694883465767,
           -1.3795892000198364,
           -0.24138391017913818,
           -2.0113179683685303,
           -0.38498881459236145,
           -0.2203943133354187,
           -0.15517516434192657,
           -1.0279021263122559
          ],
          [
           -0.06014072149991989,
           -0.3600084185600281,
           -1.040059208869934,
           -3.2485733032226562,
           -0.17543931305408478,
           -0.03585588186979294,
           -0.3834187090396881,
           -1.7084734439849854
          ],
          [
           -0.06651563197374344,
           -1.0081989765167236,
           -1.375314712524414,
           -1.6599361896514893,
           -0.3875163793563843,
           -0.08517690747976303,
           -0.9822779893875122,
           -2.4459757804870605
          ],
          [
           -0.036099087446928024,
           -0.3083438277244568,
           -0.9867488741874695,
           -1.929087519645691,
           -0.1462262123823166,
           -0.09837424010038376,
           -0.5673806667327881,
           -0.9209277033805847
          ],
          [
           -0.10404361039400101,
           -0.664254903793335,
           -0.17467541992664337,
           -0.7309794425964355,
           -0.11566797643899918,
           -0.05922925844788551,
           -0.24286529421806335,
           -1.128197193145752
          ],
          [
           -0.10681922733783722,
           -0.37424227595329285,
           -0.05656940117478371,
           -0.3221011161804199,
           -0.04118659347295761,
           -0.08924996852874756,
           -0.15178316831588745,
           -0.6468256711959839
          ],
          [
           -0.10773640125989914,
           -0.5286016464233398,
           -0.08227314054965973,
           -0.08748691529035568,
           -0.049482423812150955,
           -0.0917569175362587,
           -0.03134364262223244,
           -1.534725546836853
          ],
          [
           -0.12156272679567337,
           -0.17937788367271423,
           -0.10095243901014328,
           -0.043469879776239395,
           -0.05060800537467003,
           -0.05404863506555557,
           -0.07398368418216705,
           -3.6384592056274414
          ]
         ]
        }
       ],
       "layout": {
        "coloraxis": {
         "cmid": 0,
         "colorscale": [
          [
           0,
           "rgb(103,0,31)"
          ],
          [
           0.1,
           "rgb(178,24,43)"
          ],
          [
           0.2,
           "rgb(214,96,77)"
          ],
          [
           0.3,
           "rgb(244,165,130)"
          ],
          [
           0.4,
           "rgb(253,219,199)"
          ],
          [
           0.5,
           "rgb(247,247,247)"
          ],
          [
           0.6,
           "rgb(209,229,240)"
          ],
          [
           0.7,
           "rgb(146,197,222)"
          ],
          [
           0.8,
           "rgb(67,147,195)"
          ],
          [
           0.9,
           "rgb(33,102,172)"
          ],
          [
           1,
           "rgb(5,48,97)"
          ]
         ]
        },
        "height": 600,
        "margin": {
         "t": 60
        },
        "template": {
         "data": {
          "bar": [
           {
            "error_x": {
             "color": "#2a3f5f"
            },
            "error_y": {
             "color": "#2a3f5f"
            },
            "marker": {
             "line": {
              "color": "#E5ECF6",
              "width": 0.5
             },
             "pattern": {
              "fillmode": "overlay",
              "size": 10,
              "solidity": 0.2
             }
            },
            "type": "bar"
           }
          ],
          "barpolar": [
           {
            "marker": {
             "line": {
              "color": "#E5ECF6",
              "width": 0.5
             },
             "pattern": {
              "fillmode": "overlay",
              "size": 10,
              "solidity": 0.2
             }
            },
            "type": "barpolar"
           }
          ],
          "carpet": [
           {
            "aaxis": {
             "endlinecolor": "#2a3f5f",
             "gridcolor": "white",
             "linecolor": "white",
             "minorgridcolor": "white",
             "startlinecolor": "#2a3f5f"
            },
            "baxis": {
             "endlinecolor": "#2a3f5f",
             "gridcolor": "white",
             "linecolor": "white",
             "minorgridcolor": "white",
             "startlinecolor": "#2a3f5f"
            },
            "type": "carpet"
           }
          ],
          "choropleth": [
           {
            "colorbar": {
             "outlinewidth": 0,
             "ticks": ""
            },
            "type": "choropleth"
           }
          ],
          "contour": [
           {
            "colorbar": {
             "outlinewidth": 0,
             "ticks": ""
            },
            "colorscale": [
             [
              0,
              "#0d0887"
             ],
             [
              0.1111111111111111,
              "#46039f"
             ],
             [
              0.2222222222222222,
              "#7201a8"
             ],
             [
              0.3333333333333333,
              "#9c179e"
             ],
             [
              0.4444444444444444,
              "#bd3786"
             ],
             [
              0.5555555555555556,
              "#d8576b"
             ],
             [
              0.6666666666666666,
              "#ed7953"
             ],
             [
              0.7777777777777778,
              "#fb9f3a"
             ],
             [
              0.8888888888888888,
              "#fdca26"
             ],
             [
              1,
              "#f0f921"
             ]
            ],
            "type": "contour"
           }
          ],
          "contourcarpet": [
           {
            "colorbar": {
             "outlinewidth": 0,
             "ticks": ""
            },
            "type": "contourcarpet"
           }
          ],
          "heatmap": [
           {
            "colorbar": {
             "outlinewidth": 0,
             "ticks": ""
            },
            "colorscale": [
             [
              0,
              "#0d0887"
             ],
             [
              0.1111111111111111,
              "#46039f"
             ],
             [
              0.2222222222222222,
              "#7201a8"
             ],
             [
              0.3333333333333333,
              "#9c179e"
             ],
             [
              0.4444444444444444,
              "#bd3786"
             ],
             [
              0.5555555555555556,
              "#d8576b"
             ],
             [
              0.6666666666666666,
              "#ed7953"
             ],
             [
              0.7777777777777778,
              "#fb9f3a"
             ],
             [
              0.8888888888888888,
              "#fdca26"
             ],
             [
              1,
              "#f0f921"
             ]
            ],
            "type": "heatmap"
           }
          ],
          "heatmapgl": [
           {
            "colorbar": {
             "outlinewidth": 0,
             "ticks": ""
            },
            "colorscale": [
             [
              0,
              "#0d0887"
             ],
             [
              0.1111111111111111,
              "#46039f"
             ],
             [
              0.2222222222222222,
              "#7201a8"
             ],
             [
              0.3333333333333333,
              "#9c179e"
             ],
             [
              0.4444444444444444,
              "#bd3786"
             ],
             [
              0.5555555555555556,
              "#d8576b"
             ],
             [
              0.6666666666666666,
              "#ed7953"
             ],
             [
              0.7777777777777778,
              "#fb9f3a"
             ],
             [
              0.8888888888888888,
              "#fdca26"
             ],
             [
              1,
              "#f0f921"
             ]
            ],
            "type": "heatmapgl"
           }
          ],
          "histogram": [
           {
            "marker": {
             "pattern": {
              "fillmode": "overlay",
              "size": 10,
              "solidity": 0.2
             }
            },
            "type": "histogram"
           }
          ],
          "histogram2d": [
           {
            "colorbar": {
             "outlinewidth": 0,
             "ticks": ""
            },
            "colorscale": [
             [
              0,
              "#0d0887"
             ],
             [
              0.1111111111111111,
              "#46039f"
             ],
             [
              0.2222222222222222,
              "#7201a8"
             ],
             [
              0.3333333333333333,
              "#9c179e"
             ],
             [
              0.4444444444444444,
              "#bd3786"
             ],
             [
              0.5555555555555556,
              "#d8576b"
             ],
             [
              0.6666666666666666,
              "#ed7953"
             ],
             [
              0.7777777777777778,
              "#fb9f3a"
             ],
             [
              0.8888888888888888,
              "#fdca26"
             ],
             [
              1,
              "#f0f921"
             ]
            ],
            "type": "histogram2d"
           }
          ],
          "histogram2dcontour": [
           {
            "colorbar": {
             "outlinewidth": 0,
             "ticks": ""
            },
            "colorscale": [
             [
              0,
              "#0d0887"
             ],
             [
              0.1111111111111111,
              "#46039f"
             ],
             [
              0.2222222222222222,
              "#7201a8"
             ],
             [
              0.3333333333333333,
              "#9c179e"
             ],
             [
              0.4444444444444444,
              "#bd3786"
             ],
             [
              0.5555555555555556,
              "#d8576b"
             ],
             [
              0.6666666666666666,
              "#ed7953"
             ],
             [
              0.7777777777777778,
              "#fb9f3a"
             ],
             [
              0.8888888888888888,
              "#fdca26"
             ],
             [
              1,
              "#f0f921"
             ]
            ],
            "type": "histogram2dcontour"
           }
          ],
          "mesh3d": [
           {
            "colorbar": {
             "outlinewidth": 0,
             "ticks": ""
            },
            "type": "mesh3d"
           }
          ],
          "parcoords": [
           {
            "line": {
             "colorbar": {
              "outlinewidth": 0,
              "ticks": ""
             }
            },
            "type": "parcoords"
           }
          ],
          "pie": [
           {
            "automargin": true,
            "type": "pie"
           }
          ],
          "scatter": [
           {
            "fillpattern": {
             "fillmode": "overlay",
             "size": 10,
             "solidity": 0.2
            },
            "type": "scatter"
           }
          ],
          "scatter3d": [
           {
            "line": {
             "colorbar": {
              "outlinewidth": 0,
              "ticks": ""
             }
            },
            "marker": {
             "colorbar": {
              "outlinewidth": 0,
              "ticks": ""
             }
            },
            "type": "scatter3d"
           }
          ],
          "scattercarpet": [
           {
            "marker": {
             "colorbar": {
              "outlinewidth": 0,
              "ticks": ""
             }
            },
            "type": "scattercarpet"
           }
          ],
          "scattergeo": [
           {
            "marker": {
             "colorbar": {
              "outlinewidth": 0,
              "ticks": ""
             }
            },
            "type": "scattergeo"
           }
          ],
          "scattergl": [
           {
            "marker": {
             "colorbar": {
              "outlinewidth": 0,
              "ticks": ""
             }
            },
            "type": "scattergl"
           }
          ],
          "scattermapbox": [
           {
            "marker": {
             "colorbar": {
              "outlinewidth": 0,
              "ticks": ""
             }
            },
            "type": "scattermapbox"
           }
          ],
          "scatterpolar": [
           {
            "marker": {
             "colorbar": {
              "outlinewidth": 0,
              "ticks": ""
             }
            },
            "type": "scatterpolar"
           }
          ],
          "scatterpolargl": [
           {
            "marker": {
             "colorbar": {
              "outlinewidth": 0,
              "ticks": ""
             }
            },
            "type": "scatterpolargl"
           }
          ],
          "scatterternary": [
           {
            "marker": {
             "colorbar": {
              "outlinewidth": 0,
              "ticks": ""
             }
            },
            "type": "scatterternary"
           }
          ],
          "surface": [
           {
            "colorbar": {
             "outlinewidth": 0,
             "ticks": ""
            },
            "colorscale": [
             [
              0,
              "#0d0887"
             ],
             [
              0.1111111111111111,
              "#46039f"
             ],
             [
              0.2222222222222222,
              "#7201a8"
             ],
             [
              0.3333333333333333,
              "#9c179e"
             ],
             [
              0.4444444444444444,
              "#bd3786"
             ],
             [
              0.5555555555555556,
              "#d8576b"
             ],
             [
              0.6666666666666666,
              "#ed7953"
             ],
             [
              0.7777777777777778,
              "#fb9f3a"
             ],
             [
              0.8888888888888888,
              "#fdca26"
             ],
             [
              1,
              "#f0f921"
             ]
            ],
            "type": "surface"
           }
          ],
          "table": [
           {
            "cells": {
             "fill": {
              "color": "#EBF0F8"
             },
             "line": {
              "color": "white"
             }
            },
            "header": {
             "fill": {
              "color": "#C8D4E3"
             },
             "line": {
              "color": "white"
             }
            },
            "type": "table"
           }
          ]
         },
         "layout": {
          "annotationdefaults": {
           "arrowcolor": "#2a3f5f",
           "arrowhead": 0,
           "arrowwidth": 1
          },
          "autotypenumbers": "strict",
          "coloraxis": {
           "colorbar": {
            "outlinewidth": 0,
            "ticks": ""
           }
          },
          "colorscale": {
           "diverging": [
            [
             0,
             "#8e0152"
            ],
            [
             0.1,
             "#c51b7d"
            ],
            [
             0.2,
             "#de77ae"
            ],
            [
             0.3,
             "#f1b6da"
            ],
            [
             0.4,
             "#fde0ef"
            ],
            [
             0.5,
             "#f7f7f7"
            ],
            [
             0.6,
             "#e6f5d0"
            ],
            [
             0.7,
             "#b8e186"
            ],
            [
             0.8,
             "#7fbc41"
            ],
            [
             0.9,
             "#4d9221"
            ],
            [
             1,
             "#276419"
            ]
           ],
           "sequential": [
            [
             0,
             "#0d0887"
            ],
            [
             0.1111111111111111,
             "#46039f"
            ],
            [
             0.2222222222222222,
             "#7201a8"
            ],
            [
             0.3333333333333333,
             "#9c179e"
            ],
            [
             0.4444444444444444,
             "#bd3786"
            ],
            [
             0.5555555555555556,
             "#d8576b"
            ],
            [
             0.6666666666666666,
             "#ed7953"
            ],
            [
             0.7777777777777778,
             "#fb9f3a"
            ],
            [
             0.8888888888888888,
             "#fdca26"
            ],
            [
             1,
             "#f0f921"
            ]
           ],
           "sequentialminus": [
            [
             0,
             "#0d0887"
            ],
            [
             0.1111111111111111,
             "#46039f"
            ],
            [
             0.2222222222222222,
             "#7201a8"
            ],
            [
             0.3333333333333333,
             "#9c179e"
            ],
            [
             0.4444444444444444,
             "#bd3786"
            ],
            [
             0.5555555555555556,
             "#d8576b"
            ],
            [
             0.6666666666666666,
             "#ed7953"
            ],
            [
             0.7777777777777778,
             "#fb9f3a"
            ],
            [
             0.8888888888888888,
             "#fdca26"
            ],
            [
             1,
             "#f0f921"
            ]
           ]
          },
          "colorway": [
           "#636efa",
           "#EF553B",
           "#00cc96",
           "#ab63fa",
           "#FFA15A",
           "#19d3f3",
           "#FF6692",
           "#B6E880",
           "#FF97FF",
           "#FECB52"
          ],
          "font": {
           "color": "#2a3f5f"
          },
          "geo": {
           "bgcolor": "white",
           "lakecolor": "white",
           "landcolor": "#E5ECF6",
           "showlakes": true,
           "showland": true,
           "subunitcolor": "white"
          },
          "hoverlabel": {
           "align": "left"
          },
          "hovermode": "closest",
          "mapbox": {
           "style": "light"
          },
          "paper_bgcolor": "white",
          "plot_bgcolor": "#E5ECF6",
          "polar": {
           "angularaxis": {
            "gridcolor": "white",
            "linecolor": "white",
            "ticks": ""
           },
           "bgcolor": "#E5ECF6",
           "radialaxis": {
            "gridcolor": "white",
            "linecolor": "white",
            "ticks": ""
           }
          },
          "scene": {
           "xaxis": {
            "backgroundcolor": "#E5ECF6",
            "gridcolor": "white",
            "gridwidth": 2,
            "linecolor": "white",
            "showbackground": true,
            "ticks": "",
            "zerolinecolor": "white"
           },
           "yaxis": {
            "backgroundcolor": "#E5ECF6",
            "gridcolor": "white",
            "gridwidth": 2,
            "linecolor": "white",
            "showbackground": true,
            "ticks": "",
            "zerolinecolor": "white"
           },
           "zaxis": {
            "backgroundcolor": "#E5ECF6",
            "gridcolor": "white",
            "gridwidth": 2,
            "linecolor": "white",
            "showbackground": true,
            "ticks": "",
            "zerolinecolor": "white"
           }
          },
          "shapedefaults": {
           "line": {
            "color": "#2a3f5f"
           }
          },
          "ternary": {
           "aaxis": {
            "gridcolor": "white",
            "linecolor": "white",
            "ticks": ""
           },
           "baxis": {
            "gridcolor": "white",
            "linecolor": "white",
            "ticks": ""
           },
           "bgcolor": "#E5ECF6",
           "caxis": {
            "gridcolor": "white",
            "linecolor": "white",
            "ticks": ""
           }
          },
          "title": {
           "x": 0.05
          },
          "xaxis": {
           "automargin": true,
           "gridcolor": "white",
           "linecolor": "white",
           "ticks": "",
           "title": {
            "standoff": 15
           },
           "zerolinecolor": "white",
           "zerolinewidth": 2
          },
          "yaxis": {
           "automargin": true,
           "gridcolor": "white",
           "linecolor": "white",
           "ticks": "",
           "title": {
            "standoff": 15
           },
           "zerolinecolor": "white",
           "zerolinewidth": 2
          }
         }
        },
        "width": 800,
        "xaxis": {
         "anchor": "y",
         "constrain": "domain",
         "domain": [
          0,
          1
         ],
         "scaleanchor": "y",
         "title": {
          "text": "Position"
         }
        },
        "yaxis": {
         "anchor": "x",
         "autorange": "reversed",
         "constrain": "domain",
         "domain": [
          0,
          1
         ],
         "title": {
          "text": "Layer"
         }
        }
       }
      }
     },
     "metadata": {},
     "output_type": "display_data"
    }
   ],
   "source": [
    "# ### most negative attributions ###\n",
    "visualize_max_attributions(min=True)"
   ]
  },
  {
   "cell_type": "code",
   "execution_count": 14,
   "metadata": {},
   "outputs": [
    {
     "data": {
      "text/plain": [
       "tensor([10.6147, 19.4824, 18.4511,  9.3586, 11.7011, 12.1088, 10.9227, 11.2819])"
      ]
     },
     "execution_count": 14,
     "metadata": {},
     "output_type": "execute_result"
    }
   ],
   "source": [
    "# get_feature_activations(cache, 11, 23531)\n",
    "get_feature_activations(cache, 0, 2996)"
   ]
  },
  {
   "cell_type": "code",
   "execution_count": null,
   "metadata": {},
   "outputs": [],
   "source": []
  },
  {
   "cell_type": "code",
   "execution_count": 15,
   "metadata": {},
   "outputs": [],
   "source": [
    "# we will attempt to use Neel's tokenised dataset. This is not the same as the training distribution, but hopefully it doesn't matter.\n"
   ]
  },
  {
   "cell_type": "code",
   "execution_count": 33,
   "metadata": {},
   "outputs": [],
   "source": [
    "\n",
    "all_attributions = dict() # {feature_id: list of attributions}\n",
    "\n",
    "def update_attributions(tokens):\n",
    "    logits, cache = model.run_with_cache(tokens) # inefficient, but I don't care.\n",
    "    grad_dict = get_grads(TARGET_FEATURE_LAYER, TARGET_FEATURE_ID, tokens)\n",
    "    scale_cutoff = 1.0\n",
    "\n",
    "    for layer in range(model.cfg.n_layers - 1):\n",
    "        for position in range(tokens.shape[1]):\n",
    "            attribution = attribution_for_position(layer, position, cache=cache, grad_dict=grad_dict)\n",
    "\n",
    "            min_idx = attribution.argsort()[:5]\n",
    "            max_idx = attribution.argsort(descending=True)[:5]\n",
    "            min_attrib = attribution[min_idx]\n",
    "            max_attrib = attribution[max_idx]\n",
    "\n",
    "            for i, val in zip(min_idx, min_attrib):\n",
    "                ft_id = f\"{layer}_{i.item()}\"\n",
    "                if val < -scale_cutoff:\n",
    "                    all_attributions.setdefault(ft_id, []).append(val.item())\n",
    "            \n",
    "            for i, val in zip(max_idx, max_attrib):\n",
    "                ft_id = f\"{layer}_{i.item()}\"\n",
    "                if val > scale_cutoff:\n",
    "                    all_attributions.setdefault(ft_id, []).append(val.item())\n"
   ]
  },
  {
   "cell_type": "code",
   "execution_count": 20,
   "metadata": {},
   "outputs": [
    {
     "name": "stderr",
     "output_type": "stream",
     "text": [
      "huggingface/tokenizers: The current process just got forked, after parallelism has already been used. Disabling parallelism to avoid deadlocks...\n",
      "To disable this warning, you can either:\n",
      "\t- Avoid using `tokenizers` before the fork if possible\n",
      "\t- Explicitly set the environment variable TOKENIZERS_PARALLELISM=(true | false)\n"
     ]
    }
   ],
   "source": [
    "data = load_dataset(\"NeelNanda/pile-10k\", split=\"train\")\n",
    "tokenized = tokenize_and_concatenate(data, model.tokenizer, max_length=32)"
   ]
  },
  {
   "cell_type": "code",
   "execution_count": 34,
   "metadata": {},
   "outputs": [
    {
     "name": "stdout",
     "output_type": "stream",
     "text": [
      "activation 10.066123008728027\n",
      "['<|endoftext|>', ' of', ' foe', ' trying', ' to', ' stop', ' them', ' from']\n",
      "activation 11.956418991088867\n",
      "['<|endoftext|>', 'org', ',', ' or', ' fighting', ' the', ' Borg', '?', '\\n', '\\n', 'The', ' third', ' and', ' final', ' idea', ' came', ' to', ' me', ' through', ' my', ' girlfriend', ',', ' who', ' somehow', ' gave', ' me', ' the', ' idea', ' of']\n",
      "activation 56.776222229003906\n",
      "['<|endoftext|>', ' A', ' secondary', ' idea', ' here', ' was', ' that', ' the', ' game', ' would', ' work', ' to', ' explain', ' how', ' the', ' Flying', ' Sp', 'aghetti', ' Monster', ' came', ' to', ' exist', ' –', ' by']\n",
      "activation 38.34526443481445\n",
      "['<|endoftext|>', '.', ' There', ' are', ' 5', ' other', ' guests', ' at', ' the', ' table', ',', ' each', ' with', ' their', ' own', ' plate', '.', '\\n', '\\n', 'Your', ' plate', ' can', ' spawn', ' little', ' pieces', ' of', ' pasta', '.', ' You', ' do', ' so', ' by']\n",
      "activation 10.194314002990723\n",
      "['<|endoftext|>', ' with', '.', '\\n', '\\n', 'One', ' big', ' change', ' for', ' me', ' was', ' that', ' I', ' livestream', 'ed', ' my', ' work', ' through', ' a', ' twitch', '.', 'tv', ' account', '.', ' This', ' was', ' a', ' new', ' thing', ' for', ' me']\n",
      "activation 12.152962684631348\n",
      "['<|endoftext|>', ' to', ' watch', ' since', ' I', ' was', ' coding', ' for', ' the', ' most', ' time', '.', ' But', ' livestream', 'ing', ' is', ' one', ' of', ' the', ' cool', ' things', ' to', ' do', ' as', ' a', ' spectator', ' too']\n",
      "activation 12.370267868041992\n",
      "['<|endoftext|>', 'something', ' I', ' loved', ' to', ' do', ',', ' by']\n",
      "activation 11.255156517028809\n",
      "['<|endoftext|>', 'do', ' list', ':', ' lots', ' of', ' things', ' were', ' not', ' done', '\\n', '\\n', 'Act', 'ual', ' programming', ' also', ' took', ' a', ' toll']\n",
      "activation 10.447056770324707\n",
      "['<|endoftext|>', ' means', ' that', ' the', ' experience', ' and', ' interface', ' should', ' be', ' approach', 'able', ' and', ' understandable', '.', '\\n', '\\n']\n",
      "activation 15.78884220123291\n",
      "['<|endoftext|>', ' makes', ' me', ' a', ' sad', ' p', 'anda', ' ;', '(', ' but', ' more', ' to', ' the', ' point', ',', ' the', ' game', ' is', ' …', ' well', ' for', ' a', ' startup', ' its', ' original', ' to', ' say', ' the', ' least']\n",
      "activation 14.066498756408691\n",
      "['<|endoftext|>', ' has', ' some', ' really', ' neat', ' ideas', ' and', ' more', ' importantly', ' its', ' designed', ' ar', 'round', ' touch', ' screens']\n",
      "activation 22.92030143737793\n",
      "['<|endoftext|>', ' has', ' some', ' really', ' neat', ' ideas', ' and', ' more', ' importantly', ' its', ' designed', ' ar', 'round', ' touch', ' screens', ' wh', 'itch', ' by']\n"
     ]
    }
   ],
   "source": [
    "all_attributions = dict() # {feature_id: list of attributions}\n",
    "\n",
    "for i, batch in enumerate(tokenized):\n",
    "    tokens = batch[\"tokens\"]\n",
    "    tokens = tokens.unsqueeze(0)\n",
    "    logits, cache = model.run_with_cache(tokens)\n",
    "\n",
    "    acts = get_feature_activations(cache, TARGET_FEATURE_LAYER, TARGET_FEATURE_ID)\n",
    "    active_positions = (acts > 0.0).nonzero()\n",
    "\n",
    "    for pos in active_positions:\n",
    "        activation = acts[pos]\n",
    "        if activation > ACTIVATION_THRESHOLD:  # a hack to remove low activations\n",
    "            print('activation', acts[pos].item())\n",
    "            print(model.to_str_tokens(tokens[:, :pos+1]))\n",
    "            update_attributions(tokens[:, :pos+1])\n",
    "\n",
    "    if i > 100:\n",
    "        break"
   ]
  },
  {
   "cell_type": "code",
   "execution_count": 29,
   "metadata": {},
   "outputs": [
    {
     "data": {
      "text/plain": [
       "dict_keys([7829, 14199, 4384, 16175, 20088, 15648, 21080, 1451, 8241, 7268, 18295, 5732, 22892, 8148, 21622, 18764, 277, 21025, 18710, 10325, 9890, 8414, 16473, 9043, 3945, 789, 24149, 21958, 17773, 519, 19738, 641, 22415, 9787, 13379, 15531, 502, 8966, 5468, 16725, 13293, 11910, 6340, 1697, 13280, 9715, 13661, 8274, 18150, 8521, 11876, 8614, 20755, 16703, 7043, 22244, 2440, 18578, 20976, 7006, 19299, 12760, 11379, 9133, 20326, 6978, 11804, 9289, 2762, 22759, 5203, 4050, 18044, 11953, 657, 11234, 10408, 18593, 14392, 10696, 828, 6985, 4596, 4893, 8724, 2146, 15757, 14468, 24096, 2815, 13796, 17252, 16815, 6183, 16920, 15503, 9960, 12878, 15536, 7375, 12871, 5584, 21000, 17043, 20236, 7620, 3217, 6574, 23392, 9426, 14822, 10499, 8326, 5742, 8865, 22843, 23347, 22877, 19182, 14374, 6725, 18918, 24553, 10328, 5457, 21374, 344, 5276, 7365, 6923, 17840, 4907, 13013, 5363, 15264, 6051, 13283, 1836, 339, 20135, 3357, 13939, 13974, 20998, 8812, 9769, 9293, 20133, 12144, 17688, 5910, 5085, 9510, 9445, 20199, 8207, 14414, 12189, 12453, 23374, 14290, 12928, 11692, 4267, 5354, 22699, 19961, 22683, 17364, 19868, 3308, 24455, 2348, 6956, 23649, 17963, 10078, 12508, 13879, 13377, 639, 20174, 5939, 5903, 7253, 1079, 20661, 10621, 2418, 4687, 10584, 23501, 8557, 10211, 19910, 23515, 16034, 14045, 4260, 7350, 16835, 17827, 23698, 23865, 7230, 20457, 9926, 11624, 11091, 19438, 14329, 19780, 19262, 2470, 12259, 13030, 7640, 22214, 9394, 643, 12651, 17262, 7838, 21615, 18167, 22926, 9901, 15856, 3178, 23758, 269, 12392, 10450, 13606, 22153, 14680, 14913, 20421, 5598, 10804, 23577, 23420, 1259, 13894, 14725, 6973, 17591, 1110, 4948, 6060, 10166, 22119, 482, 762, 7287, 10034, 18075, 16873, 11515, 16544, 24324, 5557, 8750, 11586, 3929, 6328, 21363, 14779, 9558, 8050, 15420, 24191, 18775, 23615, 24083, 11083, 21954, 8972, 23422, 1483, 5416, 11497, 21566, 22032, 14232, 9267, 8310, 1382, 3835, 12514, 18327, 21089, 12838, 19973, 15394, 1700, 10475, 4271, 8287, 10562, 12211, 23209, 5414, 39, 20026, 20355, 4888, 13392, 17602, 12540, 11417, 20314, 2518, 13615, 5899, 22531, 14157, 5503, 21109, 8369, 11526, 5195, 11288, 15733, 9012, 24103, 15813, 20686, 10053, 2318, 7065, 818, 13331, 2581, 19654, 24222, 12797, 10045, 2427, 4892, 13038, 6318, 8103, 10900, 3396, 16265, 13048, 1175, 23042, 16903, 17620, 17052, 12148, 5062, 5860, 22410, 19561, 11132, 19235, 19689, 21236, 4278, 1881, 3849, 21885, 23534, 4371, 2008, 12205, 9702, 17334, 10978, 21146, 24408, 3878, 12791, 22114, 17123, 9469, 4626, 23646, 4785, 10259, 990, 10261, 4521, 2996, 10920, 19493, 24225, 11199, 16945, 24431, 17701, 8683, 11698, 1445, 17500, 15842, 13713, 17410, 21908, 533, 16306, 20009, 16904, 7218, 16162, 17971, 4012, 12083, 3626, 10115, 5601, 19223, 10480, 14544, 15141, 6131, 21651, 1930, 11114, 20778, 5063, 8637, 567, 17633, 11554, 22864, 10955, 19785, 24269, 5322, 1180, 19202, 20825, 6683, 21692, 8639, 2765, 17126, 4701, 20443, 10343, 2632, 9164, 2863, 1564, 5667, 8244, 3000, 13836, 16641, 22328, 12684, 2790, 3889, 5968, 17538, 15063, 127, 17216, 12359, 2578, 15878, 1565, 2100, 18178, 5659, 1459, 22144, 12621, 6289, 5610, 15708, 11699, 13983, 17725, 19669, 10265, 22871, 19889, 21969, 12316, 5110, 12576, 6834, 16472, 10103, 8861, 17081, 22520, 22486, 12978, 17649, 14588, 13178, 3078, 4497, 16778, 11946, 23741, 8961, 10373, 4473, 1358, 12327, 20613, 10367, 21594, 3961, 21420, 16064, 20462, 6889, 11733, 18513, 2538, 4513, 5157, 8758, 8564, 9349, 16969, 16260, 24566, 17413, 16698, 9549, 18988, 8573, 19958, 13144, 13372, 4651, 17622, 9317, 5969, 1047, 56, 9170, 3798, 1148, 8560, 18008, 13582, 22073, 23841, 8969, 4040, 15686, 6121, 12922, 11352, 20962, 6004, 18826, 1306, 13977, 3701, 12891, 22074, 15338, 1890, 6611, 1980, 8064, 3639, 14209, 16635, 16612, 13871, 12888, 15104, 13039, 24322, 15572, 12001, 31, 12265, 15019, 16030, 14933, 14533, 6206, 7226, 7191, 7080, 15135, 3401, 195, 19507, 15995, 20490, 20652, 7996, 8721, 2838, 9620, 7538, 19397, 3258, 12427, 9533, 14041, 4458, 20500, 13285, 566, 15404, 1773, 6246, 19620, 2063, 11169, 23674, 19673, 15647, 14162, 10869, 7012, 15658, 21762, 16582, 18993, 11249, 20685, 20670, 348, 16833, 9077, 11932, 13508, 22595, 1269, 2614, 846, 907, 23284, 550, 2433, 20184, 7308, 3779, 485, 7406, 21744, 11175, 23803, 12587, 6315, 20641, 21887, 10077, 14281, 7796, 6033, 23266, 14864, 6095, 10832, 22820, 10412, 22047, 4921, 7676, 19527, 3643, 23231, 5617, 8998, 11142, 467, 384, 22928, 18259, 9711, 3846, 5275, 9312, 9613, 14707, 20585, 2528, 6924, 21217, 10363, 22010, 22025, 13409, 24002, 17193, 2065, 9456, 17388, 14033, 12024, 138, 12920, 8253, 18927, 6538, 11401, 15999, 11741, 7002, 4255, 4778, 18210, 12749, 14807, 23578, 20213, 46, 11719, 10919, 750, 19742, 2284, 19160, 352, 1628, 2777, 7843, 10649, 16108, 799, 4484, 17782, 14331, 5563, 19018, 10564, 6334, 8656, 6314, 5117, 3995, 2962, 6374, 14699, 4835, 14704, 12842, 18562, 20460, 6668, 22969, 15397, 12541, 14214, 8501, 4150, 1668, 14478, 12886, 2488, 24176, 4422, 7574, 7657, 3599, 17504, 22395, 7324, 8442, 975, 21825, 4637, 24474, 13050, 19004, 15050, 18331, 12763, 18085, 15639, 12632, 3924, 2616, 8462, 14810, 6820, 4035, 17985, 16736, 12765, 869, 15974, 9944, 5365, 10498, 20356, 11210, 16482, 1094, 17934, 159, 14106, 21418, 9417, 14805, 5865, 3052, 5800, 2505, 16588, 12904, 9158, 9816, 14747, 16485, 2096, 23111, 15072, 10493, 11592, 3166, 7612, 21761, 6349, 15384, 24304, 15145, 23761, 18135, 8164, 15307, 2856, 6013, 7221, 15905, 16000, 12444, 16810, 16618, 22320, 21549, 24549, 5545, 19398, 5558, 3836, 4540, 8447, 98, 12991, 19342, 21253, 1411, 2248, 5342, 20422, 960, 23544, 16962, 7913, 22405, 6941, 4238, 20151, 13565, 11926, 2047, 21838, 18273, 5842, 20632, 17774, 8840, 6039, 16470, 24124, 11817, 11332, 4997, 17116, 3245, 15006, 10589, 1248, 17519, 13884, 14430, 5452, 9443, 7071, 14536, 8783, 4515, 3734, 11400, 18799, 19710, 11620, 12304, 5415, 1129, 22161, 576, 22437, 5333, 4474, 11786, 6585, 4360, 379, 20251, 19694, 4279, 1491, 257, 22829, 24541, 11028, 14875, 17177, 8084, 1298, 22353, 23915, 8522, 21227, 17628, 16821, 15017, 17359, 14179, 15117, 7096, 15738, 6263, 24387, 16246, 1885, 11214, 283, 5181, 23642, 12244, 12879, 16804, 14146, 19440, 18595, 17472, 20477, 5977, 23165, 15304, 15517, 19862, 12794, 24321, 13413, 15700, 5168, 9793, 5822, 12174, 6580, 10156, 11007, 4501, 9830, 21400, 16915, 23913, 13734, 7977, 4067, 17451, 4156, 23239, 4716, 8663, 24573, 9723, 19439, 19871, 3172, 23264, 3290, 5000, 23556, 3322, 18323, 24440, 20514, 2317, 20311, 11970, 2965, 8168, 1105, 3506, 11211, 20767, 12487, 314, 5700, 10023, 3719, 19244, 21052, 2380, 22802, 14035, 19412, 11108, 6940, 8319, 7964, 105, 6536, 14851, 68, 22051, 23121, 22847, 15317, 23302, 7061, 1818, 24035, 3887, 6743, 12965, 12959, 3630, 3687, 21082, 9196, 5750, 3033, 6895, 19029, 17256, 3741, 17540, 21973, 2122, 6151, 8512, 21688, 22908, 20110, 22886, 15887, 3126, 6213, 9761, 9157, 16185, 12004, 8448, 11350, 34, 363, 9969, 238, 6491, 12653, 11617, 6496, 20765, 20842, 9114, 20775, 22369, 15988, 15627, 13281, 24223, 6478, 20042, 15900, 9228, 22557, 24398, 9478, 22787, 8859, 15557, 4537, 480, 14127, 11459, 20295, 9117, 21280, 9556, 16358, 18324, 21990, 14957, 9431, 16237, 10613, 16634, 6638, 17435, 14103, 14487, 2867, 6118, 13684, 2407, 18884, 15519, 18213, 7320, 11997, 4733, 7589, 5665, 3477, 24189, 9470, 24087, 606, 15681, 7540, 8917, 13302, 527, 9735, 4154, 15252, 3031, 18594, 16824, 10796, 4249, 24483, 18350, 5993, 4905, 12059, 17742, 17459, 16230, 1380, 12775, 1379, 4878, 22853, 18926, 12173, 1631, 14673, 6587, 4645, 19724, 9680, 17571, 22514, 4023, 22194, 9355, 5150, 19133, 21947, 20620, 1751, 4495, 21581, 19311, 2142, 3327, 1684, 13105, 12332, 12766, 18597, 15585, 16161, 3082, 10546, 19516, 16922, 5864, 19768, 7240, 24410, 3018, 7854, 1798, 1787, 15699, 264, 11251, 2857, 16385, 3567, 8166, 15816, 17616, 9131, 2118, 14662, 9177, 18499, 23675, 17695, 4350, 24574, 381, 18012, 11322, 13245, 6861, 3694, 15821, 3838, 10155, 5185, 23232, 4611, 782, 11036, 4992, 21228, 19158, 24484, 14921, 11041, 22899, 21598, 14954, 12075, 7783, 23096, 23557, 10010, 3585, 7417, 15447, 22179, 12460, 14556, 484, 16305, 23416, 4546, 21997, 21370, 15940, 21830, 184, 15824, 6157, 19321, 11861, 17201, 15242, 19748, 22150, 20196, 5958, 12526, 19163, 5722, 14834, 21681, 19384, 5615, 341, 13352, 4557])"
      ]
     },
     "execution_count": 29,
     "metadata": {},
     "output_type": "execute_result"
    }
   ],
   "source": [
    "all_attributions.keys()"
   ]
  },
  {
   "cell_type": "code",
   "execution_count": 35,
   "metadata": {},
   "outputs": [],
   "source": [
    "def get_top_pairs(attribution_dict, top_n=5):\n",
    "    sorted_pairs = sorted(attribution_dict.items(), key=lambda x: sum(map(abs, x[1])), reverse=True)\n",
    "    return sorted_pairs[:top_n]\n",
    "\n",
    "top_pairs = get_top_pairs(all_attributions, top_n=10)"
   ]
  },
  {
   "cell_type": "code",
   "execution_count": 36,
   "metadata": {},
   "outputs": [
    {
     "data": {
      "text/plain": [
       "[('10_9960',\n",
       "  [11.45576000213623,\n",
       "   13.393526077270508,\n",
       "   43.786319732666016,\n",
       "   38.045379638671875,\n",
       "   1.035262107849121,\n",
       "   10.815940856933594,\n",
       "   1.083121418952942,\n",
       "   16.694101333618164]),\n",
       " ('2_19738',\n",
       "  [-14.797445297241211,\n",
       "   -8.890697479248047,\n",
       "   -11.655292510986328,\n",
       "   -15.297065734863281,\n",
       "   9.61153507232666,\n",
       "   11.995420455932617,\n",
       "   -10.891196250915527,\n",
       "   -33.62974166870117]),\n",
       " ('9_24096',\n",
       "  [8.310940742492676,\n",
       "   30.75067138671875,\n",
       "   33.67822265625,\n",
       "   11.906428337097168,\n",
       "   10.26396369934082]),\n",
       " ('8_19235',\n",
       "  [30.46546745300293,\n",
       "   28.063631057739258,\n",
       "   14.582470893859863,\n",
       "   15.583444595336914]),\n",
       " ('2_15531',\n",
       "  [13.86876106262207,\n",
       "   17.999923706054688,\n",
       "   16.448911666870117,\n",
       "   25.240646362304688]),\n",
       " ('1_277',\n",
       "  [-11.019274711608887,\n",
       "   -10.985179901123047,\n",
       "   -15.131011009216309,\n",
       "   12.89258861541748,\n",
       "   -22.12629508972168]),\n",
       " ('2_8750', [14.311951637268066, 31.45849609375, 18.344303131103516]),\n",
       " ('3_4271',\n",
       "  [17.298139572143555,\n",
       "   9.5475435256958,\n",
       "   18.202781677246094,\n",
       "   14.79825496673584]),\n",
       " ('1_7218',\n",
       "  [6.855136394500732,\n",
       "   8.113696098327637,\n",
       "   15.443312644958496,\n",
       "   -29.188026428222656]),\n",
       " ('2_502',\n",
       "  [10.31863021850586,\n",
       "   17.119626998901367,\n",
       "   14.690820693969727,\n",
       "   12.89634895324707])]"
      ]
     },
     "execution_count": 36,
     "metadata": {},
     "output_type": "execute_result"
    }
   ],
   "source": [
    "top_pairs"
   ]
  },
  {
   "cell_type": "code",
   "execution_count": null,
   "metadata": {},
   "outputs": [],
   "source": []
  }
 ],
 "metadata": {
  "kernelspec": {
   "display_name": ".venv",
   "language": "python",
   "name": "python3"
  },
  "language_info": {
   "codemirror_mode": {
    "name": "ipython",
    "version": 3
   },
   "file_extension": ".py",
   "mimetype": "text/x-python",
   "name": "python",
   "nbconvert_exporter": "python",
   "pygments_lexer": "ipython3",
   "version": "3.9.12"
  }
 },
 "nbformat": 4,
 "nbformat_minor": 2
}

{
 "cells": [
  {
   "cell_type": "code",
   "execution_count": 7,
   "metadata": {},
   "outputs": [],
   "source": [
    "import torch\n",
    "import transformer_lens\n",
    "from transformer_lens import HookedTransformer\n",
    "from transformer_lens.utils import tokenize_and_concatenate\n",
    "\n",
    "from datasets import load_dataset\n",
    "from torch.utils.data import DataLoader\n",
    "\n",
    "from IPython.display import display\n",
    "import circuitsvis as cv\n",
    "from huggingface_hub import hf_hub_download, snapshot_download\n",
    "from tqdm import tqdm\n",
    "\n",
    "from model import SparseAutoencoder\n",
    "from config import SAEConfig\n",
    "\n",
    "from utils import imshow\n",
    "\n",
    "import plotly.express as px\n",
    "import plotly.graph_objects as go\n",
    "\n",
    "import os\n"
   ]
  },
  {
   "cell_type": "code",
   "execution_count": 10,
   "metadata": {},
   "outputs": [
    {
     "data": {
      "application/vnd.jupyter.widget-view+json": {
       "model_id": "47c96acd1c1a47cdb0dd092579794d66",
       "version_major": 2,
       "version_minor": 0
      },
      "text/plain": [
       "Fetching 26 files:   0%|          | 0/26 [00:00<?, ?it/s]"
      ]
     },
     "metadata": {},
     "output_type": "display_data"
    },
    {
     "data": {
      "application/vnd.jupyter.widget-view+json": {
       "model_id": "619896bc9b9245da8016a6e11c1f41d8",
       "version_major": 2,
       "version_minor": 0
      },
      "text/plain": [
       ".gitattributes:   0%|          | 0.00/1.52k [00:00<?, ?B/s]"
      ]
     },
     "metadata": {},
     "output_type": "display_data"
    },
    {
     "data": {
      "application/vnd.jupyter.widget-view+json": {
       "model_id": "4fdcae39350744b9a4c1d166952aea03",
       "version_major": 2,
       "version_minor": 0
      },
      "text/plain": [
       "(…)l_blocks.0.hook_resid_pre_24576/cfg.json:   0%|          | 0.00/1.15k [00:00<?, ?B/s]"
      ]
     },
     "metadata": {},
     "output_type": "display_data"
    },
    {
     "data": {
      "application/vnd.jupyter.widget-view+json": {
       "model_id": "81b101c3e1e243028f01006e0f35bf11",
       "version_major": 2,
       "version_minor": 0
      },
      "text/plain": [
       "(…)_blocks.10.hook_resid_pre_24576/cfg.json:   0%|          | 0.00/1.16k [00:00<?, ?B/s]"
      ]
     },
     "metadata": {},
     "output_type": "display_data"
    },
    {
     "data": {
      "application/vnd.jupyter.widget-view+json": {
       "model_id": "e713f9527f9e4f50981718ccbd2441c6",
       "version_major": 2,
       "version_minor": 0
      },
      "text/plain": [
       "README.md:   0%|          | 0.00/21.0 [00:00<?, ?B/s]"
      ]
     },
     "metadata": {},
     "output_type": "display_data"
    },
    {
     "data": {
      "application/vnd.jupyter.widget-view+json": {
       "model_id": "bd8b1a9caa6d4ea4adb14317507aa556",
       "version_major": 2,
       "version_minor": 0
      },
      "text/plain": [
       "(…)l_blocks.1.hook_resid_pre_24576/cfg.json:   0%|          | 0.00/1.15k [00:00<?, ?B/s]"
      ]
     },
     "metadata": {},
     "output_type": "display_data"
    },
    {
     "data": {
      "application/vnd.jupyter.widget-view+json": {
       "model_id": "2816620405fa433a912a62ba31bb75cc",
       "version_major": 2,
       "version_minor": 0
      },
      "text/plain": [
       "(…)l_blocks.1.hook_resid_pre_24576/model.pt:   0%|          | 0.00/151M [00:00<?, ?B/s]"
      ]
     },
     "metadata": {},
     "output_type": "display_data"
    },
    {
     "data": {
      "application/vnd.jupyter.widget-view+json": {
       "model_id": "42d0764f742a46898fcf8717894dda3d",
       "version_major": 2,
       "version_minor": 0
      },
      "text/plain": [
       "(…)_blocks.10.hook_resid_pre_24576/model.pt:   0%|          | 0.00/151M [00:00<?, ?B/s]"
      ]
     },
     "metadata": {},
     "output_type": "display_data"
    },
    {
     "data": {
      "application/vnd.jupyter.widget-view+json": {
       "model_id": "8fbccec7ded44d1b9d8759482a193cd6",
       "version_major": 2,
       "version_minor": 0
      },
      "text/plain": [
       "(…)l_blocks.0.hook_resid_pre_24576/model.pt:   0%|          | 0.00/151M [00:00<?, ?B/s]"
      ]
     },
     "metadata": {},
     "output_type": "display_data"
    },
    {
     "data": {
      "application/vnd.jupyter.widget-view+json": {
       "model_id": "c4cbf111a2b04011b57b8c534255b071",
       "version_major": 2,
       "version_minor": 0
      },
      "text/plain": [
       "(…)l_blocks.2.hook_resid_pre_24576/cfg.json:   0%|          | 0.00/1.15k [00:00<?, ?B/s]"
      ]
     },
     "metadata": {},
     "output_type": "display_data"
    },
    {
     "data": {
      "application/vnd.jupyter.widget-view+json": {
       "model_id": "3d395c62312f469ab5379d9b8ad46e43",
       "version_major": 2,
       "version_minor": 0
      },
      "text/plain": [
       "(…)_blocks.11.hook_resid_pre_24576/cfg.json:   0%|          | 0.00/1.16k [00:00<?, ?B/s]"
      ]
     },
     "metadata": {},
     "output_type": "display_data"
    },
    {
     "data": {
      "application/vnd.jupyter.widget-view+json": {
       "model_id": "c3996c31bb0c4d2dad30caf258871178",
       "version_major": 2,
       "version_minor": 0
      },
      "text/plain": [
       "(…)_blocks.11.hook_resid_pre_24576/model.pt:   0%|          | 0.00/151M [00:00<?, ?B/s]"
      ]
     },
     "metadata": {},
     "output_type": "display_data"
    },
    {
     "data": {
      "application/vnd.jupyter.widget-view+json": {
       "model_id": "ee437097f7cf4dca89bd87c7087cff8e",
       "version_major": 2,
       "version_minor": 0
      },
      "text/plain": [
       "(…)l_blocks.4.hook_resid_pre_24576/cfg.json:   0%|          | 0.00/1.15k [00:00<?, ?B/s]"
      ]
     },
     "metadata": {},
     "output_type": "display_data"
    },
    {
     "data": {
      "application/vnd.jupyter.widget-view+json": {
       "model_id": "d5343e6e0454435d8b28a328d0f21dc6",
       "version_major": 2,
       "version_minor": 0
      },
      "text/plain": [
       "(…)l_blocks.3.hook_resid_pre_24576/cfg.json:   0%|          | 0.00/1.15k [00:00<?, ?B/s]"
      ]
     },
     "metadata": {},
     "output_type": "display_data"
    },
    {
     "data": {
      "application/vnd.jupyter.widget-view+json": {
       "model_id": "505036bbfc1e4f93a99f62bc13170055",
       "version_major": 2,
       "version_minor": 0
      },
      "text/plain": [
       "(…)l_blocks.2.hook_resid_pre_24576/model.pt:   0%|          | 0.00/151M [00:00<?, ?B/s]"
      ]
     },
     "metadata": {},
     "output_type": "display_data"
    },
    {
     "data": {
      "application/vnd.jupyter.widget-view+json": {
       "model_id": "b75be5961da54b22a3b26e7a6c1dfe1b",
       "version_major": 2,
       "version_minor": 0
      },
      "text/plain": [
       "(…)l_blocks.3.hook_resid_pre_24576/model.pt:   0%|          | 0.00/151M [00:00<?, ?B/s]"
      ]
     },
     "metadata": {},
     "output_type": "display_data"
    },
    {
     "data": {
      "application/vnd.jupyter.widget-view+json": {
       "model_id": "91b5c67639d246a1a5926a6b22e71716",
       "version_major": 2,
       "version_minor": 0
      },
      "text/plain": [
       "(…)l_blocks.5.hook_resid_pre_24576/cfg.json:   0%|          | 0.00/1.15k [00:00<?, ?B/s]"
      ]
     },
     "metadata": {},
     "output_type": "display_data"
    },
    {
     "data": {
      "application/vnd.jupyter.widget-view+json": {
       "model_id": "cf87ebf73b6a4dd1a2fa7823fc0e8551",
       "version_major": 2,
       "version_minor": 0
      },
      "text/plain": [
       "(…)l_blocks.4.hook_resid_pre_24576/model.pt:   0%|          | 0.00/151M [00:00<?, ?B/s]"
      ]
     },
     "metadata": {},
     "output_type": "display_data"
    },
    {
     "data": {
      "application/vnd.jupyter.widget-view+json": {
       "model_id": "1830dd0313aa40a694d9646e296a5f49",
       "version_major": 2,
       "version_minor": 0
      },
      "text/plain": [
       "(…)l_blocks.5.hook_resid_pre_24576/model.pt:   0%|          | 0.00/151M [00:00<?, ?B/s]"
      ]
     },
     "metadata": {},
     "output_type": "display_data"
    },
    {
     "data": {
      "application/vnd.jupyter.widget-view+json": {
       "model_id": "2030771786f546e8946bd845071ed987",
       "version_major": 2,
       "version_minor": 0
      },
      "text/plain": [
       "(…)l_blocks.6.hook_resid_pre_24576/cfg.json:   0%|          | 0.00/1.15k [00:00<?, ?B/s]"
      ]
     },
     "metadata": {},
     "output_type": "display_data"
    },
    {
     "data": {
      "application/vnd.jupyter.widget-view+json": {
       "model_id": "c3d733d6664e45039cf63c5f73c155c3",
       "version_major": 2,
       "version_minor": 0
      },
      "text/plain": [
       "(…)l_blocks.6.hook_resid_pre_24576/model.pt:   0%|          | 0.00/151M [00:00<?, ?B/s]"
      ]
     },
     "metadata": {},
     "output_type": "display_data"
    },
    {
     "data": {
      "application/vnd.jupyter.widget-view+json": {
       "model_id": "b5aaa7a8e9394d0fb814cbe92ee1ac79",
       "version_major": 2,
       "version_minor": 0
      },
      "text/plain": [
       "(…)l_blocks.7.hook_resid_pre_24576/cfg.json:   0%|          | 0.00/1.15k [00:00<?, ?B/s]"
      ]
     },
     "metadata": {},
     "output_type": "display_data"
    },
    {
     "data": {
      "application/vnd.jupyter.widget-view+json": {
       "model_id": "1ede7748dc33403c8110d59945361c0d",
       "version_major": 2,
       "version_minor": 0
      },
      "text/plain": [
       "(…)l_blocks.7.hook_resid_pre_24576/model.pt:   0%|          | 0.00/151M [00:00<?, ?B/s]"
      ]
     },
     "metadata": {},
     "output_type": "display_data"
    },
    {
     "data": {
      "application/vnd.jupyter.widget-view+json": {
       "model_id": "568f21706a2f4fb086497c110227f090",
       "version_major": 2,
       "version_minor": 0
      },
      "text/plain": [
       "(…)l_blocks.8.hook_resid_pre_24576/cfg.json:   0%|          | 0.00/1.15k [00:00<?, ?B/s]"
      ]
     },
     "metadata": {},
     "output_type": "display_data"
    },
    {
     "data": {
      "application/vnd.jupyter.widget-view+json": {
       "model_id": "9a738323ff1a48d7a1925b30e8cd2bbe",
       "version_major": 2,
       "version_minor": 0
      },
      "text/plain": [
       "(…)l_blocks.8.hook_resid_pre_24576/model.pt:   0%|          | 0.00/151M [00:00<?, ?B/s]"
      ]
     },
     "metadata": {},
     "output_type": "display_data"
    },
    {
     "data": {
      "application/vnd.jupyter.widget-view+json": {
       "model_id": "e227493cc5974a66937264c673aacfbb",
       "version_major": 2,
       "version_minor": 0
      },
      "text/plain": [
       "(…)l_blocks.9.hook_resid_pre_24576/cfg.json:   0%|          | 0.00/1.15k [00:00<?, ?B/s]"
      ]
     },
     "metadata": {},
     "output_type": "display_data"
    },
    {
     "data": {
      "application/vnd.jupyter.widget-view+json": {
       "model_id": "c5446f0ccbdd48e69988e81f97d3886b",
       "version_major": 2,
       "version_minor": 0
      },
      "text/plain": [
       "(…)l_blocks.9.hook_resid_pre_24576/model.pt:   0%|          | 0.00/151M [00:00<?, ?B/s]"
      ]
     },
     "metadata": {},
     "output_type": "display_data"
    }
   ],
   "source": [
    "# device = 'cpu' # keep everything on cpu for now\n",
    "device = 'mps'\n",
    "\n",
    "os.makedirs(\"./checkpoints\", exist_ok=True)\n",
    "checkpoints_path = snapshot_download(\"schalnev/jbloom_SAE_reupload\", local_dir=\"checkpoints\")\n",
    "# Note: these are Joseph Bloom's checkpoints, but I had previously downloaded and modified them to be easier to use.\n"
   ]
  },
  {
   "cell_type": "code",
   "execution_count": 11,
   "metadata": {},
   "outputs": [],
   "source": [
    "TARGET_FEATURE_LAYER = 11\n",
    "TARGET_FEATURE_ID = 23531\n",
    "ACTIVATION_THRESHOLD = 10.0"
   ]
  },
  {
   "cell_type": "code",
   "execution_count": 14,
   "metadata": {},
   "outputs": [
    {
     "name": "stdout",
     "output_type": "stream",
     "text": [
      "Loaded pretrained model gpt2-small into HookedTransformer\n"
     ]
    }
   ],
   "source": [
    "# load model\n",
    "model = HookedTransformer.from_pretrained('gpt2-small', device=device)\n",
    "\n",
    "# Load the SAEs\n",
    "saes = [] # one for each layer\n",
    "for layer in range(model.cfg.n_layers):\n",
    "    path = f\"{checkpoints_path}/final_sparse_autoencoder_gpt2-small_blocks.{layer}.hook_resid_pre_24576\"\n",
    "    sae = SparseAutoencoder.load_from_pretrained(path, silent=True)\n",
    "    sae.to(device)\n",
    "    saes.append(sae)"
   ]
  },
  {
   "cell_type": "code",
   "execution_count": 15,
   "metadata": {},
   "outputs": [],
   "source": [
    "### For use with activation patching ###\n",
    "# text = \"the team traveled by\" # bus\n",
    "# text = \"the team succeeded by\" # working together\n",
    "\n",
    "# text = \"the cricket team traveled predominantly by\" # bus\n",
    "text = \"the cricket team succeeded predominantly by\" # working together\n",
    "###"
   ]
  },
  {
   "cell_type": "code",
   "execution_count": 16,
   "metadata": {},
   "outputs": [],
   "source": [
    "# text = \"They raised awareness for the cause by\"\n",
    "\n",
    "tokens = model.tokenizer.encode(text, return_tensors=\"pt\")\n",
    "tokens = torch.cat([torch.tensor([[model.tokenizer.bos_token_id]]), tokens], dim=1) # prepend bos\n",
    "\n",
    "logits, cache = model.run_with_cache(tokens)"
   ]
  },
  {
   "cell_type": "code",
   "execution_count": 17,
   "metadata": {},
   "outputs": [],
   "source": [
    "# display(cv.attention.attention_patterns(\n",
    "#     tokens=model.to_str_tokens(tokens),\n",
    "#     attention=cache['pattern', 11][0],\n",
    "#     attention_head_names=[f\"L0H{i}\" for i in range(12)],\n",
    "# ))"
   ]
  },
  {
   "cell_type": "code",
   "execution_count": 18,
   "metadata": {},
   "outputs": [
    {
     "data": {
      "text/plain": [
       "tensor([ 0.0000,  0.0000,  0.0000,  0.0000,  0.0000,  0.0000, 41.8160],\n",
       "       device='mps:0')"
      ]
     },
     "execution_count": 18,
     "metadata": {},
     "output_type": "execute_result"
    }
   ],
   "source": [
    "@torch.no_grad()\n",
    "def get_feature_activations(cache, layer, id):\n",
    "    target_f_sae = saes[layer]\n",
    "    _, feature_acts, _, _, _ = target_f_sae(cache['resid_post', layer][0])\n",
    "    target_f_acts = feature_acts[:, id]\n",
    "    return target_f_acts\n",
    "\n",
    "\n",
    "\n",
    "get_feature_activations(cache, TARGET_FEATURE_LAYER, TARGET_FEATURE_ID)"
   ]
  },
  {
   "cell_type": "code",
   "execution_count": 19,
   "metadata": {},
   "outputs": [],
   "source": [
    "def get_grads(layer, id, tokens):\n",
    "    grads = {k: None for k in range(model.cfg.n_layers)}\n",
    "    resid_cache = []\n",
    "\n",
    "    target_f_sae = saes[layer]\n",
    "    target_f_sae.zero_grad()\n",
    "    model.zero_grad()\n",
    "\n",
    "    def back_hook(input, hook):\n",
    "        grads[hook.layer()] = input\n",
    "    \n",
    "    def c_hook(input, hook):\n",
    "        resid_cache.append(input)\n",
    "    \n",
    "    bwd_hooks = [(f\"blocks.{i}.hook_resid_post\", back_hook) for i in range(model.cfg.n_layers)]\n",
    "    cache_hooks = [(f\"blocks.{i}.hook_resid_post\", c_hook) for i in range(model.cfg.n_layers)]\n",
    "\n",
    "    with model.hooks(fwd_hooks=cache_hooks, bwd_hooks=bwd_hooks):\n",
    "        logits = model(tokens)\n",
    "        resid_at_final = resid_cache[-1][0]\n",
    "        _, feature_acts, _, _, _ = saes[layer](resid_at_final)\n",
    "        target_f_acts = feature_acts[:, id]\n",
    "        target_f_acts[-1].backward()\n",
    "    \n",
    "    return grads\n",
    "\n",
    "grad_dict = get_grads(TARGET_FEATURE_LAYER, TARGET_FEATURE_ID, tokens)\n",
    "\n",
    "    "
   ]
  },
  {
   "cell_type": "code",
   "execution_count": 20,
   "metadata": {},
   "outputs": [],
   "source": [
    "### Get the gradient of the target feature wrt residual stream. ###\n",
    "\n",
    "# resid_cache = []\n",
    "# grad_dict = {k: None for k in range(model.cfg.n_layers)}\n",
    "\n",
    "# def back_hook(input, hook):\n",
    "#     # print(hook.layer())\n",
    "#     grad_dict[hook.layer()] = input\n",
    "\n",
    "# def c_hook(input, hook):\n",
    "#     resid_cache.append(input)\n",
    "\n",
    "# bwd_hooks = [(f\"blocks.{i}.hook_resid_post\", back_hook) for i in range(model.cfg.n_layers)]\n",
    "# cache_hooks = [(f\"blocks.{i}.hook_resid_post\", c_hook) for i in range(model.cfg.n_layers)]\n",
    "\n",
    "\n",
    "# with model.hooks(fwd_hooks=cache_hooks, bwd_hooks=bwd_hooks):\n",
    "#     logits = model(tokens)\n",
    "#     resid_at_final = resid_cache[-1][0]\n",
    "#     _, feature_acts, _, _, _ = saes[TARGET_FEATURE_LAYER](resid_at_final)\n",
    "#     target_f_acts = feature_acts[:, TARGET_FEATURE_ID]\n",
    "#     target_f_acts[-1].backward()\n"
   ]
  },
  {
   "cell_type": "code",
   "execution_count": 21,
   "metadata": {},
   "outputs": [
    {
     "data": {
      "application/vnd.plotly.v1+json": {
       "config": {
        "plotlyServerURL": "https://plot.ly",
        "staticPlot": false
       },
       "data": [
        {
         "coloraxis": "coloraxis",
         "hovertemplate": "Position: %{x}<br>Layer: %{y}<br>color: %{z}<extra></extra>",
         "name": "0",
         "type": "heatmap",
         "x": [
          "<|endoftext|>",
          "the",
          " cricket",
          " team",
          " succeeded",
          " predominantly",
          " by"
         ],
         "xaxis": "x",
         "yaxis": "y",
         "z": [
          [
           48.43970489501953,
           55.90247344970703,
           31.312711715698242,
           46.366146087646484,
           182.26608276367188,
           58.2581787109375,
           124.59497833251953
          ],
          [
           20.531471252441406,
           67.8436279296875,
           29.615211486816406,
           64.77338409423828,
           235.77622985839844,
           77.57121276855469,
           219.7730712890625
          ],
          [
           12.536678314208984,
           67.35340118408203,
           26.84986114501953,
           66.31304931640625,
           193.33045959472656,
           78.2049560546875,
           282.0814208984375
          ],
          [
           11.231317520141602,
           58.0809440612793,
           22.449268341064453,
           55.1761589050293,
           113.12141418457031,
           75.92720031738281,
           222.3198699951172
          ],
          [
           9.830751419067383,
           33.08396911621094,
           20.950481414794922,
           43.755889892578125,
           83.39913177490234,
           65.24058532714844,
           204.91943359375
          ],
          [
           8.73752212524414,
           19.009103775024414,
           18.18512535095215,
           25.028701782226562,
           67.54493713378906,
           47.33438491821289,
           181.15646362304688
          ],
          [
           6.997315406799316,
           9.253484725952148,
           15.411352157592773,
           16.27185821533203,
           39.80693054199219,
           17.751737594604492,
           134.6937713623047
          ],
          [
           5.1589202880859375,
           6.3622565269470215,
           10.585981369018555,
           9.9140625,
           9.36458969116211,
           11.677215576171875,
           105.5653076171875
          ],
          [
           4.626399040222168,
           4.760411262512207,
           9.425636291503906,
           7.335106372833252,
           6.142071723937988,
           5.827683448791504,
           92.15850830078125
          ],
          [
           3.562736988067627,
           4.066064357757568,
           7.196656227111816,
           4.592769622802734,
           5.124145030975342,
           3.0948925018310547,
           85.48101806640625
          ],
          [
           2.49145245552063,
           3.6652932167053223,
           4.530791282653809,
           3.9915239810943604,
           2.943458080291748,
           2.4799294471740723,
           84.50727844238281
          ]
         ]
        }
       ],
       "layout": {
        "coloraxis": {
         "cmid": 0,
         "colorscale": [
          [
           0,
           "rgb(103,0,31)"
          ],
          [
           0.1,
           "rgb(178,24,43)"
          ],
          [
           0.2,
           "rgb(214,96,77)"
          ],
          [
           0.3,
           "rgb(244,165,130)"
          ],
          [
           0.4,
           "rgb(253,219,199)"
          ],
          [
           0.5,
           "rgb(247,247,247)"
          ],
          [
           0.6,
           "rgb(209,229,240)"
          ],
          [
           0.7,
           "rgb(146,197,222)"
          ],
          [
           0.8,
           "rgb(67,147,195)"
          ],
          [
           0.9,
           "rgb(33,102,172)"
          ],
          [
           1,
           "rgb(5,48,97)"
          ]
         ]
        },
        "height": 600,
        "template": {
         "data": {
          "bar": [
           {
            "error_x": {
             "color": "#2a3f5f"
            },
            "error_y": {
             "color": "#2a3f5f"
            },
            "marker": {
             "line": {
              "color": "#E5ECF6",
              "width": 0.5
             },
             "pattern": {
              "fillmode": "overlay",
              "size": 10,
              "solidity": 0.2
             }
            },
            "type": "bar"
           }
          ],
          "barpolar": [
           {
            "marker": {
             "line": {
              "color": "#E5ECF6",
              "width": 0.5
             },
             "pattern": {
              "fillmode": "overlay",
              "size": 10,
              "solidity": 0.2
             }
            },
            "type": "barpolar"
           }
          ],
          "carpet": [
           {
            "aaxis": {
             "endlinecolor": "#2a3f5f",
             "gridcolor": "white",
             "linecolor": "white",
             "minorgridcolor": "white",
             "startlinecolor": "#2a3f5f"
            },
            "baxis": {
             "endlinecolor": "#2a3f5f",
             "gridcolor": "white",
             "linecolor": "white",
             "minorgridcolor": "white",
             "startlinecolor": "#2a3f5f"
            },
            "type": "carpet"
           }
          ],
          "choropleth": [
           {
            "colorbar": {
             "outlinewidth": 0,
             "ticks": ""
            },
            "type": "choropleth"
           }
          ],
          "contour": [
           {
            "colorbar": {
             "outlinewidth": 0,
             "ticks": ""
            },
            "colorscale": [
             [
              0,
              "#0d0887"
             ],
             [
              0.1111111111111111,
              "#46039f"
             ],
             [
              0.2222222222222222,
              "#7201a8"
             ],
             [
              0.3333333333333333,
              "#9c179e"
             ],
             [
              0.4444444444444444,
              "#bd3786"
             ],
             [
              0.5555555555555556,
              "#d8576b"
             ],
             [
              0.6666666666666666,
              "#ed7953"
             ],
             [
              0.7777777777777778,
              "#fb9f3a"
             ],
             [
              0.8888888888888888,
              "#fdca26"
             ],
             [
              1,
              "#f0f921"
             ]
            ],
            "type": "contour"
           }
          ],
          "contourcarpet": [
           {
            "colorbar": {
             "outlinewidth": 0,
             "ticks": ""
            },
            "type": "contourcarpet"
           }
          ],
          "heatmap": [
           {
            "colorbar": {
             "outlinewidth": 0,
             "ticks": ""
            },
            "colorscale": [
             [
              0,
              "#0d0887"
             ],
             [
              0.1111111111111111,
              "#46039f"
             ],
             [
              0.2222222222222222,
              "#7201a8"
             ],
             [
              0.3333333333333333,
              "#9c179e"
             ],
             [
              0.4444444444444444,
              "#bd3786"
             ],
             [
              0.5555555555555556,
              "#d8576b"
             ],
             [
              0.6666666666666666,
              "#ed7953"
             ],
             [
              0.7777777777777778,
              "#fb9f3a"
             ],
             [
              0.8888888888888888,
              "#fdca26"
             ],
             [
              1,
              "#f0f921"
             ]
            ],
            "type": "heatmap"
           }
          ],
          "heatmapgl": [
           {
            "colorbar": {
             "outlinewidth": 0,
             "ticks": ""
            },
            "colorscale": [
             [
              0,
              "#0d0887"
             ],
             [
              0.1111111111111111,
              "#46039f"
             ],
             [
              0.2222222222222222,
              "#7201a8"
             ],
             [
              0.3333333333333333,
              "#9c179e"
             ],
             [
              0.4444444444444444,
              "#bd3786"
             ],
             [
              0.5555555555555556,
              "#d8576b"
             ],
             [
              0.6666666666666666,
              "#ed7953"
             ],
             [
              0.7777777777777778,
              "#fb9f3a"
             ],
             [
              0.8888888888888888,
              "#fdca26"
             ],
             [
              1,
              "#f0f921"
             ]
            ],
            "type": "heatmapgl"
           }
          ],
          "histogram": [
           {
            "marker": {
             "pattern": {
              "fillmode": "overlay",
              "size": 10,
              "solidity": 0.2
             }
            },
            "type": "histogram"
           }
          ],
          "histogram2d": [
           {
            "colorbar": {
             "outlinewidth": 0,
             "ticks": ""
            },
            "colorscale": [
             [
              0,
              "#0d0887"
             ],
             [
              0.1111111111111111,
              "#46039f"
             ],
             [
              0.2222222222222222,
              "#7201a8"
             ],
             [
              0.3333333333333333,
              "#9c179e"
             ],
             [
              0.4444444444444444,
              "#bd3786"
             ],
             [
              0.5555555555555556,
              "#d8576b"
             ],
             [
              0.6666666666666666,
              "#ed7953"
             ],
             [
              0.7777777777777778,
              "#fb9f3a"
             ],
             [
              0.8888888888888888,
              "#fdca26"
             ],
             [
              1,
              "#f0f921"
             ]
            ],
            "type": "histogram2d"
           }
          ],
          "histogram2dcontour": [
           {
            "colorbar": {
             "outlinewidth": 0,
             "ticks": ""
            },
            "colorscale": [
             [
              0,
              "#0d0887"
             ],
             [
              0.1111111111111111,
              "#46039f"
             ],
             [
              0.2222222222222222,
              "#7201a8"
             ],
             [
              0.3333333333333333,
              "#9c179e"
             ],
             [
              0.4444444444444444,
              "#bd3786"
             ],
             [
              0.5555555555555556,
              "#d8576b"
             ],
             [
              0.6666666666666666,
              "#ed7953"
             ],
             [
              0.7777777777777778,
              "#fb9f3a"
             ],
             [
              0.8888888888888888,
              "#fdca26"
             ],
             [
              1,
              "#f0f921"
             ]
            ],
            "type": "histogram2dcontour"
           }
          ],
          "mesh3d": [
           {
            "colorbar": {
             "outlinewidth": 0,
             "ticks": ""
            },
            "type": "mesh3d"
           }
          ],
          "parcoords": [
           {
            "line": {
             "colorbar": {
              "outlinewidth": 0,
              "ticks": ""
             }
            },
            "type": "parcoords"
           }
          ],
          "pie": [
           {
            "automargin": true,
            "type": "pie"
           }
          ],
          "scatter": [
           {
            "fillpattern": {
             "fillmode": "overlay",
             "size": 10,
             "solidity": 0.2
            },
            "type": "scatter"
           }
          ],
          "scatter3d": [
           {
            "line": {
             "colorbar": {
              "outlinewidth": 0,
              "ticks": ""
             }
            },
            "marker": {
             "colorbar": {
              "outlinewidth": 0,
              "ticks": ""
             }
            },
            "type": "scatter3d"
           }
          ],
          "scattercarpet": [
           {
            "marker": {
             "colorbar": {
              "outlinewidth": 0,
              "ticks": ""
             }
            },
            "type": "scattercarpet"
           }
          ],
          "scattergeo": [
           {
            "marker": {
             "colorbar": {
              "outlinewidth": 0,
              "ticks": ""
             }
            },
            "type": "scattergeo"
           }
          ],
          "scattergl": [
           {
            "marker": {
             "colorbar": {
              "outlinewidth": 0,
              "ticks": ""
             }
            },
            "type": "scattergl"
           }
          ],
          "scattermapbox": [
           {
            "marker": {
             "colorbar": {
              "outlinewidth": 0,
              "ticks": ""
             }
            },
            "type": "scattermapbox"
           }
          ],
          "scatterpolar": [
           {
            "marker": {
             "colorbar": {
              "outlinewidth": 0,
              "ticks": ""
             }
            },
            "type": "scatterpolar"
           }
          ],
          "scatterpolargl": [
           {
            "marker": {
             "colorbar": {
              "outlinewidth": 0,
              "ticks": ""
             }
            },
            "type": "scatterpolargl"
           }
          ],
          "scatterternary": [
           {
            "marker": {
             "colorbar": {
              "outlinewidth": 0,
              "ticks": ""
             }
            },
            "type": "scatterternary"
           }
          ],
          "surface": [
           {
            "colorbar": {
             "outlinewidth": 0,
             "ticks": ""
            },
            "colorscale": [
             [
              0,
              "#0d0887"
             ],
             [
              0.1111111111111111,
              "#46039f"
             ],
             [
              0.2222222222222222,
              "#7201a8"
             ],
             [
              0.3333333333333333,
              "#9c179e"
             ],
             [
              0.4444444444444444,
              "#bd3786"
             ],
             [
              0.5555555555555556,
              "#d8576b"
             ],
             [
              0.6666666666666666,
              "#ed7953"
             ],
             [
              0.7777777777777778,
              "#fb9f3a"
             ],
             [
              0.8888888888888888,
              "#fdca26"
             ],
             [
              1,
              "#f0f921"
             ]
            ],
            "type": "surface"
           }
          ],
          "table": [
           {
            "cells": {
             "fill": {
              "color": "#EBF0F8"
             },
             "line": {
              "color": "white"
             }
            },
            "header": {
             "fill": {
              "color": "#C8D4E3"
             },
             "line": {
              "color": "white"
             }
            },
            "type": "table"
           }
          ]
         },
         "layout": {
          "annotationdefaults": {
           "arrowcolor": "#2a3f5f",
           "arrowhead": 0,
           "arrowwidth": 1
          },
          "autotypenumbers": "strict",
          "coloraxis": {
           "colorbar": {
            "outlinewidth": 0,
            "ticks": ""
           }
          },
          "colorscale": {
           "diverging": [
            [
             0,
             "#8e0152"
            ],
            [
             0.1,
             "#c51b7d"
            ],
            [
             0.2,
             "#de77ae"
            ],
            [
             0.3,
             "#f1b6da"
            ],
            [
             0.4,
             "#fde0ef"
            ],
            [
             0.5,
             "#f7f7f7"
            ],
            [
             0.6,
             "#e6f5d0"
            ],
            [
             0.7,
             "#b8e186"
            ],
            [
             0.8,
             "#7fbc41"
            ],
            [
             0.9,
             "#4d9221"
            ],
            [
             1,
             "#276419"
            ]
           ],
           "sequential": [
            [
             0,
             "#0d0887"
            ],
            [
             0.1111111111111111,
             "#46039f"
            ],
            [
             0.2222222222222222,
             "#7201a8"
            ],
            [
             0.3333333333333333,
             "#9c179e"
            ],
            [
             0.4444444444444444,
             "#bd3786"
            ],
            [
             0.5555555555555556,
             "#d8576b"
            ],
            [
             0.6666666666666666,
             "#ed7953"
            ],
            [
             0.7777777777777778,
             "#fb9f3a"
            ],
            [
             0.8888888888888888,
             "#fdca26"
            ],
            [
             1,
             "#f0f921"
            ]
           ],
           "sequentialminus": [
            [
             0,
             "#0d0887"
            ],
            [
             0.1111111111111111,
             "#46039f"
            ],
            [
             0.2222222222222222,
             "#7201a8"
            ],
            [
             0.3333333333333333,
             "#9c179e"
            ],
            [
             0.4444444444444444,
             "#bd3786"
            ],
            [
             0.5555555555555556,
             "#d8576b"
            ],
            [
             0.6666666666666666,
             "#ed7953"
            ],
            [
             0.7777777777777778,
             "#fb9f3a"
            ],
            [
             0.8888888888888888,
             "#fdca26"
            ],
            [
             1,
             "#f0f921"
            ]
           ]
          },
          "colorway": [
           "#636efa",
           "#EF553B",
           "#00cc96",
           "#ab63fa",
           "#FFA15A",
           "#19d3f3",
           "#FF6692",
           "#B6E880",
           "#FF97FF",
           "#FECB52"
          ],
          "font": {
           "color": "#2a3f5f"
          },
          "geo": {
           "bgcolor": "white",
           "lakecolor": "white",
           "landcolor": "#E5ECF6",
           "showlakes": true,
           "showland": true,
           "subunitcolor": "white"
          },
          "hoverlabel": {
           "align": "left"
          },
          "hovermode": "closest",
          "mapbox": {
           "style": "light"
          },
          "paper_bgcolor": "white",
          "plot_bgcolor": "#E5ECF6",
          "polar": {
           "angularaxis": {
            "gridcolor": "white",
            "linecolor": "white",
            "ticks": ""
           },
           "bgcolor": "#E5ECF6",
           "radialaxis": {
            "gridcolor": "white",
            "linecolor": "white",
            "ticks": ""
           }
          },
          "scene": {
           "xaxis": {
            "backgroundcolor": "#E5ECF6",
            "gridcolor": "white",
            "gridwidth": 2,
            "linecolor": "white",
            "showbackground": true,
            "ticks": "",
            "zerolinecolor": "white"
           },
           "yaxis": {
            "backgroundcolor": "#E5ECF6",
            "gridcolor": "white",
            "gridwidth": 2,
            "linecolor": "white",
            "showbackground": true,
            "ticks": "",
            "zerolinecolor": "white"
           },
           "zaxis": {
            "backgroundcolor": "#E5ECF6",
            "gridcolor": "white",
            "gridwidth": 2,
            "linecolor": "white",
            "showbackground": true,
            "ticks": "",
            "zerolinecolor": "white"
           }
          },
          "shapedefaults": {
           "line": {
            "color": "#2a3f5f"
           }
          },
          "ternary": {
           "aaxis": {
            "gridcolor": "white",
            "linecolor": "white",
            "ticks": ""
           },
           "baxis": {
            "gridcolor": "white",
            "linecolor": "white",
            "ticks": ""
           },
           "bgcolor": "#E5ECF6",
           "caxis": {
            "gridcolor": "white",
            "linecolor": "white",
            "ticks": ""
           }
          },
          "title": {
           "x": 0.05
          },
          "xaxis": {
           "automargin": true,
           "gridcolor": "white",
           "linecolor": "white",
           "ticks": "",
           "title": {
            "standoff": 15
           },
           "zerolinecolor": "white",
           "zerolinewidth": 2
          },
          "yaxis": {
           "automargin": true,
           "gridcolor": "white",
           "linecolor": "white",
           "ticks": "",
           "title": {
            "standoff": 15
           },
           "zerolinecolor": "white",
           "zerolinewidth": 2
          }
         }
        },
        "title": {
         "text": "Gradients wrt Residual Stream"
        },
        "width": 800,
        "xaxis": {
         "anchor": "y",
         "constrain": "domain",
         "domain": [
          0,
          1
         ],
         "scaleanchor": "y",
         "title": {
          "text": "Position"
         }
        },
        "yaxis": {
         "anchor": "x",
         "autorange": "reversed",
         "constrain": "domain",
         "domain": [
          0,
          1
         ],
         "title": {
          "text": "Layer"
         }
        }
       }
      }
     },
     "metadata": {},
     "output_type": "display_data"
    }
   ],
   "source": [
    "def plot_grads():\n",
    "    all_grads = []\n",
    "    for k, v in grad_dict.items():\n",
    "        if v is not None:\n",
    "            all_grads.append(v[0])\n",
    "\n",
    "\n",
    "    all_grads = torch.stack(all_grads)\n",
    "    grad_heatmap = all_grads.abs().sum(dim=-1)\n",
    "\n",
    "    labels = [f\"{tok}\" for i, tok in enumerate(model.to_str_tokens(tokens[0]))]\n",
    "    imshow(grad_heatmap, labels={\"x\": \"Position\", \"y\": \"Layer\"},x=labels, title=\"Gradients wrt Residual Stream\", width=800, height=600)\n",
    "\n",
    "\n",
    "plot_grads()"
   ]
  },
  {
   "cell_type": "code",
   "execution_count": 22,
   "metadata": {},
   "outputs": [],
   "source": [
    "@torch.no_grad()\n",
    "def attribution_for_position(layer, position, cache, grad_dict):\n",
    "    sae = saes[layer]\n",
    "    resid_grad = grad_dict[layer][0][position] # d_model vector\n",
    "    grads_along_feats = sae.W_dec @ resid_grad # 24576 dim vector\n",
    "\n",
    "    # compute attribution by multiplying grads_along_feats by feature activations.\n",
    "    _, feature_acts, _, _, _ = saes[layer](cache['resid_post', layer][0])\n",
    "    feature_acts = feature_acts[position] # 24576 dim vector\n",
    "    attribution = grads_along_feats * feature_acts\n",
    "    return attribution # 24576 dim vector\n",
    "\n",
    "# attribution = attribution_for_position(10, 7, cache, grad_dict)\n",
    "\n",
    "# top = attribution.argsort(descending=True)[:5]\n",
    "# print('pos attributions')\n",
    "# print(top)\n",
    "# print(attribution[top])\n",
    "# print()\n",
    "\n",
    "# min = attribution.argsort()[:5]\n",
    "# print('neg attributions')\n",
    "# print(min)\n",
    "# print(attribution[min])\n"
   ]
  },
  {
   "cell_type": "code",
   "execution_count": 23,
   "metadata": {},
   "outputs": [
    {
     "data": {
      "application/vnd.plotly.v1+json": {
       "config": {
        "plotlyServerURL": "https://plot.ly",
        "staticPlot": false
       },
       "data": [
        {
         "coloraxis": "coloraxis",
         "hovertemplate": "Position: %{x}<br>Layer: %{y}<br>color: %{z}<extra></extra>",
         "name": "0",
         "text": [
          [
           "18884",
           "17123",
           "16497",
           "18085",
           "16482",
           "4787",
           "20725"
          ],
          [
           "16962",
           "13283",
           "137",
           "19080",
           "24149",
           "10455",
           "16873"
          ],
          [
           "17273",
           "17255",
           "3870",
           "15118",
           "21363",
           "2682",
           "22032"
          ],
          [
           "2260",
           "21413",
           "20380",
           "3080",
           "1150",
           "5968",
           "4271"
          ],
          [
           "16069",
           "7615",
           "9936",
           "16459",
           "23640",
           "20460",
           "5503"
          ],
          [
           "18454",
           "8814",
           "3820",
           "9678",
           "11048",
           "18171",
           "818"
          ],
          [
           "16383",
           "4256",
           "11001",
           "11153",
           "19363",
           "1001",
           "3396"
          ],
          [
           "758",
           "8657",
           "18512",
           "13202",
           "23240",
           "19144",
           "17052"
          ],
          [
           "7994",
           "14957",
           "11744",
           "3015",
           "1102",
           "7276",
           "19689"
          ],
          [
           "18635",
           "23934",
           "21600",
           "11336",
           "3188",
           "10800",
           "24096"
          ],
          [
           "13352",
           "10658",
           "6183",
           "4268",
           "6339",
           "8965",
           "9960"
          ]
         ],
         "textfont": {
          "size": 12
         },
         "texttemplate": "%{text}",
         "type": "heatmap",
         "x": [
          "<|endoftext|>",
          "the",
          " cricket",
          " team",
          " succeeded",
          " predominantly",
          " by"
         ],
         "xaxis": "x",
         "yaxis": "y",
         "z": [
          [
           4.101584434509277,
           1.259041666984558,
           1.0252599716186523,
           1.5037360191345215,
           9.29348373413086,
           1.7333123683929443,
           2.3850643634796143
          ],
          [
           20.7728214263916,
           1.6403974294662476,
           0.1269001066684723,
           3.3208017349243164,
           10.846792221069336,
           2.7849478721618652,
           17.819194793701172
          ],
          [
           17.51285743713379,
           0.5608997344970703,
           2.097592353820801,
           1.2911131381988525,
           4.417108058929443,
           1.5753164291381836,
           22.683298110961914
          ],
          [
           0.09094394743442535,
           0.25440019369125366,
           0.9752466678619385,
           0.3615560233592987,
           1.1216970682144165,
           3.541905641555786,
           19.018877029418945
          ],
          [
           0.02792937681078911,
           1.9073023796081543,
           2.0490643978118896,
           0.9568619728088379,
           1.3731629848480225,
           7.998348712921143,
           11.402507781982422
          ],
          [
           0.25043752789497375,
           1.504874348640442,
           2.149742603302002,
           1.2843706607818604,
           5.779348850250244,
           4.648877143859863,
           14.784382820129395
          ],
          [
           0.12024641036987305,
           1.0864999294281006,
           1.4530237913131714,
           0.8978858590126038,
           4.301352024078369,
           1.1842033863067627,
           8.496834754943848
          ],
          [
           0.0033882404677569866,
           0.43928343057632446,
           0.482708215713501,
           0.07890278846025467,
           0.09238289296627045,
           0.7640857100486755,
           8.994897842407227
          ],
          [
           0.01660202629864216,
           0.5915356874465942,
           0.4129064381122589,
           0.11345277726650238,
           0.051882028579711914,
           0.25197526812553406,
           8.262807846069336
          ],
          [
           0.006562412716448307,
           0.590974748134613,
           0.47517094016075134,
           0.16507449746131897,
           0.061757512390613556,
           0.10254217684268951,
           18.606168746948242
          ],
          [
           0.00338843185454607,
           0.4163242280483246,
           0.3990902900695801,
           0.17790289223194122,
           0.10747013986110687,
           0.07295918464660645,
           29.148242950439453
          ]
         ]
        }
       ],
       "layout": {
        "coloraxis": {
         "cmid": 0,
         "colorscale": [
          [
           0,
           "rgb(103,0,31)"
          ],
          [
           0.1,
           "rgb(178,24,43)"
          ],
          [
           0.2,
           "rgb(214,96,77)"
          ],
          [
           0.3,
           "rgb(244,165,130)"
          ],
          [
           0.4,
           "rgb(253,219,199)"
          ],
          [
           0.5,
           "rgb(247,247,247)"
          ],
          [
           0.6,
           "rgb(209,229,240)"
          ],
          [
           0.7,
           "rgb(146,197,222)"
          ],
          [
           0.8,
           "rgb(67,147,195)"
          ],
          [
           0.9,
           "rgb(33,102,172)"
          ],
          [
           1,
           "rgb(5,48,97)"
          ]
         ]
        },
        "height": 600,
        "template": {
         "data": {
          "bar": [
           {
            "error_x": {
             "color": "#2a3f5f"
            },
            "error_y": {
             "color": "#2a3f5f"
            },
            "marker": {
             "line": {
              "color": "#E5ECF6",
              "width": 0.5
             },
             "pattern": {
              "fillmode": "overlay",
              "size": 10,
              "solidity": 0.2
             }
            },
            "type": "bar"
           }
          ],
          "barpolar": [
           {
            "marker": {
             "line": {
              "color": "#E5ECF6",
              "width": 0.5
             },
             "pattern": {
              "fillmode": "overlay",
              "size": 10,
              "solidity": 0.2
             }
            },
            "type": "barpolar"
           }
          ],
          "carpet": [
           {
            "aaxis": {
             "endlinecolor": "#2a3f5f",
             "gridcolor": "white",
             "linecolor": "white",
             "minorgridcolor": "white",
             "startlinecolor": "#2a3f5f"
            },
            "baxis": {
             "endlinecolor": "#2a3f5f",
             "gridcolor": "white",
             "linecolor": "white",
             "minorgridcolor": "white",
             "startlinecolor": "#2a3f5f"
            },
            "type": "carpet"
           }
          ],
          "choropleth": [
           {
            "colorbar": {
             "outlinewidth": 0,
             "ticks": ""
            },
            "type": "choropleth"
           }
          ],
          "contour": [
           {
            "colorbar": {
             "outlinewidth": 0,
             "ticks": ""
            },
            "colorscale": [
             [
              0,
              "#0d0887"
             ],
             [
              0.1111111111111111,
              "#46039f"
             ],
             [
              0.2222222222222222,
              "#7201a8"
             ],
             [
              0.3333333333333333,
              "#9c179e"
             ],
             [
              0.4444444444444444,
              "#bd3786"
             ],
             [
              0.5555555555555556,
              "#d8576b"
             ],
             [
              0.6666666666666666,
              "#ed7953"
             ],
             [
              0.7777777777777778,
              "#fb9f3a"
             ],
             [
              0.8888888888888888,
              "#fdca26"
             ],
             [
              1,
              "#f0f921"
             ]
            ],
            "type": "contour"
           }
          ],
          "contourcarpet": [
           {
            "colorbar": {
             "outlinewidth": 0,
             "ticks": ""
            },
            "type": "contourcarpet"
           }
          ],
          "heatmap": [
           {
            "colorbar": {
             "outlinewidth": 0,
             "ticks": ""
            },
            "colorscale": [
             [
              0,
              "#0d0887"
             ],
             [
              0.1111111111111111,
              "#46039f"
             ],
             [
              0.2222222222222222,
              "#7201a8"
             ],
             [
              0.3333333333333333,
              "#9c179e"
             ],
             [
              0.4444444444444444,
              "#bd3786"
             ],
             [
              0.5555555555555556,
              "#d8576b"
             ],
             [
              0.6666666666666666,
              "#ed7953"
             ],
             [
              0.7777777777777778,
              "#fb9f3a"
             ],
             [
              0.8888888888888888,
              "#fdca26"
             ],
             [
              1,
              "#f0f921"
             ]
            ],
            "type": "heatmap"
           }
          ],
          "heatmapgl": [
           {
            "colorbar": {
             "outlinewidth": 0,
             "ticks": ""
            },
            "colorscale": [
             [
              0,
              "#0d0887"
             ],
             [
              0.1111111111111111,
              "#46039f"
             ],
             [
              0.2222222222222222,
              "#7201a8"
             ],
             [
              0.3333333333333333,
              "#9c179e"
             ],
             [
              0.4444444444444444,
              "#bd3786"
             ],
             [
              0.5555555555555556,
              "#d8576b"
             ],
             [
              0.6666666666666666,
              "#ed7953"
             ],
             [
              0.7777777777777778,
              "#fb9f3a"
             ],
             [
              0.8888888888888888,
              "#fdca26"
             ],
             [
              1,
              "#f0f921"
             ]
            ],
            "type": "heatmapgl"
           }
          ],
          "histogram": [
           {
            "marker": {
             "pattern": {
              "fillmode": "overlay",
              "size": 10,
              "solidity": 0.2
             }
            },
            "type": "histogram"
           }
          ],
          "histogram2d": [
           {
            "colorbar": {
             "outlinewidth": 0,
             "ticks": ""
            },
            "colorscale": [
             [
              0,
              "#0d0887"
             ],
             [
              0.1111111111111111,
              "#46039f"
             ],
             [
              0.2222222222222222,
              "#7201a8"
             ],
             [
              0.3333333333333333,
              "#9c179e"
             ],
             [
              0.4444444444444444,
              "#bd3786"
             ],
             [
              0.5555555555555556,
              "#d8576b"
             ],
             [
              0.6666666666666666,
              "#ed7953"
             ],
             [
              0.7777777777777778,
              "#fb9f3a"
             ],
             [
              0.8888888888888888,
              "#fdca26"
             ],
             [
              1,
              "#f0f921"
             ]
            ],
            "type": "histogram2d"
           }
          ],
          "histogram2dcontour": [
           {
            "colorbar": {
             "outlinewidth": 0,
             "ticks": ""
            },
            "colorscale": [
             [
              0,
              "#0d0887"
             ],
             [
              0.1111111111111111,
              "#46039f"
             ],
             [
              0.2222222222222222,
              "#7201a8"
             ],
             [
              0.3333333333333333,
              "#9c179e"
             ],
             [
              0.4444444444444444,
              "#bd3786"
             ],
             [
              0.5555555555555556,
              "#d8576b"
             ],
             [
              0.6666666666666666,
              "#ed7953"
             ],
             [
              0.7777777777777778,
              "#fb9f3a"
             ],
             [
              0.8888888888888888,
              "#fdca26"
             ],
             [
              1,
              "#f0f921"
             ]
            ],
            "type": "histogram2dcontour"
           }
          ],
          "mesh3d": [
           {
            "colorbar": {
             "outlinewidth": 0,
             "ticks": ""
            },
            "type": "mesh3d"
           }
          ],
          "parcoords": [
           {
            "line": {
             "colorbar": {
              "outlinewidth": 0,
              "ticks": ""
             }
            },
            "type": "parcoords"
           }
          ],
          "pie": [
           {
            "automargin": true,
            "type": "pie"
           }
          ],
          "scatter": [
           {
            "fillpattern": {
             "fillmode": "overlay",
             "size": 10,
             "solidity": 0.2
            },
            "type": "scatter"
           }
          ],
          "scatter3d": [
           {
            "line": {
             "colorbar": {
              "outlinewidth": 0,
              "ticks": ""
             }
            },
            "marker": {
             "colorbar": {
              "outlinewidth": 0,
              "ticks": ""
             }
            },
            "type": "scatter3d"
           }
          ],
          "scattercarpet": [
           {
            "marker": {
             "colorbar": {
              "outlinewidth": 0,
              "ticks": ""
             }
            },
            "type": "scattercarpet"
           }
          ],
          "scattergeo": [
           {
            "marker": {
             "colorbar": {
              "outlinewidth": 0,
              "ticks": ""
             }
            },
            "type": "scattergeo"
           }
          ],
          "scattergl": [
           {
            "marker": {
             "colorbar": {
              "outlinewidth": 0,
              "ticks": ""
             }
            },
            "type": "scattergl"
           }
          ],
          "scattermapbox": [
           {
            "marker": {
             "colorbar": {
              "outlinewidth": 0,
              "ticks": ""
             }
            },
            "type": "scattermapbox"
           }
          ],
          "scatterpolar": [
           {
            "marker": {
             "colorbar": {
              "outlinewidth": 0,
              "ticks": ""
             }
            },
            "type": "scatterpolar"
           }
          ],
          "scatterpolargl": [
           {
            "marker": {
             "colorbar": {
              "outlinewidth": 0,
              "ticks": ""
             }
            },
            "type": "scatterpolargl"
           }
          ],
          "scatterternary": [
           {
            "marker": {
             "colorbar": {
              "outlinewidth": 0,
              "ticks": ""
             }
            },
            "type": "scatterternary"
           }
          ],
          "surface": [
           {
            "colorbar": {
             "outlinewidth": 0,
             "ticks": ""
            },
            "colorscale": [
             [
              0,
              "#0d0887"
             ],
             [
              0.1111111111111111,
              "#46039f"
             ],
             [
              0.2222222222222222,
              "#7201a8"
             ],
             [
              0.3333333333333333,
              "#9c179e"
             ],
             [
              0.4444444444444444,
              "#bd3786"
             ],
             [
              0.5555555555555556,
              "#d8576b"
             ],
             [
              0.6666666666666666,
              "#ed7953"
             ],
             [
              0.7777777777777778,
              "#fb9f3a"
             ],
             [
              0.8888888888888888,
              "#fdca26"
             ],
             [
              1,
              "#f0f921"
             ]
            ],
            "type": "surface"
           }
          ],
          "table": [
           {
            "cells": {
             "fill": {
              "color": "#EBF0F8"
             },
             "line": {
              "color": "white"
             }
            },
            "header": {
             "fill": {
              "color": "#C8D4E3"
             },
             "line": {
              "color": "white"
             }
            },
            "type": "table"
           }
          ]
         },
         "layout": {
          "annotationdefaults": {
           "arrowcolor": "#2a3f5f",
           "arrowhead": 0,
           "arrowwidth": 1
          },
          "autotypenumbers": "strict",
          "coloraxis": {
           "colorbar": {
            "outlinewidth": 0,
            "ticks": ""
           }
          },
          "colorscale": {
           "diverging": [
            [
             0,
             "#8e0152"
            ],
            [
             0.1,
             "#c51b7d"
            ],
            [
             0.2,
             "#de77ae"
            ],
            [
             0.3,
             "#f1b6da"
            ],
            [
             0.4,
             "#fde0ef"
            ],
            [
             0.5,
             "#f7f7f7"
            ],
            [
             0.6,
             "#e6f5d0"
            ],
            [
             0.7,
             "#b8e186"
            ],
            [
             0.8,
             "#7fbc41"
            ],
            [
             0.9,
             "#4d9221"
            ],
            [
             1,
             "#276419"
            ]
           ],
           "sequential": [
            [
             0,
             "#0d0887"
            ],
            [
             0.1111111111111111,
             "#46039f"
            ],
            [
             0.2222222222222222,
             "#7201a8"
            ],
            [
             0.3333333333333333,
             "#9c179e"
            ],
            [
             0.4444444444444444,
             "#bd3786"
            ],
            [
             0.5555555555555556,
             "#d8576b"
            ],
            [
             0.6666666666666666,
             "#ed7953"
            ],
            [
             0.7777777777777778,
             "#fb9f3a"
            ],
            [
             0.8888888888888888,
             "#fdca26"
            ],
            [
             1,
             "#f0f921"
            ]
           ],
           "sequentialminus": [
            [
             0,
             "#0d0887"
            ],
            [
             0.1111111111111111,
             "#46039f"
            ],
            [
             0.2222222222222222,
             "#7201a8"
            ],
            [
             0.3333333333333333,
             "#9c179e"
            ],
            [
             0.4444444444444444,
             "#bd3786"
            ],
            [
             0.5555555555555556,
             "#d8576b"
            ],
            [
             0.6666666666666666,
             "#ed7953"
            ],
            [
             0.7777777777777778,
             "#fb9f3a"
            ],
            [
             0.8888888888888888,
             "#fdca26"
            ],
            [
             1,
             "#f0f921"
            ]
           ]
          },
          "colorway": [
           "#636efa",
           "#EF553B",
           "#00cc96",
           "#ab63fa",
           "#FFA15A",
           "#19d3f3",
           "#FF6692",
           "#B6E880",
           "#FF97FF",
           "#FECB52"
          ],
          "font": {
           "color": "#2a3f5f"
          },
          "geo": {
           "bgcolor": "white",
           "lakecolor": "white",
           "landcolor": "#E5ECF6",
           "showlakes": true,
           "showland": true,
           "subunitcolor": "white"
          },
          "hoverlabel": {
           "align": "left"
          },
          "hovermode": "closest",
          "mapbox": {
           "style": "light"
          },
          "paper_bgcolor": "white",
          "plot_bgcolor": "#E5ECF6",
          "polar": {
           "angularaxis": {
            "gridcolor": "white",
            "linecolor": "white",
            "ticks": ""
           },
           "bgcolor": "#E5ECF6",
           "radialaxis": {
            "gridcolor": "white",
            "linecolor": "white",
            "ticks": ""
           }
          },
          "scene": {
           "xaxis": {
            "backgroundcolor": "#E5ECF6",
            "gridcolor": "white",
            "gridwidth": 2,
            "linecolor": "white",
            "showbackground": true,
            "ticks": "",
            "zerolinecolor": "white"
           },
           "yaxis": {
            "backgroundcolor": "#E5ECF6",
            "gridcolor": "white",
            "gridwidth": 2,
            "linecolor": "white",
            "showbackground": true,
            "ticks": "",
            "zerolinecolor": "white"
           },
           "zaxis": {
            "backgroundcolor": "#E5ECF6",
            "gridcolor": "white",
            "gridwidth": 2,
            "linecolor": "white",
            "showbackground": true,
            "ticks": "",
            "zerolinecolor": "white"
           }
          },
          "shapedefaults": {
           "line": {
            "color": "#2a3f5f"
           }
          },
          "ternary": {
           "aaxis": {
            "gridcolor": "white",
            "linecolor": "white",
            "ticks": ""
           },
           "baxis": {
            "gridcolor": "white",
            "linecolor": "white",
            "ticks": ""
           },
           "bgcolor": "#E5ECF6",
           "caxis": {
            "gridcolor": "white",
            "linecolor": "white",
            "ticks": ""
           }
          },
          "title": {
           "x": 0.05
          },
          "xaxis": {
           "automargin": true,
           "gridcolor": "white",
           "linecolor": "white",
           "ticks": "",
           "title": {
            "standoff": 15
           },
           "zerolinecolor": "white",
           "zerolinewidth": 2
          },
          "yaxis": {
           "automargin": true,
           "gridcolor": "white",
           "linecolor": "white",
           "ticks": "",
           "title": {
            "standoff": 15
           },
           "zerolinecolor": "white",
           "zerolinewidth": 2
          }
         }
        },
        "title": {
         "text": "Most Positive Attributions"
        },
        "width": 800,
        "xaxis": {
         "anchor": "y",
         "constrain": "domain",
         "domain": [
          0,
          1
         ],
         "scaleanchor": "y",
         "title": {
          "text": "Position"
         }
        },
        "yaxis": {
         "anchor": "x",
         "autorange": "reversed",
         "constrain": "domain",
         "domain": [
          0,
          1
         ],
         "title": {
          "text": "Layer"
         }
        }
       }
      }
     },
     "metadata": {},
     "output_type": "display_data"
    }
   ],
   "source": [
    "def max_attribution_for_layer(layer, min=False, k=5):\n",
    "    max_attributions = []\n",
    "    top_features = []\n",
    "    n_toks = cache['embed'].shape[1]\n",
    "    for position in range(n_toks):\n",
    "        attribution = attribution_for_position(layer, position, cache=cache, grad_dict=grad_dict)\n",
    "\n",
    "        if min:\n",
    "            top_idx = attribution.argsort()[:k]\n",
    "        else:\n",
    "            top_idx = attribution.argsort(descending=True)[:k]\n",
    "\n",
    "        top_attrib = attribution[top_idx]\n",
    "\n",
    "        max_attributions.append(top_attrib)\n",
    "        top_features.append(top_idx)\n",
    "\n",
    "    return max_attributions, top_features\n",
    "\n",
    "\n",
    "def visualize_max_attributions(min=False, k=1):\n",
    "    ### most positive attributions ###\n",
    "    max_attributions_by_layer = []\n",
    "    top_features_by_layer = []\n",
    "    for layer in range(model.cfg.n_layers - 1):\n",
    "        max_attributions, top_feature_indices = max_attribution_for_layer(layer, min=min, k=k)\n",
    "        max_attributions = [attrib.sum() for attrib in max_attributions]\n",
    "        top_feature_indices = [idx[0].item() for idx in top_feature_indices]\n",
    "        # break\n",
    "        max_attributions_by_layer.append(max_attributions)\n",
    "        top_features_by_layer.append(top_feature_indices)\n",
    "\n",
    "    max_attributions_by_layer = torch.tensor(max_attributions_by_layer)\n",
    "    top_features_by_layer = torch.tensor(top_features_by_layer)\n",
    "\n",
    "    top_idxs_text = [[str(idx.item()) for idx in indices] for indices in top_features_by_layer]\n",
    "    labels = [f\"{tok}\" for i, tok in enumerate(model.to_str_tokens(tokens[0]))]\n",
    "\n",
    "    title = \"Most Positive Attributions\" if not min else \"Most Negative Attributions\"\n",
    "\n",
    "    imshow(max_attributions_by_layer, labels={\"x\": \"Position\", \"y\": \"Layer\"}, x=labels,title=title, text=top_idxs_text, width=800, height=600)\n",
    "\n",
    "\n",
    "visualize_max_attributions()"
   ]
  },
  {
   "cell_type": "code",
   "execution_count": 24,
   "metadata": {},
   "outputs": [
    {
     "data": {
      "application/vnd.plotly.v1+json": {
       "config": {
        "plotlyServerURL": "https://plot.ly",
        "staticPlot": false
       },
       "data": [
        {
         "coloraxis": "coloraxis",
         "hovertemplate": "Position: %{x}<br>Layer: %{y}<br>color: %{z}<extra></extra>",
         "name": "0",
         "text": [
          [
           "846",
           "13743",
           "15642",
           "7061",
           "2996",
           "16490",
           "2781"
          ],
          [
           "15957",
           "22025",
           "13409",
           "24149",
           "1345",
           "24149",
           "17359"
          ],
          [
           "22514",
           "4783",
           "11719",
           "6328",
           "4013",
           "18744",
           "9715"
          ],
          [
           "1458",
           "4997",
           "1535",
           "20903",
           "11876",
           "6333",
           "10035"
          ],
          [
           "23664",
           "3995",
           "111",
           "740",
           "5939",
           "23127",
           "20460"
          ],
          [
           "4242",
           "10398",
           "9776",
           "20192",
           "10652",
           "3618",
           "22043"
          ],
          [
           "23123",
           "20575",
           "4395",
           "16804",
           "1001",
           "14737",
           "12403"
          ],
          [
           "8598",
           "23387",
           "14690",
           "19259",
           "8192",
           "7847",
           "19415"
          ],
          [
           "11746",
           "19175",
           "11405",
           "10625",
           "2535",
           "7601",
           "12029"
          ],
          [
           "14940",
           "13980",
           "13606",
           "19925",
           "4240",
           "10942",
           "23560"
          ],
          [
           "1794",
           "2166",
           "18833",
           "6095",
           "10493",
           "7511",
           "341"
          ]
         ],
         "textfont": {
          "size": 12
         },
         "texttemplate": "%{text}",
         "type": "heatmap",
         "x": [
          "<|endoftext|>",
          "the",
          " cricket",
          " team",
          " succeeded",
          " predominantly",
          " by"
         ],
         "xaxis": "x",
         "yaxis": "y",
         "z": [
          [
           -7.346299171447754,
           -1.3911075592041016,
           -1.8848592042922974,
           -1.5496951341629028,
           -15.087308883666992,
           -2.5149149894714355,
           -4.439661026000977
          ],
          [
           -22.360797882080078,
           -4.845234394073486,
           -0.927249014377594,
           -2.4632654190063477,
           -9.223227500915527,
           -0.6478602886199951,
           -1.7033056020736694
          ],
          [
           -27.764354705810547,
           -1.9956045150756836,
           -3.444329023361206,
           -2.085850238800049,
           -7.26453971862793,
           -0.7417117953300476,
           -5.817484378814697
          ],
          [
           -0.0004976088530384004,
           -1.8077343702316284,
           -0.01879231072962284,
           -0.8001420497894287,
           -7.848116874694824,
           -0.9275264143943787,
           -1.4007045030593872
          ],
          [
           -0.09015336632728577,
           -0.6971200108528137,
           -0.7417529225349426,
           -1.2324992418289185,
           -4.882659912109375,
           -5.285919189453125,
           -5.045049667358398
          ],
          [
           -0.14882715046405792,
           -0.09139542281627655,
           -2.158493757247925,
           -0.6921439170837402,
           -6.1075592041015625,
           -2.7475950717926025,
           -2.7572357654571533
          ],
          [
           -0.05513216555118561,
           -0.23246759176254272,
           -1.9441885948181152,
           -0.2235998809337616,
           -6.2390594482421875,
           -0.9783918261528015,
           -4.040783882141113
          ],
          [
           -0.12736853957176208,
           -0.06841810792684555,
           -1.5400980710983276,
           -0.11263595521450043,
           -0.5193229913711548,
           -0.7540342211723328,
           -3.0142343044281006
          ],
          [
           -0.11173520237207413,
           -0.044251009821891785,
           -1.0615938901901245,
           -0.14927582442760468,
           -0.18489040434360504,
           -0.5829934477806091,
           -1.426705002784729
          ],
          [
           -0.07820270210504532,
           -0.03337046504020691,
           -0.8644058108329773,
           -0.3436344861984253,
           -0.6267435550689697,
           -0.19395731389522552,
           -2.5138306617736816
          ],
          [
           -0.10672299563884735,
           -0.1658312976360321,
           -0.543828547000885,
           -0.20892386138439178,
           -0.6661849021911621,
           -0.09168589860200882,
           -4.413780212402344
          ]
         ]
        }
       ],
       "layout": {
        "coloraxis": {
         "cmid": 0,
         "colorscale": [
          [
           0,
           "rgb(103,0,31)"
          ],
          [
           0.1,
           "rgb(178,24,43)"
          ],
          [
           0.2,
           "rgb(214,96,77)"
          ],
          [
           0.3,
           "rgb(244,165,130)"
          ],
          [
           0.4,
           "rgb(253,219,199)"
          ],
          [
           0.5,
           "rgb(247,247,247)"
          ],
          [
           0.6,
           "rgb(209,229,240)"
          ],
          [
           0.7,
           "rgb(146,197,222)"
          ],
          [
           0.8,
           "rgb(67,147,195)"
          ],
          [
           0.9,
           "rgb(33,102,172)"
          ],
          [
           1,
           "rgb(5,48,97)"
          ]
         ]
        },
        "height": 600,
        "template": {
         "data": {
          "bar": [
           {
            "error_x": {
             "color": "#2a3f5f"
            },
            "error_y": {
             "color": "#2a3f5f"
            },
            "marker": {
             "line": {
              "color": "#E5ECF6",
              "width": 0.5
             },
             "pattern": {
              "fillmode": "overlay",
              "size": 10,
              "solidity": 0.2
             }
            },
            "type": "bar"
           }
          ],
          "barpolar": [
           {
            "marker": {
             "line": {
              "color": "#E5ECF6",
              "width": 0.5
             },
             "pattern": {
              "fillmode": "overlay",
              "size": 10,
              "solidity": 0.2
             }
            },
            "type": "barpolar"
           }
          ],
          "carpet": [
           {
            "aaxis": {
             "endlinecolor": "#2a3f5f",
             "gridcolor": "white",
             "linecolor": "white",
             "minorgridcolor": "white",
             "startlinecolor": "#2a3f5f"
            },
            "baxis": {
             "endlinecolor": "#2a3f5f",
             "gridcolor": "white",
             "linecolor": "white",
             "minorgridcolor": "white",
             "startlinecolor": "#2a3f5f"
            },
            "type": "carpet"
           }
          ],
          "choropleth": [
           {
            "colorbar": {
             "outlinewidth": 0,
             "ticks": ""
            },
            "type": "choropleth"
           }
          ],
          "contour": [
           {
            "colorbar": {
             "outlinewidth": 0,
             "ticks": ""
            },
            "colorscale": [
             [
              0,
              "#0d0887"
             ],
             [
              0.1111111111111111,
              "#46039f"
             ],
             [
              0.2222222222222222,
              "#7201a8"
             ],
             [
              0.3333333333333333,
              "#9c179e"
             ],
             [
              0.4444444444444444,
              "#bd3786"
             ],
             [
              0.5555555555555556,
              "#d8576b"
             ],
             [
              0.6666666666666666,
              "#ed7953"
             ],
             [
              0.7777777777777778,
              "#fb9f3a"
             ],
             [
              0.8888888888888888,
              "#fdca26"
             ],
             [
              1,
              "#f0f921"
             ]
            ],
            "type": "contour"
           }
          ],
          "contourcarpet": [
           {
            "colorbar": {
             "outlinewidth": 0,
             "ticks": ""
            },
            "type": "contourcarpet"
           }
          ],
          "heatmap": [
           {
            "colorbar": {
             "outlinewidth": 0,
             "ticks": ""
            },
            "colorscale": [
             [
              0,
              "#0d0887"
             ],
             [
              0.1111111111111111,
              "#46039f"
             ],
             [
              0.2222222222222222,
              "#7201a8"
             ],
             [
              0.3333333333333333,
              "#9c179e"
             ],
             [
              0.4444444444444444,
              "#bd3786"
             ],
             [
              0.5555555555555556,
              "#d8576b"
             ],
             [
              0.6666666666666666,
              "#ed7953"
             ],
             [
              0.7777777777777778,
              "#fb9f3a"
             ],
             [
              0.8888888888888888,
              "#fdca26"
             ],
             [
              1,
              "#f0f921"
             ]
            ],
            "type": "heatmap"
           }
          ],
          "heatmapgl": [
           {
            "colorbar": {
             "outlinewidth": 0,
             "ticks": ""
            },
            "colorscale": [
             [
              0,
              "#0d0887"
             ],
             [
              0.1111111111111111,
              "#46039f"
             ],
             [
              0.2222222222222222,
              "#7201a8"
             ],
             [
              0.3333333333333333,
              "#9c179e"
             ],
             [
              0.4444444444444444,
              "#bd3786"
             ],
             [
              0.5555555555555556,
              "#d8576b"
             ],
             [
              0.6666666666666666,
              "#ed7953"
             ],
             [
              0.7777777777777778,
              "#fb9f3a"
             ],
             [
              0.8888888888888888,
              "#fdca26"
             ],
             [
              1,
              "#f0f921"
             ]
            ],
            "type": "heatmapgl"
           }
          ],
          "histogram": [
           {
            "marker": {
             "pattern": {
              "fillmode": "overlay",
              "size": 10,
              "solidity": 0.2
             }
            },
            "type": "histogram"
           }
          ],
          "histogram2d": [
           {
            "colorbar": {
             "outlinewidth": 0,
             "ticks": ""
            },
            "colorscale": [
             [
              0,
              "#0d0887"
             ],
             [
              0.1111111111111111,
              "#46039f"
             ],
             [
              0.2222222222222222,
              "#7201a8"
             ],
             [
              0.3333333333333333,
              "#9c179e"
             ],
             [
              0.4444444444444444,
              "#bd3786"
             ],
             [
              0.5555555555555556,
              "#d8576b"
             ],
             [
              0.6666666666666666,
              "#ed7953"
             ],
             [
              0.7777777777777778,
              "#fb9f3a"
             ],
             [
              0.8888888888888888,
              "#fdca26"
             ],
             [
              1,
              "#f0f921"
             ]
            ],
            "type": "histogram2d"
           }
          ],
          "histogram2dcontour": [
           {
            "colorbar": {
             "outlinewidth": 0,
             "ticks": ""
            },
            "colorscale": [
             [
              0,
              "#0d0887"
             ],
             [
              0.1111111111111111,
              "#46039f"
             ],
             [
              0.2222222222222222,
              "#7201a8"
             ],
             [
              0.3333333333333333,
              "#9c179e"
             ],
             [
              0.4444444444444444,
              "#bd3786"
             ],
             [
              0.5555555555555556,
              "#d8576b"
             ],
             [
              0.6666666666666666,
              "#ed7953"
             ],
             [
              0.7777777777777778,
              "#fb9f3a"
             ],
             [
              0.8888888888888888,
              "#fdca26"
             ],
             [
              1,
              "#f0f921"
             ]
            ],
            "type": "histogram2dcontour"
           }
          ],
          "mesh3d": [
           {
            "colorbar": {
             "outlinewidth": 0,
             "ticks": ""
            },
            "type": "mesh3d"
           }
          ],
          "parcoords": [
           {
            "line": {
             "colorbar": {
              "outlinewidth": 0,
              "ticks": ""
             }
            },
            "type": "parcoords"
           }
          ],
          "pie": [
           {
            "automargin": true,
            "type": "pie"
           }
          ],
          "scatter": [
           {
            "fillpattern": {
             "fillmode": "overlay",
             "size": 10,
             "solidity": 0.2
            },
            "type": "scatter"
           }
          ],
          "scatter3d": [
           {
            "line": {
             "colorbar": {
              "outlinewidth": 0,
              "ticks": ""
             }
            },
            "marker": {
             "colorbar": {
              "outlinewidth": 0,
              "ticks": ""
             }
            },
            "type": "scatter3d"
           }
          ],
          "scattercarpet": [
           {
            "marker": {
             "colorbar": {
              "outlinewidth": 0,
              "ticks": ""
             }
            },
            "type": "scattercarpet"
           }
          ],
          "scattergeo": [
           {
            "marker": {
             "colorbar": {
              "outlinewidth": 0,
              "ticks": ""
             }
            },
            "type": "scattergeo"
           }
          ],
          "scattergl": [
           {
            "marker": {
             "colorbar": {
              "outlinewidth": 0,
              "ticks": ""
             }
            },
            "type": "scattergl"
           }
          ],
          "scattermapbox": [
           {
            "marker": {
             "colorbar": {
              "outlinewidth": 0,
              "ticks": ""
             }
            },
            "type": "scattermapbox"
           }
          ],
          "scatterpolar": [
           {
            "marker": {
             "colorbar": {
              "outlinewidth": 0,
              "ticks": ""
             }
            },
            "type": "scatterpolar"
           }
          ],
          "scatterpolargl": [
           {
            "marker": {
             "colorbar": {
              "outlinewidth": 0,
              "ticks": ""
             }
            },
            "type": "scatterpolargl"
           }
          ],
          "scatterternary": [
           {
            "marker": {
             "colorbar": {
              "outlinewidth": 0,
              "ticks": ""
             }
            },
            "type": "scatterternary"
           }
          ],
          "surface": [
           {
            "colorbar": {
             "outlinewidth": 0,
             "ticks": ""
            },
            "colorscale": [
             [
              0,
              "#0d0887"
             ],
             [
              0.1111111111111111,
              "#46039f"
             ],
             [
              0.2222222222222222,
              "#7201a8"
             ],
             [
              0.3333333333333333,
              "#9c179e"
             ],
             [
              0.4444444444444444,
              "#bd3786"
             ],
             [
              0.5555555555555556,
              "#d8576b"
             ],
             [
              0.6666666666666666,
              "#ed7953"
             ],
             [
              0.7777777777777778,
              "#fb9f3a"
             ],
             [
              0.8888888888888888,
              "#fdca26"
             ],
             [
              1,
              "#f0f921"
             ]
            ],
            "type": "surface"
           }
          ],
          "table": [
           {
            "cells": {
             "fill": {
              "color": "#EBF0F8"
             },
             "line": {
              "color": "white"
             }
            },
            "header": {
             "fill": {
              "color": "#C8D4E3"
             },
             "line": {
              "color": "white"
             }
            },
            "type": "table"
           }
          ]
         },
         "layout": {
          "annotationdefaults": {
           "arrowcolor": "#2a3f5f",
           "arrowhead": 0,
           "arrowwidth": 1
          },
          "autotypenumbers": "strict",
          "coloraxis": {
           "colorbar": {
            "outlinewidth": 0,
            "ticks": ""
           }
          },
          "colorscale": {
           "diverging": [
            [
             0,
             "#8e0152"
            ],
            [
             0.1,
             "#c51b7d"
            ],
            [
             0.2,
             "#de77ae"
            ],
            [
             0.3,
             "#f1b6da"
            ],
            [
             0.4,
             "#fde0ef"
            ],
            [
             0.5,
             "#f7f7f7"
            ],
            [
             0.6,
             "#e6f5d0"
            ],
            [
             0.7,
             "#b8e186"
            ],
            [
             0.8,
             "#7fbc41"
            ],
            [
             0.9,
             "#4d9221"
            ],
            [
             1,
             "#276419"
            ]
           ],
           "sequential": [
            [
             0,
             "#0d0887"
            ],
            [
             0.1111111111111111,
             "#46039f"
            ],
            [
             0.2222222222222222,
             "#7201a8"
            ],
            [
             0.3333333333333333,
             "#9c179e"
            ],
            [
             0.4444444444444444,
             "#bd3786"
            ],
            [
             0.5555555555555556,
             "#d8576b"
            ],
            [
             0.6666666666666666,
             "#ed7953"
            ],
            [
             0.7777777777777778,
             "#fb9f3a"
            ],
            [
             0.8888888888888888,
             "#fdca26"
            ],
            [
             1,
             "#f0f921"
            ]
           ],
           "sequentialminus": [
            [
             0,
             "#0d0887"
            ],
            [
             0.1111111111111111,
             "#46039f"
            ],
            [
             0.2222222222222222,
             "#7201a8"
            ],
            [
             0.3333333333333333,
             "#9c179e"
            ],
            [
             0.4444444444444444,
             "#bd3786"
            ],
            [
             0.5555555555555556,
             "#d8576b"
            ],
            [
             0.6666666666666666,
             "#ed7953"
            ],
            [
             0.7777777777777778,
             "#fb9f3a"
            ],
            [
             0.8888888888888888,
             "#fdca26"
            ],
            [
             1,
             "#f0f921"
            ]
           ]
          },
          "colorway": [
           "#636efa",
           "#EF553B",
           "#00cc96",
           "#ab63fa",
           "#FFA15A",
           "#19d3f3",
           "#FF6692",
           "#B6E880",
           "#FF97FF",
           "#FECB52"
          ],
          "font": {
           "color": "#2a3f5f"
          },
          "geo": {
           "bgcolor": "white",
           "lakecolor": "white",
           "landcolor": "#E5ECF6",
           "showlakes": true,
           "showland": true,
           "subunitcolor": "white"
          },
          "hoverlabel": {
           "align": "left"
          },
          "hovermode": "closest",
          "mapbox": {
           "style": "light"
          },
          "paper_bgcolor": "white",
          "plot_bgcolor": "#E5ECF6",
          "polar": {
           "angularaxis": {
            "gridcolor": "white",
            "linecolor": "white",
            "ticks": ""
           },
           "bgcolor": "#E5ECF6",
           "radialaxis": {
            "gridcolor": "white",
            "linecolor": "white",
            "ticks": ""
           }
          },
          "scene": {
           "xaxis": {
            "backgroundcolor": "#E5ECF6",
            "gridcolor": "white",
            "gridwidth": 2,
            "linecolor": "white",
            "showbackground": true,
            "ticks": "",
            "zerolinecolor": "white"
           },
           "yaxis": {
            "backgroundcolor": "#E5ECF6",
            "gridcolor": "white",
            "gridwidth": 2,
            "linecolor": "white",
            "showbackground": true,
            "ticks": "",
            "zerolinecolor": "white"
           },
           "zaxis": {
            "backgroundcolor": "#E5ECF6",
            "gridcolor": "white",
            "gridwidth": 2,
            "linecolor": "white",
            "showbackground": true,
            "ticks": "",
            "zerolinecolor": "white"
           }
          },
          "shapedefaults": {
           "line": {
            "color": "#2a3f5f"
           }
          },
          "ternary": {
           "aaxis": {
            "gridcolor": "white",
            "linecolor": "white",
            "ticks": ""
           },
           "baxis": {
            "gridcolor": "white",
            "linecolor": "white",
            "ticks": ""
           },
           "bgcolor": "#E5ECF6",
           "caxis": {
            "gridcolor": "white",
            "linecolor": "white",
            "ticks": ""
           }
          },
          "title": {
           "x": 0.05
          },
          "xaxis": {
           "automargin": true,
           "gridcolor": "white",
           "linecolor": "white",
           "ticks": "",
           "title": {
            "standoff": 15
           },
           "zerolinecolor": "white",
           "zerolinewidth": 2
          },
          "yaxis": {
           "automargin": true,
           "gridcolor": "white",
           "linecolor": "white",
           "ticks": "",
           "title": {
            "standoff": 15
           },
           "zerolinecolor": "white",
           "zerolinewidth": 2
          }
         }
        },
        "title": {
         "text": "Most Negative Attributions"
        },
        "width": 800,
        "xaxis": {
         "anchor": "y",
         "constrain": "domain",
         "domain": [
          0,
          1
         ],
         "scaleanchor": "y",
         "title": {
          "text": "Position"
         }
        },
        "yaxis": {
         "anchor": "x",
         "autorange": "reversed",
         "constrain": "domain",
         "domain": [
          0,
          1
         ],
         "title": {
          "text": "Layer"
         }
        }
       }
      }
     },
     "metadata": {},
     "output_type": "display_data"
    }
   ],
   "source": [
    "# ### most negative attributions ###\n",
    "visualize_max_attributions(min=True)"
   ]
  },
  {
   "cell_type": "code",
   "execution_count": 25,
   "metadata": {},
   "outputs": [
    {
     "data": {
      "text/plain": [
       "tensor([10.6147, 17.9311, 10.8336,  9.9957, 19.8247, 15.1831, 12.3742],\n",
       "       device='mps:0')"
      ]
     },
     "execution_count": 25,
     "metadata": {},
     "output_type": "execute_result"
    }
   ],
   "source": [
    "# get_feature_activations(cache, 11, 23531)\n",
    "get_feature_activations(cache, 0, 2996)"
   ]
  },
  {
   "cell_type": "code",
   "execution_count": null,
   "metadata": {},
   "outputs": [],
   "source": []
  },
  {
   "cell_type": "code",
   "execution_count": 26,
   "metadata": {},
   "outputs": [],
   "source": [
    "# we will attempt to use Neel's tokenised dataset. This is not the same as the training distribution, but hopefully it doesn't matter.\n"
   ]
  },
  {
   "cell_type": "code",
   "execution_count": 27,
   "metadata": {},
   "outputs": [],
   "source": [
    "\n",
    "all_attributions = dict() # {feature_id: list of attributions}\n",
    "\n",
    "def update_attributions(tokens):\n",
    "    logits, cache = model.run_with_cache(tokens) # inefficient, but I don't care.\n",
    "    grad_dict = get_grads(TARGET_FEATURE_LAYER, TARGET_FEATURE_ID, tokens)\n",
    "    scale_cutoff = 1.0\n",
    "\n",
    "    for layer in range(model.cfg.n_layers - 1):\n",
    "        for position in range(tokens.shape[1]):\n",
    "            attribution = attribution_for_position(layer, position, cache=cache, grad_dict=grad_dict)\n",
    "\n",
    "            min_idx = attribution.argsort()[:5]\n",
    "            max_idx = attribution.argsort(descending=True)[:5]\n",
    "            min_attrib = attribution[min_idx]\n",
    "            max_attrib = attribution[max_idx]\n",
    "\n",
    "            for i, val in zip(min_idx, min_attrib):\n",
    "                ft_id = f\"{layer}_{i.item()}\"\n",
    "                if val < -scale_cutoff:\n",
    "                    all_attributions.setdefault(ft_id, []).append(val.item())\n",
    "            \n",
    "            for i, val in zip(max_idx, max_attrib):\n",
    "                ft_id = f\"{layer}_{i.item()}\"\n",
    "                if val > scale_cutoff:\n",
    "                    all_attributions.setdefault(ft_id, []).append(val.item())\n"
   ]
  },
  {
   "cell_type": "code",
   "execution_count": 28,
   "metadata": {},
   "outputs": [],
   "source": [
    "data = load_dataset(\"NeelNanda/pile-10k\", split=\"train\")\n",
    "tokenized = tokenize_and_concatenate(data, model.tokenizer, max_length=32)"
   ]
  },
  {
   "cell_type": "code",
   "execution_count": null,
   "metadata": {},
   "outputs": [
    {
     "name": "stderr",
     "output_type": "stream",
     "text": [
      "2001it [08:45,  3.81it/s]                          \n"
     ]
    }
   ],
   "source": [
    "all_attributions = dict() # {feature_id: list of attributions}\n",
    "num_steps = 2000\n",
    "\n",
    "for i, batch in enumerate(tqdm(tokenized, total=num_steps)):\n",
    "    tokens = batch[\"tokens\"]\n",
    "    tokens = tokens.unsqueeze(0)\n",
    "    logits, cache = model.run_with_cache(tokens)\n",
    "\n",
    "    acts = get_feature_activations(cache, TARGET_FEATURE_LAYER, TARGET_FEATURE_ID)\n",
    "    active_positions = (acts > 0.0).nonzero()\n",
    "\n",
    "    for pos in active_positions:\n",
    "        activation = acts[pos]\n",
    "        if activation > ACTIVATION_THRESHOLD:  # a hack to remove low activations\n",
    "            # print('activation', acts[pos].item())\n",
    "            # print(model.to_str_tokens(tokens[:, :pos+1]))\n",
    "            update_attributions(tokens[:, :pos+1])\n",
    "\n",
    "    if i > num_steps:\n",
    "        break"
   ]
  },
  {
   "cell_type": "code",
   "execution_count": null,
   "metadata": {},
   "outputs": [],
   "source": [
    "def get_top_pairs(attribution_dict, top_n=5):\n",
    "    sorted_pairs = sorted(attribution_dict.items(), key=lambda x: sum(map(abs, x[1])), reverse=True)\n",
    "    return sorted_pairs[:top_n]\n",
    "\n",
    "top_pairs = get_top_pairs(all_attributions, top_n=10)"
   ]
  },
  {
   "cell_type": "code",
   "execution_count": null,
   "metadata": {},
   "outputs": [],
   "source": [
    "# for k, v in top_pairs:\n",
    "#     print(k, v)"
   ]
  },
  {
   "cell_type": "code",
   "execution_count": null,
   "metadata": {},
   "outputs": [
    {
     "data": {
      "application/vnd.plotly.v1+json": {
       "config": {
        "plotlyServerURL": "https://plot.ly"
       },
       "data": [
        {
         "name": "10_9960",
         "opacity": 0.75,
         "type": "histogram",
         "x": [
          11.455766677856445,
          13.393523216247559,
          43.78630447387695,
          38.04539108276367,
          1.0352575778961182,
          10.815877914428711,
          1.0831729173660278,
          16.69413185119629,
          20.861127853393555,
          22.112585067749023,
          20.51312828063965,
          27.4396915435791,
          25.365938186645508,
          7.909281253814697,
          6.04331636428833,
          7.395466327667236,
          13.43917465209961,
          10.010890007019043,
          22.305503845214844,
          7.850056171417236,
          13.824283599853516,
          13.580453872680664,
          17.637792587280273,
          8.377053260803223,
          14.939456939697266,
          62.45253372192383,
          30.917537689208984,
          52.296730041503906,
          1.419379711151123,
          7.443418502807617,
          14.548831939697266,
          1.0115076303482056,
          4.866318225860596,
          18.681968688964844,
          10.707450866699219,
          5.250823497772217,
          15.306963920593262,
          28.209936141967773,
          8.264420509338379,
          70.80517578125,
          2.041452407836914,
          8.364990234375,
          6.255005359649658,
          14.937576293945312,
          2.0620474815368652,
          2.168945074081421,
          3.3797709941864014,
          13.792010307312012,
          22.703975677490234,
          8.863225936889648,
          11.916520118713379,
          29.936513900756836,
          13.933250427246094,
          14.954392433166504,
          2.0102524757385254,
          4.457181453704834,
          5.755589962005615,
          7.847507476806641,
          11.296931266784668,
          14.617145538330078,
          28.573486328125,
          22.485010147094727,
          29.10669708251953,
          28.131895065307617,
          15.538249015808105,
          17.50935173034668,
          25.429811477661133,
          8.769808769226074,
          9.98281192779541,
          17.651233673095703,
          7.045347213745117,
          9.292159080505371,
          5.39771842956543,
          2.590388059616089,
          14.072832107543945,
          26.383569717407227,
          20.476028442382812,
          5.891158580780029,
          1.4065043926239014,
          5.698022842407227,
          36.82392501831055,
          9.282362937927246,
          3.98828387260437,
          5.203333377838135,
          1.1685287952423096,
          5.4163665771484375,
          28.710813522338867,
          1.2738198041915894,
          2.3130476474761963,
          1.283456563949585,
          7.14054536819458,
          7.316340446472168,
          29.07021141052246,
          2.6233367919921875,
          2.3640472888946533,
          5.07659912109375,
          6.526042461395264,
          1.6623437404632568,
          4.070184707641602,
          1.0746281147003174,
          5.158478736877441,
          7.971976280212402,
          4.515066146850586,
          5.827432155609131,
          1.2756695747375488,
          37.59059143066406,
          12.609838485717773,
          19.122665405273438
         ],
         "xaxis": "x",
         "yaxis": "y"
        },
        {
         "name": "8_19235",
         "opacity": 0.75,
         "type": "histogram",
         "x": [
          30.465457916259766,
          28.063631057739258,
          14.5824556350708,
          15.583544731140137,
          18.544198989868164,
          2.0111687183380127,
          6.9393630027771,
          13.45667552947998,
          18.812881469726562,
          18.809141159057617,
          16.52060890197754,
          3.6565029621124268,
          15.01903247833252,
          5.027780055999756,
          13.244897842407227,
          10.087576866149902,
          15.43049144744873,
          40.717830657958984,
          22.36537742614746,
          26.278676986694336,
          2.953590154647827,
          18.43910789489746,
          4.170551776885986,
          4.960812568664551,
          11.001481056213379,
          17.68651008605957,
          50.836883544921875,
          9.53458023071289,
          1.7383054494857788,
          1.3595057725906372,
          5.656583786010742,
          7.9194655418396,
          21.39081382751465,
          6.880496501922607,
          11.105037689208984,
          20.171445846557617,
          18.66499900817871,
          11.846744537353516,
          1.591890811920166,
          9.43046760559082,
          2.853085517883301,
          8.231435775756836,
          9.961862564086914,
          14.621031761169434,
          21.16362762451172,
          19.318923950195312,
          21.310243606567383,
          21.103214263916016,
          17.51114845275879,
          2.0027835369110107,
          15.186907768249512,
          7.041780948638916,
          4.8693156242370605,
          21.590240478515625,
          14.82485580444336,
          13.051989555358887,
          51.473609924316406,
          8.919448852539062,
          8.545428276062012,
          7.101899147033691,
          15.085030555725098,
          1.0476508140563965,
          7.846699237823486,
          32.74378204345703,
          9.87934684753418,
          9.382526397705078,
          11.147530555725098,
          34.217464447021484,
          6.366279602050781,
          16.655311584472656
         ],
         "xaxis": "x2",
         "yaxis": "y2"
        },
        {
         "name": "9_24096",
         "opacity": 0.75,
         "type": "histogram",
         "x": [
          8.310942649841309,
          30.75064468383789,
          33.67824172973633,
          11.90639591217041,
          10.264029502868652,
          16.139060974121094,
          7.0811896324157715,
          12.065999031066895,
          18.0532169342041,
          12.660468101501465,
          1.2669932842254639,
          10.10892105102539,
          7.382288932800293,
          15.993481636047363,
          8.05079174041748,
          3.250366449356079,
          10.559698104858398,
          2.976694345474243,
          10.945084571838379,
          44.067108154296875,
          19.16496467590332,
          35.02521896362305,
          4.193202972412109,
          6.871295928955078,
          15.936718940734863,
          7.357498645782471,
          4.673025608062744,
          15.219002723693848,
          12.706628799438477,
          6.382801055908203,
          47.64767837524414,
          3.1992499828338623,
          1.742956280708313,
          1.5719419717788696,
          1.221603274345398,
          7.1803975105285645,
          17.766429901123047,
          2.9545769691467285,
          6.488592147827148,
          14.227496147155762,
          11.720977783203125,
          7.381305694580078,
          3.19136905670166,
          7.006645202636719,
          5.4067816734313965,
          4.082767963409424,
          8.992210388183594,
          16.655508041381836,
          12.966318130493164,
          17.10129737854004,
          16.015832901000977,
          10.43579387664795,
          25.52831268310547,
          8.713746070861816,
          2.933051824569702,
          1.6490265130996704,
          11.80871295928955,
          18.331584930419922,
          17.49660301208496,
          2.09305477142334,
          9.66585636138916,
          26.027671813964844,
          10.097790718078613,
          7.540164470672607,
          6.171048164367676,
          8.685311317443848,
          12.88990306854248,
          9.402456283569336,
          21.777732849121094,
          8.49638557434082,
          6.577528476715088,
          28.737768173217773,
          14.474587440490723
         ],
         "xaxis": "x3",
         "yaxis": "y3"
        },
        {
         "name": "2_5969",
         "opacity": 0.75,
         "type": "histogram",
         "x": [
          -8.560348510742188,
          -8.396249771118164,
          -8.668846130371094,
          -17.900066375732422,
          -9.828873634338379,
          -13.489616394042969,
          -11.002424240112305,
          -9.025967597961426,
          -10.801137924194336,
          -7.707894802093506,
          -11.057251930236816,
          -8.29857063293457,
          -7.30417013168335,
          -16.457828521728516,
          -14.798904418945312,
          -7.822278022766113,
          -11.474198341369629,
          -10.797038078308105,
          -9.717799186706543,
          -8.427915573120117,
          -9.040497779846191,
          -11.326627731323242,
          -8.436354637145996,
          -12.784253120422363,
          -11.769668579101562,
          -13.5841646194458,
          -19.396718978881836,
          -14.89345645904541,
          -14.196280479431152,
          -17.52619171142578,
          -17.508689880371094,
          -11.92422103881836,
          -15.804668426513672,
          -8.969276428222656,
          -15.177523612976074,
          -11.027778625488281,
          -13.88963508605957,
          -12.676631927490234,
          -13.790210723876953,
          -14.144474029541016,
          -14.219213485717773,
          -17.501079559326172,
          -13.004733085632324,
          -10.068483352661133,
          -10.968003273010254,
          -10.381218910217285,
          -17.023710250854492,
          -9.98399543762207,
          -13.467060089111328,
          -13.620676040649414,
          -7.604772567749023,
          -12.95156478881836,
          -10.744325637817383,
          -8.745124816894531,
          -11.276847839355469,
          -13.936230659484863,
          -11.119138717651367,
          -8.561117172241211,
          -13.319080352783203,
          -10.98108196258545,
          -13.127540588378906,
          -13.936384201049805,
          -11.59284782409668,
          -11.078224182128906
         ],
         "xaxis": "x4",
         "yaxis": "y4"
        },
        {
         "name": "2_502",
         "opacity": 0.75,
         "type": "histogram",
         "x": [
          10.318624496459961,
          17.119651794433594,
          14.690825462341309,
          12.8963623046875,
          19.117965698242188,
          9.051634788513184,
          14.783567428588867,
          15.040114402770996,
          13.830683708190918,
          12.803959846496582,
          16.31600570678711,
          8.95321273803711,
          9.16297721862793,
          15.752777099609375,
          14.328313827514648,
          14.167513847351074,
          10.223089218139648,
          15.251721382141113,
          15.918645858764648,
          12.132457733154297,
          12.143889427185059,
          20.57194709777832,
          16.46147346496582,
          10.653080940246582,
          18.620256423950195,
          13.01387882232666,
          12.135738372802734,
          14.923308372497559,
          12.384978294372559,
          12.978471755981445,
          11.548393249511719,
          12.847237586975098,
          12.258307456970215,
          12.968347549438477,
          13.622044563293457,
          11.514205932617188,
          10.226956367492676,
          11.91466999053955,
          13.546196937561035,
          9.52022647857666,
          18.388803482055664,
          8.226794242858887,
          17.012706756591797,
          19.12575340270996,
          14.849133491516113,
          16.670475006103516,
          12.54831600189209,
          14.019393920898438,
          12.553230285644531,
          14.924381256103516,
          16.21841812133789,
          11.188591957092285,
          11.786232948303223,
          11.436910629272461,
          12.829133987426758,
          10.439249992370605
         ],
         "xaxis": "x5",
         "yaxis": "y5"
        },
        {
         "name": "2_13565",
         "opacity": 0.75,
         "type": "histogram",
         "x": [
          -8.785534858703613,
          -9.501550674438477,
          -11.230563163757324,
          -9.149883270263672,
          -9.839186668395996,
          -12.341214179992676,
          -12.770976066589355,
          -10.334396362304688,
          -10.169544219970703,
          -10.604565620422363,
          -14.456257820129395,
          -8.833593368530273,
          -11.166142463684082,
          -10.231339454650879,
          -9.39340591430664,
          -7.924115180969238,
          -11.97866153717041,
          -10.604759216308594,
          -10.011458396911621,
          -12.31102466583252,
          -13.01183795928955,
          -14.638618469238281,
          -9.191502571105957,
          -7.589136123657227,
          -9.700749397277832,
          -9.283851623535156,
          -15.409309387207031,
          -13.624056816101074,
          -12.025321960449219,
          -16.873016357421875,
          -14.277986526489258,
          -5.666114330291748,
          -11.718192100524902,
          -10.624457359313965,
          -10.112571716308594,
          -9.683685302734375,
          -8.13743782043457,
          -11.909071922302246,
          -7.207047939300537,
          -16.863723754882812,
          -13.335142135620117,
          -11.397965431213379,
          -13.127044677734375,
          -13.970069885253906,
          -10.769392967224121,
          -10.320571899414062,
          -11.719889640808105,
          -8.959728240966797,
          -12.573091506958008,
          -13.832871437072754,
          -8.079203605651855,
          -8.52863883972168,
          -13.433674812316895,
          -12.412721633911133,
          -9.996925354003906,
          -12.78305721282959,
          -10.267304420471191,
          -13.976175308227539,
          -9.722725868225098,
          -8.05038070678711,
          -9.748692512512207
         ],
         "xaxis": "x6",
         "yaxis": "y6"
        },
        {
         "name": "1_16873",
         "opacity": 0.75,
         "type": "histogram",
         "x": [
          6.795770168304443,
          3.931760549545288,
          3.5173418521881104,
          -12.255847930908203,
          9.02414608001709,
          -7.816841125488281,
          5.196234703063965,
          -2.1210083961486816,
          14.965300559997559,
          1.339171051979065,
          15.257752418518066,
          19.043933868408203,
          2.530089855194092,
          -6.4462971687316895,
          1.5271809101104736,
          6.390208721160889,
          -2.9124155044555664,
          -3.4218218326568604,
          3.7462782859802246,
          -1.9565770626068115,
          8.476888656616211,
          4.441997528076172,
          18.024656295776367,
          -1.7687723636627197,
          8.456280708312988,
          7.128969192504883,
          6.642829418182373,
          -14.713469505310059,
          14.13877010345459,
          6.3114013671875,
          -6.7005414962768555,
          2.2298314571380615,
          3.9031484127044678,
          6.15783166885376,
          9.853188514709473,
          5.911409854888916,
          17.712778091430664,
          4.595841407775879,
          -5.908484935760498,
          -6.7584428787231445,
          -28.70307159423828,
          6.3000335693359375,
          8.238099098205566,
          6.986822605133057,
          6.89491081237793,
          1.885518193244934,
          7.33731746673584,
          6.3674516677856445,
          -13.202197074890137,
          12.91943645477295,
          14.994991302490234,
          14.542195320129395,
          12.085339546203613,
          10.841748237609863,
          -7.354869842529297,
          11.980574607849121,
          -1.8124991655349731,
          22.587846755981445,
          -1.866268515586853,
          2.2574756145477295,
          -3.8108878135681152,
          4.188957691192627,
          18.412477493286133,
          1.056587815284729,
          18.984634399414062,
          19.83218002319336,
          1.783608317375183,
          6.667394638061523,
          14.119074821472168,
          2.9158525466918945,
          18.643362045288086
         ],
         "xaxis": "x7",
         "yaxis": "y7"
        },
        {
         "name": "1_18075",
         "opacity": 0.75,
         "type": "histogram",
         "x": [
          13.2183198928833,
          16.609590530395508,
          3.53033709526062,
          -4.9117937088012695,
          9.91363525390625,
          -4.88869571685791,
          16.459123611450195,
          -1.3752691745758057,
          10.170974731445312,
          19.15544319152832,
          7.682542324066162,
          6.763698577880859,
          6.903106212615967,
          9.40899658203125,
          -6.196360111236572,
          13.68032169342041,
          5.086769104003906,
          3.726484775543213,
          2.121978282928467,
          9.348459243774414,
          6.3008036613464355,
          -4.257176876068115,
          5.52140474319458,
          10.227734565734863,
          6.416850566864014,
          -4.388298988342285,
          -5.43166446685791,
          13.998502731323242,
          -6.276123046875,
          12.327702522277832,
          1.971739411354065,
          -4.483964443206787,
          13.082060813903809,
          16.814451217651367,
          21.379613876342773,
          8.382062911987305,
          5.9408464431762695,
          -5.82280158996582,
          13.15324878692627,
          4.165750503540039,
          -4.869532585144043,
          9.127957344055176,
          2.0117835998535156,
          3.2410712242126465,
          3.973688840866089,
          6.58866548538208,
          5.61168909072876,
          2.477705955505371,
          -4.2404704093933105,
          5.566156387329102,
          7.250472068786621,
          6.4508514404296875,
          5.040968418121338,
          -2.454725742340088,
          1.4169859886169434,
          5.2240071296691895,
          -7.333705902099609,
          10.78458309173584,
          -6.30704927444458,
          5.733592987060547,
          -1.3487178087234497,
          7.877371788024902,
          29.548221588134766,
          -5.7085490226745605,
          4.28038215637207,
          -4.182102203369141,
          -11.071118354797363,
          7.027759552001953,
          -5.192975997924805,
          -3.712277889251709,
          6.839049339294434,
          23.250669479370117,
          6.710748672485352,
          13.903300285339355
         ],
         "xaxis": "x8",
         "yaxis": "y8"
        },
        {
         "name": "2_22032",
         "opacity": 0.75,
         "type": "histogram",
         "x": [
          6.564173698425293,
          7.951211929321289,
          5.88871431350708,
          18.426597595214844,
          -4.1596527099609375,
          5.930237293243408,
          12.501011848449707,
          11.17816162109375,
          9.829401016235352,
          10.178296089172363,
          -4.802754878997803,
          -4.727637767791748,
          -4.846845626831055,
          -7.583907604217529,
          -6.626599311828613,
          5.85107946395874,
          -3.65010142326355,
          16.457767486572266,
          3.4587223529815674,
          32.42915725708008,
          9.569450378417969,
          7.084691524505615,
          9.269174575805664,
          12.999834060668945,
          21.440326690673828,
          2.648569107055664,
          -2.6802239418029785,
          -4.069515705108643,
          7.37802791595459,
          8.04845142364502,
          3.589630126953125,
          6.471497058868408,
          -8.23979663848877,
          -1.1292957067489624,
          -2.1798300743103027,
          -8.390643119812012,
          -4.416962623596191,
          3.920738935470581,
          7.0582075119018555,
          1.5946305990219116,
          -3.0186305046081543,
          12.429071426391602,
          9.10360050201416,
          5.293681621551514,
          -9.23159408569336,
          14.628218650817871,
          14.102794647216797,
          15.240691184997559,
          12.696440696716309,
          2.7529006004333496,
          -11.78534984588623,
          13.078311920166016,
          7.005095958709717,
          16.397436141967773,
          1.8849363327026367,
          -2.1917057037353516,
          1.3007469177246094,
          35.20256423950195,
          15.580181121826172,
          14.794388771057129,
          10.715250968933105,
          12.384754180908203,
          -4.444077968597412,
          11.583324432373047
         ],
         "xaxis": "x9",
         "yaxis": "y9"
        },
        {
         "name": "1_3945",
         "opacity": 0.75,
         "type": "histogram",
         "x": [
          6.482938766479492,
          -3.8195059299468994,
          16.76409339904785,
          -4.818271636962891,
          -6.616062164306641,
          10.524382591247559,
          -1.8079315423965454,
          -1.7370283603668213,
          8.256338119506836,
          14.311118125915527,
          6.160222053527832,
          6.6241679191589355,
          11.521078109741211,
          6.508237361907959,
          -1.2137430906295776,
          9.32624626159668,
          11.527655601501465,
          6.951380252838135,
          15.587150573730469,
          7.900311470031738,
          9.414761543273926,
          10.374298095703125,
          6.117302894592285,
          -20.845787048339844,
          9.543810844421387,
          6.904969215393066,
          7.206942558288574,
          -4.5848822593688965,
          7.542242527008057,
          5.179165840148926,
          5.144646167755127,
          9.396499633789062,
          16.195650100708008,
          13.631433486938477,
          11.60242748260498,
          10.471528053283691,
          6.624743461608887,
          16.5245418548584,
          12.143975257873535,
          5.87722635269165,
          14.534002304077148,
          8.385226249694824,
          8.165295600891113,
          12.17049789428711,
          6.9048566818237305,
          18.778324127197266,
          -4.150421142578125,
          10.150583267211914,
          12.985464096069336,
          6.518272876739502,
          8.011226654052734,
          7.21671199798584,
          7.1253252029418945,
          7.251698017120361,
          11.216506004333496,
          10.016316413879395,
          11.245257377624512,
          15.375173568725586,
          5.465622901916504,
          7.150566577911377
         ],
         "xaxis": "x10",
         "yaxis": "y10"
        }
       ],
       "layout": {
        "annotations": [
         {
          "font": {
           "size": 16
          },
          "showarrow": false,
          "text": "10_9960",
          "x": 0.5,
          "xanchor": "center",
          "xref": "paper",
          "y": 1,
          "yanchor": "bottom",
          "yref": "paper"
         },
         {
          "font": {
           "size": 16
          },
          "showarrow": false,
          "text": "8_19235",
          "x": 0.5,
          "xanchor": "center",
          "xref": "paper",
          "y": 0.8950000000000001,
          "yanchor": "bottom",
          "yref": "paper"
         },
         {
          "font": {
           "size": 16
          },
          "showarrow": false,
          "text": "9_24096",
          "x": 0.5,
          "xanchor": "center",
          "xref": "paper",
          "y": 0.7900000000000001,
          "yanchor": "bottom",
          "yref": "paper"
         },
         {
          "font": {
           "size": 16
          },
          "showarrow": false,
          "text": "2_5969",
          "x": 0.5,
          "xanchor": "center",
          "xref": "paper",
          "y": 0.6850000000000002,
          "yanchor": "bottom",
          "yref": "paper"
         },
         {
          "font": {
           "size": 16
          },
          "showarrow": false,
          "text": "2_502",
          "x": 0.5,
          "xanchor": "center",
          "xref": "paper",
          "y": 0.5800000000000001,
          "yanchor": "bottom",
          "yref": "paper"
         },
         {
          "font": {
           "size": 16
          },
          "showarrow": false,
          "text": "2_13565",
          "x": 0.5,
          "xanchor": "center",
          "xref": "paper",
          "y": 0.47500000000000003,
          "yanchor": "bottom",
          "yref": "paper"
         },
         {
          "font": {
           "size": 16
          },
          "showarrow": false,
          "text": "1_16873",
          "x": 0.5,
          "xanchor": "center",
          "xref": "paper",
          "y": 0.37000000000000005,
          "yanchor": "bottom",
          "yref": "paper"
         },
         {
          "font": {
           "size": 16
          },
          "showarrow": false,
          "text": "1_18075",
          "x": 0.5,
          "xanchor": "center",
          "xref": "paper",
          "y": 0.265,
          "yanchor": "bottom",
          "yref": "paper"
         },
         {
          "font": {
           "size": 16
          },
          "showarrow": false,
          "text": "2_22032",
          "x": 0.5,
          "xanchor": "center",
          "xref": "paper",
          "y": 0.16000000000000003,
          "yanchor": "bottom",
          "yref": "paper"
         },
         {
          "font": {
           "size": 16
          },
          "showarrow": false,
          "text": "1_3945",
          "x": 0.5,
          "xanchor": "center",
          "xref": "paper",
          "y": 0.05500000000000001,
          "yanchor": "bottom",
          "yref": "paper"
         }
        ],
        "height": 3000,
        "shapes": [
         {
          "line": {
           "color": "black",
           "dash": "dash",
           "width": 1
          },
          "type": "line",
          "x0": 0,
          "x1": 0,
          "xref": "x",
          "y0": 0,
          "y1": 1,
          "yref": "y domain"
         },
         {
          "line": {
           "color": "black",
           "dash": "dash",
           "width": 1
          },
          "type": "line",
          "x0": 0,
          "x1": 0,
          "xref": "x2",
          "y0": 0,
          "y1": 1,
          "yref": "y2 domain"
         },
         {
          "line": {
           "color": "black",
           "dash": "dash",
           "width": 1
          },
          "type": "line",
          "x0": 0,
          "x1": 0,
          "xref": "x3",
          "y0": 0,
          "y1": 1,
          "yref": "y3 domain"
         },
         {
          "line": {
           "color": "black",
           "dash": "dash",
           "width": 1
          },
          "type": "line",
          "x0": 0,
          "x1": 0,
          "xref": "x4",
          "y0": 0,
          "y1": 1,
          "yref": "y4 domain"
         },
         {
          "line": {
           "color": "black",
           "dash": "dash",
           "width": 1
          },
          "type": "line",
          "x0": 0,
          "x1": 0,
          "xref": "x5",
          "y0": 0,
          "y1": 1,
          "yref": "y5 domain"
         },
         {
          "line": {
           "color": "black",
           "dash": "dash",
           "width": 1
          },
          "type": "line",
          "x0": 0,
          "x1": 0,
          "xref": "x6",
          "y0": 0,
          "y1": 1,
          "yref": "y6 domain"
         },
         {
          "line": {
           "color": "black",
           "dash": "dash",
           "width": 1
          },
          "type": "line",
          "x0": 0,
          "x1": 0,
          "xref": "x7",
          "y0": 0,
          "y1": 1,
          "yref": "y7 domain"
         },
         {
          "line": {
           "color": "black",
           "dash": "dash",
           "width": 1
          },
          "type": "line",
          "x0": 0,
          "x1": 0,
          "xref": "x8",
          "y0": 0,
          "y1": 1,
          "yref": "y8 domain"
         },
         {
          "line": {
           "color": "black",
           "dash": "dash",
           "width": 1
          },
          "type": "line",
          "x0": 0,
          "x1": 0,
          "xref": "x9",
          "y0": 0,
          "y1": 1,
          "yref": "y9 domain"
         },
         {
          "line": {
           "color": "black",
           "dash": "dash",
           "width": 1
          },
          "type": "line",
          "x0": 0,
          "x1": 0,
          "xref": "x10",
          "y0": 0,
          "y1": 1,
          "yref": "y10 domain"
         }
        ],
        "showlegend": false,
        "template": {
         "data": {
          "bar": [
           {
            "error_x": {
             "color": "#2a3f5f"
            },
            "error_y": {
             "color": "#2a3f5f"
            },
            "marker": {
             "line": {
              "color": "#E5ECF6",
              "width": 0.5
             },
             "pattern": {
              "fillmode": "overlay",
              "size": 10,
              "solidity": 0.2
             }
            },
            "type": "bar"
           }
          ],
          "barpolar": [
           {
            "marker": {
             "line": {
              "color": "#E5ECF6",
              "width": 0.5
             },
             "pattern": {
              "fillmode": "overlay",
              "size": 10,
              "solidity": 0.2
             }
            },
            "type": "barpolar"
           }
          ],
          "carpet": [
           {
            "aaxis": {
             "endlinecolor": "#2a3f5f",
             "gridcolor": "white",
             "linecolor": "white",
             "minorgridcolor": "white",
             "startlinecolor": "#2a3f5f"
            },
            "baxis": {
             "endlinecolor": "#2a3f5f",
             "gridcolor": "white",
             "linecolor": "white",
             "minorgridcolor": "white",
             "startlinecolor": "#2a3f5f"
            },
            "type": "carpet"
           }
          ],
          "choropleth": [
           {
            "colorbar": {
             "outlinewidth": 0,
             "ticks": ""
            },
            "type": "choropleth"
           }
          ],
          "contour": [
           {
            "colorbar": {
             "outlinewidth": 0,
             "ticks": ""
            },
            "colorscale": [
             [
              0,
              "#0d0887"
             ],
             [
              0.1111111111111111,
              "#46039f"
             ],
             [
              0.2222222222222222,
              "#7201a8"
             ],
             [
              0.3333333333333333,
              "#9c179e"
             ],
             [
              0.4444444444444444,
              "#bd3786"
             ],
             [
              0.5555555555555556,
              "#d8576b"
             ],
             [
              0.6666666666666666,
              "#ed7953"
             ],
             [
              0.7777777777777778,
              "#fb9f3a"
             ],
             [
              0.8888888888888888,
              "#fdca26"
             ],
             [
              1,
              "#f0f921"
             ]
            ],
            "type": "contour"
           }
          ],
          "contourcarpet": [
           {
            "colorbar": {
             "outlinewidth": 0,
             "ticks": ""
            },
            "type": "contourcarpet"
           }
          ],
          "heatmap": [
           {
            "colorbar": {
             "outlinewidth": 0,
             "ticks": ""
            },
            "colorscale": [
             [
              0,
              "#0d0887"
             ],
             [
              0.1111111111111111,
              "#46039f"
             ],
             [
              0.2222222222222222,
              "#7201a8"
             ],
             [
              0.3333333333333333,
              "#9c179e"
             ],
             [
              0.4444444444444444,
              "#bd3786"
             ],
             [
              0.5555555555555556,
              "#d8576b"
             ],
             [
              0.6666666666666666,
              "#ed7953"
             ],
             [
              0.7777777777777778,
              "#fb9f3a"
             ],
             [
              0.8888888888888888,
              "#fdca26"
             ],
             [
              1,
              "#f0f921"
             ]
            ],
            "type": "heatmap"
           }
          ],
          "heatmapgl": [
           {
            "colorbar": {
             "outlinewidth": 0,
             "ticks": ""
            },
            "colorscale": [
             [
              0,
              "#0d0887"
             ],
             [
              0.1111111111111111,
              "#46039f"
             ],
             [
              0.2222222222222222,
              "#7201a8"
             ],
             [
              0.3333333333333333,
              "#9c179e"
             ],
             [
              0.4444444444444444,
              "#bd3786"
             ],
             [
              0.5555555555555556,
              "#d8576b"
             ],
             [
              0.6666666666666666,
              "#ed7953"
             ],
             [
              0.7777777777777778,
              "#fb9f3a"
             ],
             [
              0.8888888888888888,
              "#fdca26"
             ],
             [
              1,
              "#f0f921"
             ]
            ],
            "type": "heatmapgl"
           }
          ],
          "histogram": [
           {
            "marker": {
             "pattern": {
              "fillmode": "overlay",
              "size": 10,
              "solidity": 0.2
             }
            },
            "type": "histogram"
           }
          ],
          "histogram2d": [
           {
            "colorbar": {
             "outlinewidth": 0,
             "ticks": ""
            },
            "colorscale": [
             [
              0,
              "#0d0887"
             ],
             [
              0.1111111111111111,
              "#46039f"
             ],
             [
              0.2222222222222222,
              "#7201a8"
             ],
             [
              0.3333333333333333,
              "#9c179e"
             ],
             [
              0.4444444444444444,
              "#bd3786"
             ],
             [
              0.5555555555555556,
              "#d8576b"
             ],
             [
              0.6666666666666666,
              "#ed7953"
             ],
             [
              0.7777777777777778,
              "#fb9f3a"
             ],
             [
              0.8888888888888888,
              "#fdca26"
             ],
             [
              1,
              "#f0f921"
             ]
            ],
            "type": "histogram2d"
           }
          ],
          "histogram2dcontour": [
           {
            "colorbar": {
             "outlinewidth": 0,
             "ticks": ""
            },
            "colorscale": [
             [
              0,
              "#0d0887"
             ],
             [
              0.1111111111111111,
              "#46039f"
             ],
             [
              0.2222222222222222,
              "#7201a8"
             ],
             [
              0.3333333333333333,
              "#9c179e"
             ],
             [
              0.4444444444444444,
              "#bd3786"
             ],
             [
              0.5555555555555556,
              "#d8576b"
             ],
             [
              0.6666666666666666,
              "#ed7953"
             ],
             [
              0.7777777777777778,
              "#fb9f3a"
             ],
             [
              0.8888888888888888,
              "#fdca26"
             ],
             [
              1,
              "#f0f921"
             ]
            ],
            "type": "histogram2dcontour"
           }
          ],
          "mesh3d": [
           {
            "colorbar": {
             "outlinewidth": 0,
             "ticks": ""
            },
            "type": "mesh3d"
           }
          ],
          "parcoords": [
           {
            "line": {
             "colorbar": {
              "outlinewidth": 0,
              "ticks": ""
             }
            },
            "type": "parcoords"
           }
          ],
          "pie": [
           {
            "automargin": true,
            "type": "pie"
           }
          ],
          "scatter": [
           {
            "fillpattern": {
             "fillmode": "overlay",
             "size": 10,
             "solidity": 0.2
            },
            "type": "scatter"
           }
          ],
          "scatter3d": [
           {
            "line": {
             "colorbar": {
              "outlinewidth": 0,
              "ticks": ""
             }
            },
            "marker": {
             "colorbar": {
              "outlinewidth": 0,
              "ticks": ""
             }
            },
            "type": "scatter3d"
           }
          ],
          "scattercarpet": [
           {
            "marker": {
             "colorbar": {
              "outlinewidth": 0,
              "ticks": ""
             }
            },
            "type": "scattercarpet"
           }
          ],
          "scattergeo": [
           {
            "marker": {
             "colorbar": {
              "outlinewidth": 0,
              "ticks": ""
             }
            },
            "type": "scattergeo"
           }
          ],
          "scattergl": [
           {
            "marker": {
             "colorbar": {
              "outlinewidth": 0,
              "ticks": ""
             }
            },
            "type": "scattergl"
           }
          ],
          "scattermapbox": [
           {
            "marker": {
             "colorbar": {
              "outlinewidth": 0,
              "ticks": ""
             }
            },
            "type": "scattermapbox"
           }
          ],
          "scatterpolar": [
           {
            "marker": {
             "colorbar": {
              "outlinewidth": 0,
              "ticks": ""
             }
            },
            "type": "scatterpolar"
           }
          ],
          "scatterpolargl": [
           {
            "marker": {
             "colorbar": {
              "outlinewidth": 0,
              "ticks": ""
             }
            },
            "type": "scatterpolargl"
           }
          ],
          "scatterternary": [
           {
            "marker": {
             "colorbar": {
              "outlinewidth": 0,
              "ticks": ""
             }
            },
            "type": "scatterternary"
           }
          ],
          "surface": [
           {
            "colorbar": {
             "outlinewidth": 0,
             "ticks": ""
            },
            "colorscale": [
             [
              0,
              "#0d0887"
             ],
             [
              0.1111111111111111,
              "#46039f"
             ],
             [
              0.2222222222222222,
              "#7201a8"
             ],
             [
              0.3333333333333333,
              "#9c179e"
             ],
             [
              0.4444444444444444,
              "#bd3786"
             ],
             [
              0.5555555555555556,
              "#d8576b"
             ],
             [
              0.6666666666666666,
              "#ed7953"
             ],
             [
              0.7777777777777778,
              "#fb9f3a"
             ],
             [
              0.8888888888888888,
              "#fdca26"
             ],
             [
              1,
              "#f0f921"
             ]
            ],
            "type": "surface"
           }
          ],
          "table": [
           {
            "cells": {
             "fill": {
              "color": "#EBF0F8"
             },
             "line": {
              "color": "white"
             }
            },
            "header": {
             "fill": {
              "color": "#C8D4E3"
             },
             "line": {
              "color": "white"
             }
            },
            "type": "table"
           }
          ]
         },
         "layout": {
          "annotationdefaults": {
           "arrowcolor": "#2a3f5f",
           "arrowhead": 0,
           "arrowwidth": 1
          },
          "autotypenumbers": "strict",
          "coloraxis": {
           "colorbar": {
            "outlinewidth": 0,
            "ticks": ""
           }
          },
          "colorscale": {
           "diverging": [
            [
             0,
             "#8e0152"
            ],
            [
             0.1,
             "#c51b7d"
            ],
            [
             0.2,
             "#de77ae"
            ],
            [
             0.3,
             "#f1b6da"
            ],
            [
             0.4,
             "#fde0ef"
            ],
            [
             0.5,
             "#f7f7f7"
            ],
            [
             0.6,
             "#e6f5d0"
            ],
            [
             0.7,
             "#b8e186"
            ],
            [
             0.8,
             "#7fbc41"
            ],
            [
             0.9,
             "#4d9221"
            ],
            [
             1,
             "#276419"
            ]
           ],
           "sequential": [
            [
             0,
             "#0d0887"
            ],
            [
             0.1111111111111111,
             "#46039f"
            ],
            [
             0.2222222222222222,
             "#7201a8"
            ],
            [
             0.3333333333333333,
             "#9c179e"
            ],
            [
             0.4444444444444444,
             "#bd3786"
            ],
            [
             0.5555555555555556,
             "#d8576b"
            ],
            [
             0.6666666666666666,
             "#ed7953"
            ],
            [
             0.7777777777777778,
             "#fb9f3a"
            ],
            [
             0.8888888888888888,
             "#fdca26"
            ],
            [
             1,
             "#f0f921"
            ]
           ],
           "sequentialminus": [
            [
             0,
             "#0d0887"
            ],
            [
             0.1111111111111111,
             "#46039f"
            ],
            [
             0.2222222222222222,
             "#7201a8"
            ],
            [
             0.3333333333333333,
             "#9c179e"
            ],
            [
             0.4444444444444444,
             "#bd3786"
            ],
            [
             0.5555555555555556,
             "#d8576b"
            ],
            [
             0.6666666666666666,
             "#ed7953"
            ],
            [
             0.7777777777777778,
             "#fb9f3a"
            ],
            [
             0.8888888888888888,
             "#fdca26"
            ],
            [
             1,
             "#f0f921"
            ]
           ]
          },
          "colorway": [
           "#636efa",
           "#EF553B",
           "#00cc96",
           "#ab63fa",
           "#FFA15A",
           "#19d3f3",
           "#FF6692",
           "#B6E880",
           "#FF97FF",
           "#FECB52"
          ],
          "font": {
           "color": "#2a3f5f"
          },
          "geo": {
           "bgcolor": "white",
           "lakecolor": "white",
           "landcolor": "#E5ECF6",
           "showlakes": true,
           "showland": true,
           "subunitcolor": "white"
          },
          "hoverlabel": {
           "align": "left"
          },
          "hovermode": "closest",
          "mapbox": {
           "style": "light"
          },
          "paper_bgcolor": "white",
          "plot_bgcolor": "#E5ECF6",
          "polar": {
           "angularaxis": {
            "gridcolor": "white",
            "linecolor": "white",
            "ticks": ""
           },
           "bgcolor": "#E5ECF6",
           "radialaxis": {
            "gridcolor": "white",
            "linecolor": "white",
            "ticks": ""
           }
          },
          "scene": {
           "xaxis": {
            "backgroundcolor": "#E5ECF6",
            "gridcolor": "white",
            "gridwidth": 2,
            "linecolor": "white",
            "showbackground": true,
            "ticks": "",
            "zerolinecolor": "white"
           },
           "yaxis": {
            "backgroundcolor": "#E5ECF6",
            "gridcolor": "white",
            "gridwidth": 2,
            "linecolor": "white",
            "showbackground": true,
            "ticks": "",
            "zerolinecolor": "white"
           },
           "zaxis": {
            "backgroundcolor": "#E5ECF6",
            "gridcolor": "white",
            "gridwidth": 2,
            "linecolor": "white",
            "showbackground": true,
            "ticks": "",
            "zerolinecolor": "white"
           }
          },
          "shapedefaults": {
           "line": {
            "color": "#2a3f5f"
           }
          },
          "ternary": {
           "aaxis": {
            "gridcolor": "white",
            "linecolor": "white",
            "ticks": ""
           },
           "baxis": {
            "gridcolor": "white",
            "linecolor": "white",
            "ticks": ""
           },
           "bgcolor": "#E5ECF6",
           "caxis": {
            "gridcolor": "white",
            "linecolor": "white",
            "ticks": ""
           }
          },
          "title": {
           "x": 0.05
          },
          "xaxis": {
           "automargin": true,
           "gridcolor": "white",
           "linecolor": "white",
           "ticks": "",
           "title": {
            "standoff": 15
           },
           "zerolinecolor": "white",
           "zerolinewidth": 2
          },
          "yaxis": {
           "automargin": true,
           "gridcolor": "white",
           "linecolor": "white",
           "ticks": "",
           "title": {
            "standoff": 15
           },
           "zerolinecolor": "white",
           "zerolinewidth": 2
          }
         }
        },
        "title": {
         "text": "Histograms of Attribution Values"
        },
        "xaxis": {
         "anchor": "y",
         "domain": [
          0,
          1
         ],
         "range": [
          -40,
          75
         ]
        },
        "xaxis10": {
         "anchor": "y10",
         "domain": [
          0,
          1
         ],
         "range": [
          -40,
          75
         ]
        },
        "xaxis2": {
         "anchor": "y2",
         "domain": [
          0,
          1
         ],
         "range": [
          -40,
          75
         ]
        },
        "xaxis3": {
         "anchor": "y3",
         "domain": [
          0,
          1
         ],
         "range": [
          -40,
          75
         ]
        },
        "xaxis4": {
         "anchor": "y4",
         "domain": [
          0,
          1
         ],
         "range": [
          -40,
          75
         ]
        },
        "xaxis5": {
         "anchor": "y5",
         "domain": [
          0,
          1
         ],
         "range": [
          -40,
          75
         ]
        },
        "xaxis6": {
         "anchor": "y6",
         "domain": [
          0,
          1
         ],
         "range": [
          -40,
          75
         ]
        },
        "xaxis7": {
         "anchor": "y7",
         "domain": [
          0,
          1
         ],
         "range": [
          -40,
          75
         ]
        },
        "xaxis8": {
         "anchor": "y8",
         "domain": [
          0,
          1
         ],
         "range": [
          -40,
          75
         ]
        },
        "xaxis9": {
         "anchor": "y9",
         "domain": [
          0,
          1
         ],
         "range": [
          -40,
          75
         ]
        },
        "yaxis": {
         "anchor": "x",
         "domain": [
          0.9450000000000001,
          1
         ]
        },
        "yaxis10": {
         "anchor": "x10",
         "domain": [
          0,
          0.05500000000000001
         ]
        },
        "yaxis2": {
         "anchor": "x2",
         "domain": [
          0.8400000000000001,
          0.8950000000000001
         ]
        },
        "yaxis3": {
         "anchor": "x3",
         "domain": [
          0.7350000000000001,
          0.7900000000000001
         ]
        },
        "yaxis4": {
         "anchor": "x4",
         "domain": [
          0.6300000000000001,
          0.6850000000000002
         ]
        },
        "yaxis5": {
         "anchor": "x5",
         "domain": [
          0.525,
          0.5800000000000001
         ]
        },
        "yaxis6": {
         "anchor": "x6",
         "domain": [
          0.42000000000000004,
          0.47500000000000003
         ]
        },
        "yaxis7": {
         "anchor": "x7",
         "domain": [
          0.31500000000000006,
          0.37000000000000005
         ]
        },
        "yaxis8": {
         "anchor": "x8",
         "domain": [
          0.21000000000000002,
          0.265
         ]
        },
        "yaxis9": {
         "anchor": "x9",
         "domain": [
          0.10500000000000001,
          0.16000000000000003
         ]
        }
       }
      }
     },
     "metadata": {},
     "output_type": "display_data"
    }
   ],
   "source": [
    "## thanks Claude!\n",
    "\n",
    "import plotly.graph_objects as go\n",
    "from plotly.subplots import make_subplots\n",
    "\n",
    "# Create a subplot figure with len(top_pairs) rows and 1 column\n",
    "fig = make_subplots(rows=len(top_pairs), cols=1, subplot_titles=[pair[0] for pair in top_pairs])\n",
    "\n",
    "# Iterate over each element in top_pairs and its corresponding index\n",
    "for i, (feature_id, attribution_values) in enumerate(top_pairs, start=1):\n",
    "    # Create a histogram trace for each element\n",
    "    trace = go.Histogram(\n",
    "        x=attribution_values,\n",
    "        name=feature_id,\n",
    "        opacity=0.75\n",
    "    )\n",
    "    \n",
    "    # Add the trace to the corresponding subplot\n",
    "    fig.add_trace(trace, row=i, col=1)\n",
    "    \n",
    "    # Add a vertical line at x=0 for each subplot\n",
    "    fig.add_vline(x=0, row=i, col=1, line_width=1, line_dash=\"dash\", line_color=\"black\")\n",
    "\n",
    "# Update the layout\n",
    "fig.update_layout(\n",
    "    title='Histograms of Attribution Values',\n",
    "    height=300 * len(top_pairs),  # Adjust the height based on the number of subplots\n",
    "    showlegend=False\n",
    ")\n",
    "\n",
    "# Update x-axis range for each subplot\n",
    "for i in range(1, len(top_pairs) + 1):\n",
    "    fig.update_xaxes(range=[-40, 75], row=i, col=1)\n",
    "\n",
    "# Display the figure\n",
    "fig.show()"
   ]
  },
  {
   "cell_type": "code",
   "execution_count": null,
   "metadata": {},
   "outputs": [],
   "source": []
  },
  {
   "cell_type": "code",
   "execution_count": null,
   "metadata": {},
   "outputs": [],
   "source": []
  },
  {
   "cell_type": "code",
   "execution_count": null,
   "metadata": {},
   "outputs": [],
   "source": []
  }
 ],
 "metadata": {
  "kernelspec": {
   "display_name": ".venv",
   "language": "python",
   "name": "python3"
  },
  "language_info": {
   "codemirror_mode": {
    "name": "ipython",
    "version": 3
   },
   "file_extension": ".py",
   "mimetype": "text/x-python",
   "name": "python",
   "nbconvert_exporter": "python",
   "pygments_lexer": "ipython3",
   "version": "3.9.12"
  }
 },
 "nbformat": 4,
 "nbformat_minor": 2
}
